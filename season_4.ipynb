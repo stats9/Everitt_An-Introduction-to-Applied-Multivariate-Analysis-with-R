{
 "cells": [
  {
   "cell_type": "code",
   "execution_count": 99,
   "metadata": {
    "vscode": {
     "languageId": "r"
    }
   },
   "outputs": [],
   "source": [
    "library(tidyverse)\n",
    "library(MVA)\n",
    "library(FactoMineR)\n",
    "library(MASS)"
   ]
  },
  {
   "cell_type": "markdown",
   "metadata": {},
   "source": [
    "$$\n",
    "\\begin{align*}\n",
    "& \\text{Ex. 4.1 Consider 51 objects}~O_1, ..., O_{51}~ \\text{assumed to be arranged along a straight line with the}\\\\\n",
    "& \\text{jth object being located at a point with coordinate}~j. ~ \\text{Define the similarity }s_{ij}~ \\text{between object }i~\\text{and object }j~\\text{as} \\\\\n",
    "& s_{ij} = \\begin{cases}\n",
    "9 & \\text{if} & i = j \\\\\n",
    "8 & \\text{if} & 1 \\leq |i-j|\\leq 3\\\\\n",
    "7 & \\text{if} & 4 \\leq |i-j| \\leq 6 \\\\\n",
    "\\cdots \\\\\n",
    "1 & \\text{if} & 22 \\leq |i-j| \\leq 24 \\\\\n",
    "0 & \\text{if} & |i-j| \\geq 25. \n",
    "\\end{cases}\\\\\n",
    "& \\text{Convert these similarities into dissimilarities }(\\delta_{ij}) ~\\text{by using} \\\\\n",
    "& \\begin{equation*} \\delta_{ij} = \\sqrt{s_{ii} + s_{jj} -2s_{ij}} \\end{equation*} \\\\\n",
    "& \\text{and then apply classical multidimensional scaling to the resulting dissimalarity matrix. Explain the shape of the derrived two-dimensional soloution.}\n",
    "\\end{align*}\n",
    "$$"
   ]
  },
  {
   "cell_type": "code",
   "execution_count": 100,
   "metadata": {
    "vscode": {
     "languageId": "r"
    }
   },
   "outputs": [
    {
     "data": {
      "text/html": [
       "<table class=\"dataframe\">\n",
       "<caption>A matrix: 6 × 51 of type dbl</caption>\n",
       "<thead>\n",
       "\t<tr><th></th><th scope=col>O1</th><th scope=col>O2</th><th scope=col>O3</th><th scope=col>O4</th><th scope=col>O5</th><th scope=col>O6</th><th scope=col>O7</th><th scope=col>O8</th><th scope=col>O9</th><th scope=col>O10</th><th scope=col>⋯</th><th scope=col>O42</th><th scope=col>O43</th><th scope=col>O44</th><th scope=col>O45</th><th scope=col>O46</th><th scope=col>O47</th><th scope=col>O48</th><th scope=col>O49</th><th scope=col>O50</th><th scope=col>O51</th></tr>\n",
       "</thead>\n",
       "<tbody>\n",
       "\t<tr><th scope=row>O1</th><td>0.000</td><td>1.414</td><td>1.414</td><td>1.414</td><td>2.000</td><td>2.000</td><td>2.000</td><td>2.449</td><td>2.449</td><td>2.449</td><td>⋯</td><td>4.243</td><td>4.243</td><td>4.243</td><td>4.243</td><td>4.243</td><td>4.243</td><td>4.243</td><td>4.243</td><td>4.243</td><td>4.243</td></tr>\n",
       "\t<tr><th scope=row>O2</th><td>1.414</td><td>0.000</td><td>1.414</td><td>1.414</td><td>1.414</td><td>2.000</td><td>2.000</td><td>2.000</td><td>2.449</td><td>2.449</td><td>⋯</td><td>4.243</td><td>4.243</td><td>4.243</td><td>4.243</td><td>4.243</td><td>4.243</td><td>4.243</td><td>4.243</td><td>4.243</td><td>4.243</td></tr>\n",
       "\t<tr><th scope=row>O3</th><td>1.414</td><td>1.414</td><td>0.000</td><td>1.414</td><td>1.414</td><td>1.414</td><td>2.000</td><td>2.000</td><td>2.000</td><td>2.449</td><td>⋯</td><td>4.243</td><td>4.243</td><td>4.243</td><td>4.243</td><td>4.243</td><td>4.243</td><td>4.243</td><td>4.243</td><td>4.243</td><td>4.243</td></tr>\n",
       "\t<tr><th scope=row>O4</th><td>1.414</td><td>1.414</td><td>1.414</td><td>0.000</td><td>1.414</td><td>1.414</td><td>1.414</td><td>2.000</td><td>2.000</td><td>2.000</td><td>⋯</td><td>4.243</td><td>4.243</td><td>4.243</td><td>4.243</td><td>4.243</td><td>4.243</td><td>4.243</td><td>4.243</td><td>4.243</td><td>4.243</td></tr>\n",
       "\t<tr><th scope=row>O5</th><td>2.000</td><td>1.414</td><td>1.414</td><td>1.414</td><td>0.000</td><td>1.414</td><td>1.414</td><td>1.414</td><td>2.000</td><td>2.000</td><td>⋯</td><td>4.243</td><td>4.243</td><td>4.243</td><td>4.243</td><td>4.243</td><td>4.243</td><td>4.243</td><td>4.243</td><td>4.243</td><td>4.243</td></tr>\n",
       "\t<tr><th scope=row>O6</th><td>2.000</td><td>2.000</td><td>1.414</td><td>1.414</td><td>1.414</td><td>0.000</td><td>1.414</td><td>1.414</td><td>1.414</td><td>2.000</td><td>⋯</td><td>4.243</td><td>4.243</td><td>4.243</td><td>4.243</td><td>4.243</td><td>4.243</td><td>4.243</td><td>4.243</td><td>4.243</td><td>4.243</td></tr>\n",
       "</tbody>\n",
       "</table>\n"
      ],
      "text/latex": [
       "A matrix: 6 × 51 of type dbl\n",
       "\\begin{tabular}{r|lllllllllllllllllllll}\n",
       "  & O1 & O2 & O3 & O4 & O5 & O6 & O7 & O8 & O9 & O10 & ⋯ & O42 & O43 & O44 & O45 & O46 & O47 & O48 & O49 & O50 & O51\\\\\n",
       "\\hline\n",
       "\tO1 & 0.000 & 1.414 & 1.414 & 1.414 & 2.000 & 2.000 & 2.000 & 2.449 & 2.449 & 2.449 & ⋯ & 4.243 & 4.243 & 4.243 & 4.243 & 4.243 & 4.243 & 4.243 & 4.243 & 4.243 & 4.243\\\\\n",
       "\tO2 & 1.414 & 0.000 & 1.414 & 1.414 & 1.414 & 2.000 & 2.000 & 2.000 & 2.449 & 2.449 & ⋯ & 4.243 & 4.243 & 4.243 & 4.243 & 4.243 & 4.243 & 4.243 & 4.243 & 4.243 & 4.243\\\\\n",
       "\tO3 & 1.414 & 1.414 & 0.000 & 1.414 & 1.414 & 1.414 & 2.000 & 2.000 & 2.000 & 2.449 & ⋯ & 4.243 & 4.243 & 4.243 & 4.243 & 4.243 & 4.243 & 4.243 & 4.243 & 4.243 & 4.243\\\\\n",
       "\tO4 & 1.414 & 1.414 & 1.414 & 0.000 & 1.414 & 1.414 & 1.414 & 2.000 & 2.000 & 2.000 & ⋯ & 4.243 & 4.243 & 4.243 & 4.243 & 4.243 & 4.243 & 4.243 & 4.243 & 4.243 & 4.243\\\\\n",
       "\tO5 & 2.000 & 1.414 & 1.414 & 1.414 & 0.000 & 1.414 & 1.414 & 1.414 & 2.000 & 2.000 & ⋯ & 4.243 & 4.243 & 4.243 & 4.243 & 4.243 & 4.243 & 4.243 & 4.243 & 4.243 & 4.243\\\\\n",
       "\tO6 & 2.000 & 2.000 & 1.414 & 1.414 & 1.414 & 0.000 & 1.414 & 1.414 & 1.414 & 2.000 & ⋯ & 4.243 & 4.243 & 4.243 & 4.243 & 4.243 & 4.243 & 4.243 & 4.243 & 4.243 & 4.243\\\\\n",
       "\\end{tabular}\n"
      ],
      "text/markdown": [
       "\n",
       "A matrix: 6 × 51 of type dbl\n",
       "\n",
       "| <!--/--> | O1 | O2 | O3 | O4 | O5 | O6 | O7 | O8 | O9 | O10 | ⋯ | O42 | O43 | O44 | O45 | O46 | O47 | O48 | O49 | O50 | O51 |\n",
       "|---|---|---|---|---|---|---|---|---|---|---|---|---|---|---|---|---|---|---|---|---|---|\n",
       "| O1 | 0.000 | 1.414 | 1.414 | 1.414 | 2.000 | 2.000 | 2.000 | 2.449 | 2.449 | 2.449 | ⋯ | 4.243 | 4.243 | 4.243 | 4.243 | 4.243 | 4.243 | 4.243 | 4.243 | 4.243 | 4.243 |\n",
       "| O2 | 1.414 | 0.000 | 1.414 | 1.414 | 1.414 | 2.000 | 2.000 | 2.000 | 2.449 | 2.449 | ⋯ | 4.243 | 4.243 | 4.243 | 4.243 | 4.243 | 4.243 | 4.243 | 4.243 | 4.243 | 4.243 |\n",
       "| O3 | 1.414 | 1.414 | 0.000 | 1.414 | 1.414 | 1.414 | 2.000 | 2.000 | 2.000 | 2.449 | ⋯ | 4.243 | 4.243 | 4.243 | 4.243 | 4.243 | 4.243 | 4.243 | 4.243 | 4.243 | 4.243 |\n",
       "| O4 | 1.414 | 1.414 | 1.414 | 0.000 | 1.414 | 1.414 | 1.414 | 2.000 | 2.000 | 2.000 | ⋯ | 4.243 | 4.243 | 4.243 | 4.243 | 4.243 | 4.243 | 4.243 | 4.243 | 4.243 | 4.243 |\n",
       "| O5 | 2.000 | 1.414 | 1.414 | 1.414 | 0.000 | 1.414 | 1.414 | 1.414 | 2.000 | 2.000 | ⋯ | 4.243 | 4.243 | 4.243 | 4.243 | 4.243 | 4.243 | 4.243 | 4.243 | 4.243 | 4.243 |\n",
       "| O6 | 2.000 | 2.000 | 1.414 | 1.414 | 1.414 | 0.000 | 1.414 | 1.414 | 1.414 | 2.000 | ⋯ | 4.243 | 4.243 | 4.243 | 4.243 | 4.243 | 4.243 | 4.243 | 4.243 | 4.243 | 4.243 |\n",
       "\n"
      ],
      "text/plain": [
       "   O1    O2    O3    O4    O5    O6    O7    O8    O9    O10   ⋯ O42   O43  \n",
       "O1 0.000 1.414 1.414 1.414 2.000 2.000 2.000 2.449 2.449 2.449 ⋯ 4.243 4.243\n",
       "O2 1.414 0.000 1.414 1.414 1.414 2.000 2.000 2.000 2.449 2.449 ⋯ 4.243 4.243\n",
       "O3 1.414 1.414 0.000 1.414 1.414 1.414 2.000 2.000 2.000 2.449 ⋯ 4.243 4.243\n",
       "O4 1.414 1.414 1.414 0.000 1.414 1.414 1.414 2.000 2.000 2.000 ⋯ 4.243 4.243\n",
       "O5 2.000 1.414 1.414 1.414 0.000 1.414 1.414 1.414 2.000 2.000 ⋯ 4.243 4.243\n",
       "O6 2.000 2.000 1.414 1.414 1.414 0.000 1.414 1.414 1.414 2.000 ⋯ 4.243 4.243\n",
       "   O44   O45   O46   O47   O48   O49   O50   O51  \n",
       "O1 4.243 4.243 4.243 4.243 4.243 4.243 4.243 4.243\n",
       "O2 4.243 4.243 4.243 4.243 4.243 4.243 4.243 4.243\n",
       "O3 4.243 4.243 4.243 4.243 4.243 4.243 4.243 4.243\n",
       "O4 4.243 4.243 4.243 4.243 4.243 4.243 4.243 4.243\n",
       "O5 4.243 4.243 4.243 4.243 4.243 4.243 4.243 4.243\n",
       "O6 4.243 4.243 4.243 4.243 4.243 4.243 4.243 4.243"
      ]
     },
     "metadata": {},
     "output_type": "display_data"
    },
    {
     "data": {
      "text/html": [
       "<style>\n",
       ".list-inline {list-style: none; margin:0; padding: 0}\n",
       ".list-inline>li {display: inline-block}\n",
       ".list-inline>li:not(:last-child)::after {content: \"\\00b7\"; padding: 0 .5ex}\n",
       "</style>\n",
       "<ol class=list-inline><li>0.522569390316069</li><li>0.522569390316069</li></ol>\n"
      ],
      "text/latex": [
       "\\begin{enumerate*}\n",
       "\\item 0.522569390316069\n",
       "\\item 0.522569390316069\n",
       "\\end{enumerate*}\n"
      ],
      "text/markdown": [
       "1. 0.522569390316069\n",
       "2. 0.522569390316069\n",
       "\n",
       "\n"
      ],
      "text/plain": [
       "[1] 0.5225694 0.5225694"
      ]
     },
     "metadata": {},
     "output_type": "display_data"
    },
    {
     "data": {
      "image/png": "[encoded data removed]",
      "text/plain": [
       "plot without title"
      ]
     },
     "metadata": {
      "image/png": {
       "height": 420,
       "width": 420
      }
     },
     "output_type": "display_data"
    }
   ],
   "source": [
    "fun <- function(i, j){\n",
    "if(i == j) return(9) else{\n",
    "    if(abs(i-j) <= 3 && abs(i-j) >= 1) return(8) else{\n",
    "        if(abs(i-j) >= 4 && abs(i-j) <= 6) return(7) else{\n",
    "            if(abs(i-j) >= 7 && abs(i-j) <= 9) return(6) else{\n",
    "                if(abs(i-j) >= 10 && abs(i-j) <= 12) return(5) else{\n",
    "                    if(abs(i-j) >= 13 && abs(i-j) <= 15) return(4) else{\n",
    "                        if(abs(i-j) >= 16 && abs(i-j) <= 18) return(3) else{\n",
    "                            if(abs(i-j) >= 19 && abs(i-j) <= 21) return(2) else{\n",
    "                                if(abs(i-j) >= 22 && abs(i-j) <= 24) return(1) else{\n",
    "                                    if(abs(i-j) >= 25) return(0)\n",
    "                                }\n",
    "                            }\n",
    "                        }\n",
    "                    }\n",
    "                }\n",
    "            }\n",
    "        }\n",
    "    }\n",
    "}\n",
    "}\n",
    "f <- Vectorize(fun)\n",
    "I = 1:51; J = 1:51\n",
    "mat_dist <- outer(I, J, f)\n",
    "\n",
    "fun2 <- function(i, j) sqrt(mat_dist[i, i] + mat_dist[j, j] - 2 * mat_dist[i, j])\n",
    "f2 <- Vectorize(fun2)\n",
    "mat_s <- outer(I, J, f2)\n",
    "mat_s <- mat_s %>% round(3)\n",
    "\n",
    "\n",
    "Nam <- paste(\"O\", 1:51, sep = \"\")\n",
    "dimnames(mat_s) = list(Nam, Nam)\n",
    "head(mat_s) \n",
    "Model <- cmdscale(mat_s, add = TRUE)\n",
    "Model$GOF\n",
    "dims <- Model$points\n",
    "dims %>% \n",
    "as.data.frame %>%\n",
    "rownames_to_column(var = \"objects\") %>%\n",
    "setNames(c(\"objects\", \"Coordinate:1\", \"Coordinate:2\")) %>%\n",
    "ggplot(aes(x = `Coordinate:1`, y = `Coordinate:2`)) +\n",
    "geom_text(aes(label = objects, color = objects)) + theme_bw() + \n",
    "guides(color = 'none')"
   ]
  },
  {
   "cell_type": "markdown",
   "metadata": {},
   "source": [
    "#### Ex. 4.2 Write an R function to calculate the chi-squared distance matrices for both rows and columns in a two-dimensional contingency table."
   ]
  },
  {
   "cell_type": "code",
   "execution_count": 106,
   "metadata": {
    "vscode": {
     "languageId": "r"
    }
   },
   "outputs": [
    {
     "data": {
      "text/html": [
       "<table class=\"dataframe\">\n",
       "<caption>A matrix: 5 × 5 of type dbl</caption>\n",
       "<tbody>\n",
       "\t<tr><td>0.000000000</td><td>0.007287197</td><td>0.0662686</td><td>0.4394288</td><td>1.1531616</td></tr>\n",
       "\t<tr><td>0.007287197</td><td>0.000000000</td><td>0.0347609</td><td>0.3431714</td><td>1.0286712</td></tr>\n",
       "\t<tr><td>0.066268601</td><td>0.034760903</td><td>0.0000000</td><td>0.1653301</td><td>0.6880144</td></tr>\n",
       "\t<tr><td>0.439428812</td><td>0.343171356</td><td>0.1653301</td><td>0.0000000</td><td>0.2567891</td></tr>\n",
       "\t<tr><td>1.153161646</td><td>1.028671234</td><td>0.6880144</td><td>0.2567891</td><td>0.0000000</td></tr>\n",
       "</tbody>\n",
       "</table>\n"
      ],
      "text/latex": [
       "A matrix: 5 × 5 of type dbl\n",
       "\\begin{tabular}{lllll}\n",
       "\t 0.000000000 & 0.007287197 & 0.0662686 & 0.4394288 & 1.1531616\\\\\n",
       "\t 0.007287197 & 0.000000000 & 0.0347609 & 0.3431714 & 1.0286712\\\\\n",
       "\t 0.066268601 & 0.034760903 & 0.0000000 & 0.1653301 & 0.6880144\\\\\n",
       "\t 0.439428812 & 0.343171356 & 0.1653301 & 0.0000000 & 0.2567891\\\\\n",
       "\t 1.153161646 & 1.028671234 & 0.6880144 & 0.2567891 & 0.0000000\\\\\n",
       "\\end{tabular}\n"
      ],
      "text/markdown": [
       "\n",
       "A matrix: 5 × 5 of type dbl\n",
       "\n",
       "| 0.000000000 | 0.007287197 | 0.0662686 | 0.4394288 | 1.1531616 |\n",
       "| 0.007287197 | 0.000000000 | 0.0347609 | 0.3431714 | 1.0286712 |\n",
       "| 0.066268601 | 0.034760903 | 0.0000000 | 0.1653301 | 0.6880144 |\n",
       "| 0.439428812 | 0.343171356 | 0.1653301 | 0.0000000 | 0.2567891 |\n",
       "| 1.153161646 | 1.028671234 | 0.6880144 | 0.2567891 | 0.0000000 |\n",
       "\n"
      ],
      "text/plain": [
       "     [,1]        [,2]        [,3]      [,4]      [,5]     \n",
       "[1,] 0.000000000 0.007287197 0.0662686 0.4394288 1.1531616\n",
       "[2,] 0.007287197 0.000000000 0.0347609 0.3431714 1.0286712\n",
       "[3,] 0.066268601 0.034760903 0.0000000 0.1653301 0.6880144\n",
       "[4,] 0.439428812 0.343171356 0.1653301 0.0000000 0.2567891\n",
       "[5,] 1.153161646 1.028671234 0.6880144 0.2567891 0.0000000"
      ]
     },
     "metadata": {},
     "output_type": "display_data"
    },
    {
     "data": {
      "text/html": [
       "<table class=\"dataframe\">\n",
       "<caption>A matrix: 3 × 3 of type dbl</caption>\n",
       "<tbody>\n",
       "\t<tr><td>0.00000000</td><td>0.04142629</td><td>0.8603405</td></tr>\n",
       "\t<tr><td>0.04142629</td><td>0.00000000</td><td>0.8752194</td></tr>\n",
       "\t<tr><td>0.86034052</td><td>0.87521945</td><td>0.0000000</td></tr>\n",
       "</tbody>\n",
       "</table>\n"
      ],
      "text/latex": [
       "A matrix: 3 × 3 of type dbl\n",
       "\\begin{tabular}{lll}\n",
       "\t 0.00000000 & 0.04142629 & 0.8603405\\\\\n",
       "\t 0.04142629 & 0.00000000 & 0.8752194\\\\\n",
       "\t 0.86034052 & 0.87521945 & 0.0000000\\\\\n",
       "\\end{tabular}\n"
      ],
      "text/markdown": [
       "\n",
       "A matrix: 3 × 3 of type dbl\n",
       "\n",
       "| 0.00000000 | 0.04142629 | 0.8603405 |\n",
       "| 0.04142629 | 0.00000000 | 0.8752194 |\n",
       "| 0.86034052 | 0.87521945 | 0.0000000 |\n",
       "\n"
      ],
      "text/plain": [
       "     [,1]       [,2]       [,3]     \n",
       "[1,] 0.00000000 0.04142629 0.8603405\n",
       "[2,] 0.04142629 0.00000000 0.8752194\n",
       "[3,] 0.86034052 0.87521945 0.0000000"
      ]
     },
     "metadata": {},
     "output_type": "display_data"
    },
    {
     "data": {
      "image/png": "[encoded data removed]",
      "text/plain": [
       "plot without title"
      ]
     },
     "metadata": {
      "image/png": {
       "height": 420,
       "width": 420
      }
     },
     "output_type": "display_data"
    },
    {
     "data": {
      "text/plain": [
       "**Results of the Correspondence Analysis (CA)**\n",
       "The row variable has  3  categories; the column variable has 5 categories\n",
       "The chi square of independence between the two variables is equal to 20.60424 (p-value =  0.008276439 ).\n",
       "*The results are available in the following objects:\n",
       "\n",
       "   name              description                   \n",
       "1  \"$eig\"            \"eigenvalues\"                 \n",
       "2  \"$col\"            \"results for the columns\"     \n",
       "3  \"$col$coord\"      \"coord. for the columns\"      \n",
       "4  \"$col$cos2\"       \"cos2 for the columns\"        \n",
       "5  \"$col$contrib\"    \"contributions of the columns\"\n",
       "6  \"$row\"            \"results for the rows\"        \n",
       "7  \"$row$coord\"      \"coord. for the rows\"         \n",
       "8  \"$row$cos2\"       \"cos2 for the rows\"           \n",
       "9  \"$row$contrib\"    \"contributions of the rows\"   \n",
       "10 \"$call\"           \"summary called parameters\"   \n",
       "11 \"$call$marge.col\" \"weights of the columns\"      \n",
       "12 \"$call$marge.row\" \"weights of the rows\"         "
      ]
     },
     "metadata": {},
     "output_type": "display_data"
    },
    {
     "data": {
      "image/png": "[encoded data removed]",
      "text/plain": [
       "plot without title"
      ]
     },
     "metadata": {
      "image/png": {
       "height": 420,
       "width": 420
      }
     },
     "output_type": "display_data"
    }
   ],
   "source": [
    "library(ggrepel)\n",
    "library(FactoMineR)\n",
    "Teen_sex <- matrix(c(21, 21, 14, 13, 8, \n",
    "8, 9, 6, 8, 2, \n",
    "2, 3, 4, 10, 10), 3, 5, byrow = T)\n",
    "cols = c(\"16\", \"16-17\", \"17-18\", \"18-19\", \"19-20\")\n",
    "rows = c(\"No boyfriend\", \"Boyfriend no sex\", \"Boyfriend sex\")\n",
    "dimnames(Teen_sex) = list(rows, cols)\n",
    "dat <- Teen_sex\n",
    "get_chi_measure <- function(dat, Graph = TRUE){\n",
    "rr <- nrow(dat)\n",
    "cc <- ncol(dat)\n",
    "dcol = matrix(0, cc, cc)\n",
    "drow = matrix(0, rr, rr)\n",
    "n <- sum(dat)\n",
    "cd1 <- colSums(dat)\n",
    "rd1 <- rowSums(dat)\n",
    "\n",
    "## for columns\n",
    "for(i in 1:cc){\n",
    "    for(j in 1:cc){\n",
    "        for(k in 1:rr){\n",
    "            pki = dat[k, i]/cd1[i]\n",
    "            pkj = dat[k, j] / cd1[j]\n",
    "           dcol[i, j] = dcol[i, j] +  n/rd1[k] * (pki - pkj)^2\n",
    "        }\n",
    "    }\n",
    "}\n",
    "\n",
    "## for rows\n",
    "for(i in 1:rr){\n",
    "    for(j in 1:rr){\n",
    "        for(k in 1:cc){\n",
    "            pik = dat[i, k]/rd1[i]\n",
    "            pjk = dat[j, k] / rd1[j]\n",
    "           drow[i, j] = drow[i, j] +  n/cd1[k] * (pik - pjk)^2\n",
    "        }\n",
    "    }\n",
    "}\n",
    "if(Graph){\n",
    "c1 <- cmdscale(dcol, eig = TRUE)\n",
    "r1 <- cmdscale(drow, eig = TRUE)\n",
    "c1$points -> Dim_cols\n",
    "r1$points -> Dim_rows\n",
    "tot <- rbind(Dim_rows, Dim_cols)\n",
    "coord_res <- extendrange(as.vector(tot))\n",
    "Labels = unlist(dimnames(dat))\n",
    "D <- as.data.frame(tot) %>%\n",
    "mutate(Labels = Labels) %>%\n",
    "mutate(Id = factor(rep(c(\"Rows\", \"Cols\"), c(nrow(dat), ncol(dat))))) %>%\n",
    "setNames(c(\"Coordinate:1\", \"Coordinate:2\", \"Labels\", \"Id\"))\n",
    "D %>% \n",
    "ggplot(aes(x = `Coordinate:1`, y = `Coordinate:2`, color = Id)) + \n",
    "geom_label_repel(aes(label = Labels),  alpha = .4) + theme_bw() + \n",
    "geom_hline(yintercept = 0, linetype = 2) + \n",
    "geom_vline(xintercept = 0, linetype = 2) +\n",
    "coord_cartesian(xlim = coord_res, ylim = coord_res) -> P\n",
    "print(P)\n",
    "}else P <- NULL\n",
    "\n",
    "return(list(dcols = dcol, drows = drow, Plot = P))\n",
    "}\n",
    "res <- get_chi_measure(dat, Graph = TRUE)\n",
    "res$dcols\n",
    "res$drows\n",
    "CA(dat)"
   ]
  },
  {
   "cell_type": "markdown",
   "metadata": {},
   "source": [
    "#### Ex. 4.3 In Table 4.7 (from Kaufman and Rousseeuw 1990), the dissimilarity matrix of 18 species of garden flowers is shown. Use some form of multidimensional scaling to investigate which species share common properti"
   ]
  },
  {
   "cell_type": "code",
   "execution_count": 102,
   "metadata": {
    "vscode": {
     "languageId": "r"
    }
   },
   "outputs": [
    {
     "data": {
      "text/html": [
       "<table class=\"dataframe\">\n",
       "<caption>A matrix: 18 × 18 of type dbl</caption>\n",
       "<thead>\n",
       "\t<tr><th></th><th scope=col>Begonia</th><th scope=col>Broom</th><th scope=col>Camellia</th><th scope=col>Dahlia</th><th scope=col>Forget-me-not</th><th scope=col>Fuchsia</th><th scope=col>Geranium</th><th scope=col>Gladiolus</th><th scope=col>Heather</th><th scope=col>Hydrangea</th><th scope=col>Iris</th><th scope=col>Lily</th><th scope=col>Lily-of-the-valley</th><th scope=col>Peony</th><th scope=col>Pink-carnation</th><th scope=col>Red-rose</th><th scope=col>Scotch-rose</th><th scope=col>Tulip</th></tr>\n",
       "</thead>\n",
       "<tbody>\n",
       "\t<tr><th scope=row>Begonia</th><td>0.00</td><td>0.91</td><td>0.49</td><td>0.47</td><td>0.43</td><td>0.23</td><td>0.31</td><td>0.49</td><td>0.57</td><td>0.76</td><td>0.32</td><td>0.51</td><td>0.59</td><td>0.37</td><td>0.74</td><td>0.84</td><td>0.94</td><td>0.44</td></tr>\n",
       "\t<tr><th scope=row>Broom</th><td>0.91</td><td>0.00</td><td>0.67</td><td>0.59</td><td>0.90</td><td>0.79</td><td>0.70</td><td>0.57</td><td>0.57</td><td>0.58</td><td>0.77</td><td>0.69</td><td>0.75</td><td>0.68</td><td>0.54</td><td>0.41</td><td>0.20</td><td>0.50</td></tr>\n",
       "\t<tr><th scope=row>Camellia</th><td>0.49</td><td>0.67</td><td>0.00</td><td>0.59</td><td>0.57</td><td>0.29</td><td>0.54</td><td>0.71</td><td>0.57</td><td>0.58</td><td>0.63</td><td>0.69</td><td>0.75</td><td>0.68</td><td>0.70</td><td>0.75</td><td>0.70</td><td>0.79</td></tr>\n",
       "\t<tr><th scope=row>Dahlia</th><td>0.47</td><td>0.59</td><td>0.59</td><td>0.00</td><td>0.61</td><td>0.52</td><td>0.44</td><td>0.26</td><td>0.89</td><td>0.62</td><td>0.75</td><td>0.53</td><td>0.77</td><td>0.38</td><td>0.58</td><td>0.37</td><td>0.48</td><td>0.48</td></tr>\n",
       "\t<tr><th scope=row>Forget-me-not</th><td>0.43</td><td>0.90</td><td>0.57</td><td>0.61</td><td>0.00</td><td>0.44</td><td>0.54</td><td>0.49</td><td>0.50</td><td>0.39</td><td>0.46</td><td>0.51</td><td>0.35</td><td>0.52</td><td>0.54</td><td>0.82</td><td>0.77</td><td>0.59</td></tr>\n",
       "\t<tr><th scope=row>Fuchsia</th><td>0.23</td><td>0.79</td><td>0.29</td><td>0.52</td><td>0.44</td><td>0.00</td><td>0.24</td><td>0.68</td><td>0.61</td><td>0.61</td><td>0.52</td><td>0.65</td><td>0.63</td><td>0.48</td><td>0.74</td><td>0.71</td><td>0.83</td><td>0.68</td></tr>\n",
       "\t<tr><th scope=row>Geranium</th><td>0.31</td><td>0.70</td><td>0.54</td><td>0.44</td><td>0.54</td><td>0.24</td><td>0.00</td><td>0.49</td><td>0.70</td><td>0.86</td><td>0.60</td><td>0.77</td><td>0.72</td><td>0.63</td><td>0.50</td><td>0.61</td><td>0.74</td><td>0.47</td></tr>\n",
       "\t<tr><th scope=row>Gladiolus</th><td>0.49</td><td>0.57</td><td>0.71</td><td>0.26</td><td>0.49</td><td>0.68</td><td>0.49</td><td>0.00</td><td>0.77</td><td>0.70</td><td>0.63</td><td>0.47</td><td>0.65</td><td>0.49</td><td>0.49</td><td>0.64</td><td>0.45</td><td>0.22</td></tr>\n",
       "\t<tr><th scope=row>Heather</th><td>0.57</td><td>0.57</td><td>0.57</td><td>0.89</td><td>0.50</td><td>0.61</td><td>0.70</td><td>0.77</td><td>0.00</td><td>0.55</td><td>0.46</td><td>0.51</td><td>0.35</td><td>0.52</td><td>0.36</td><td>0.81</td><td>0.77</td><td>0.59</td></tr>\n",
       "\t<tr><th scope=row>Hydrangea</th><td>0.76</td><td>0.58</td><td>0.58</td><td>0.62</td><td>0.39</td><td>0.61</td><td>0.86</td><td>0.70</td><td>0.55</td><td>0.00</td><td>0.47</td><td>0.39</td><td>0.41</td><td>0.39</td><td>0.52</td><td>0.43</td><td>0.38</td><td>0.92</td></tr>\n",
       "\t<tr><th scope=row>Iris</th><td>0.32</td><td>0.77</td><td>0.63</td><td>0.75</td><td>0.46</td><td>0.52</td><td>0.60</td><td>0.63</td><td>0.46</td><td>0.47</td><td>0.00</td><td>0.36</td><td>0.45</td><td>0.37</td><td>0.60</td><td>0.84</td><td>0.80</td><td>0.59</td></tr>\n",
       "\t<tr><th scope=row>Lily</th><td>0.51</td><td>0.69</td><td>0.69</td><td>0.53</td><td>0.51</td><td>0.65</td><td>0.77</td><td>0.47</td><td>0.51</td><td>0.39</td><td>0.36</td><td>0.00</td><td>0.24</td><td>0.17</td><td>0.48</td><td>0.62</td><td>0.58</td><td>0.67</td></tr>\n",
       "\t<tr><th scope=row>Lily-of-the-valley</th><td>0.59</td><td>0.75</td><td>0.75</td><td>0.77</td><td>0.35</td><td>0.63</td><td>0.72</td><td>0.65</td><td>0.35</td><td>0.41</td><td>0.45</td><td>0.24</td><td>0.00</td><td>0.39</td><td>0.39</td><td>0.67</td><td>0.62</td><td>0.72</td></tr>\n",
       "\t<tr><th scope=row>Peony</th><td>0.37</td><td>0.68</td><td>0.68</td><td>0.38</td><td>0.52</td><td>0.48</td><td>0.63</td><td>0.49</td><td>0.52</td><td>0.39</td><td>0.37</td><td>0.17</td><td>0.39</td><td>0.00</td><td>0.49</td><td>0.47</td><td>0.57</td><td>0.67</td></tr>\n",
       "\t<tr><th scope=row>Pink-carnation</th><td>0.74</td><td>0.54</td><td>0.70</td><td>0.58</td><td>0.54</td><td>0.74</td><td>0.50</td><td>0.49</td><td>0.36</td><td>0.52</td><td>0.60</td><td>0.48</td><td>0.39</td><td>0.49</td><td>0.00</td><td>0.45</td><td>0.40</td><td>0.61</td></tr>\n",
       "\t<tr><th scope=row>Red-rose</th><td>0.84</td><td>0.41</td><td>0.75</td><td>0.37</td><td>0.82</td><td>0.71</td><td>0.61</td><td>0.64</td><td>0.81</td><td>0.43</td><td>0.84</td><td>0.62</td><td>0.67</td><td>0.47</td><td>0.45</td><td>0.00</td><td>0.21</td><td>0.85</td></tr>\n",
       "\t<tr><th scope=row>Scotch-rose</th><td>0.94</td><td>0.20</td><td>0.70</td><td>0.48</td><td>0.77</td><td>0.83</td><td>0.74</td><td>0.45</td><td>0.77</td><td>0.38</td><td>0.80</td><td>0.58</td><td>0.62</td><td>0.57</td><td>0.40</td><td>0.21</td><td>0.00</td><td>0.67</td></tr>\n",
       "\t<tr><th scope=row>Tulip</th><td>0.44</td><td>0.50</td><td>0.79</td><td>0.48</td><td>0.59</td><td>0.68</td><td>0.47</td><td>0.22</td><td>0.59</td><td>0.92</td><td>0.59</td><td>0.67</td><td>0.72</td><td>0.67</td><td>0.61</td><td>0.85</td><td>0.67</td><td>0.00</td></tr>\n",
       "</tbody>\n",
       "</table>\n"
      ],
      "text/latex": [
       "A matrix: 18 × 18 of type dbl\n",
       "\\begin{tabular}{r|llllllllllllllllll}\n",
       "  & Begonia & Broom & Camellia & Dahlia & Forget-me-not & Fuchsia & Geranium & Gladiolus & Heather & Hydrangea & Iris & Lily & Lily-of-the-valley & Peony & Pink-carnation & Red-rose & Scotch-rose & Tulip\\\\\n",
       "\\hline\n",
       "\tBegonia & 0.00 & 0.91 & 0.49 & 0.47 & 0.43 & 0.23 & 0.31 & 0.49 & 0.57 & 0.76 & 0.32 & 0.51 & 0.59 & 0.37 & 0.74 & 0.84 & 0.94 & 0.44\\\\\n",
       "\tBroom & 0.91 & 0.00 & 0.67 & 0.59 & 0.90 & 0.79 & 0.70 & 0.57 & 0.57 & 0.58 & 0.77 & 0.69 & 0.75 & 0.68 & 0.54 & 0.41 & 0.20 & 0.50\\\\\n",
       "\tCamellia & 0.49 & 0.67 & 0.00 & 0.59 & 0.57 & 0.29 & 0.54 & 0.71 & 0.57 & 0.58 & 0.63 & 0.69 & 0.75 & 0.68 & 0.70 & 0.75 & 0.70 & 0.79\\\\\n",
       "\tDahlia & 0.47 & 0.59 & 0.59 & 0.00 & 0.61 & 0.52 & 0.44 & 0.26 & 0.89 & 0.62 & 0.75 & 0.53 & 0.77 & 0.38 & 0.58 & 0.37 & 0.48 & 0.48\\\\\n",
       "\tForget-me-not & 0.43 & 0.90 & 0.57 & 0.61 & 0.00 & 0.44 & 0.54 & 0.49 & 0.50 & 0.39 & 0.46 & 0.51 & 0.35 & 0.52 & 0.54 & 0.82 & 0.77 & 0.59\\\\\n",
       "\tFuchsia & 0.23 & 0.79 & 0.29 & 0.52 & 0.44 & 0.00 & 0.24 & 0.68 & 0.61 & 0.61 & 0.52 & 0.65 & 0.63 & 0.48 & 0.74 & 0.71 & 0.83 & 0.68\\\\\n",
       "\tGeranium & 0.31 & 0.70 & 0.54 & 0.44 & 0.54 & 0.24 & 0.00 & 0.49 & 0.70 & 0.86 & 0.60 & 0.77 & 0.72 & 0.63 & 0.50 & 0.61 & 0.74 & 0.47\\\\\n",
       "\tGladiolus & 0.49 & 0.57 & 0.71 & 0.26 & 0.49 & 0.68 & 0.49 & 0.00 & 0.77 & 0.70 & 0.63 & 0.47 & 0.65 & 0.49 & 0.49 & 0.64 & 0.45 & 0.22\\\\\n",
       "\tHeather & 0.57 & 0.57 & 0.57 & 0.89 & 0.50 & 0.61 & 0.70 & 0.77 & 0.00 & 0.55 & 0.46 & 0.51 & 0.35 & 0.52 & 0.36 & 0.81 & 0.77 & 0.59\\\\\n",
       "\tHydrangea & 0.76 & 0.58 & 0.58 & 0.62 & 0.39 & 0.61 & 0.86 & 0.70 & 0.55 & 0.00 & 0.47 & 0.39 & 0.41 & 0.39 & 0.52 & 0.43 & 0.38 & 0.92\\\\\n",
       "\tIris & 0.32 & 0.77 & 0.63 & 0.75 & 0.46 & 0.52 & 0.60 & 0.63 & 0.46 & 0.47 & 0.00 & 0.36 & 0.45 & 0.37 & 0.60 & 0.84 & 0.80 & 0.59\\\\\n",
       "\tLily & 0.51 & 0.69 & 0.69 & 0.53 & 0.51 & 0.65 & 0.77 & 0.47 & 0.51 & 0.39 & 0.36 & 0.00 & 0.24 & 0.17 & 0.48 & 0.62 & 0.58 & 0.67\\\\\n",
       "\tLily-of-the-valley & 0.59 & 0.75 & 0.75 & 0.77 & 0.35 & 0.63 & 0.72 & 0.65 & 0.35 & 0.41 & 0.45 & 0.24 & 0.00 & 0.39 & 0.39 & 0.67 & 0.62 & 0.72\\\\\n",
       "\tPeony & 0.37 & 0.68 & 0.68 & 0.38 & 0.52 & 0.48 & 0.63 & 0.49 & 0.52 & 0.39 & 0.37 & 0.17 & 0.39 & 0.00 & 0.49 & 0.47 & 0.57 & 0.67\\\\\n",
       "\tPink-carnation & 0.74 & 0.54 & 0.70 & 0.58 & 0.54 & 0.74 & 0.50 & 0.49 & 0.36 & 0.52 & 0.60 & 0.48 & 0.39 & 0.49 & 0.00 & 0.45 & 0.40 & 0.61\\\\\n",
       "\tRed-rose & 0.84 & 0.41 & 0.75 & 0.37 & 0.82 & 0.71 & 0.61 & 0.64 & 0.81 & 0.43 & 0.84 & 0.62 & 0.67 & 0.47 & 0.45 & 0.00 & 0.21 & 0.85\\\\\n",
       "\tScotch-rose & 0.94 & 0.20 & 0.70 & 0.48 & 0.77 & 0.83 & 0.74 & 0.45 & 0.77 & 0.38 & 0.80 & 0.58 & 0.62 & 0.57 & 0.40 & 0.21 & 0.00 & 0.67\\\\\n",
       "\tTulip & 0.44 & 0.50 & 0.79 & 0.48 & 0.59 & 0.68 & 0.47 & 0.22 & 0.59 & 0.92 & 0.59 & 0.67 & 0.72 & 0.67 & 0.61 & 0.85 & 0.67 & 0.00\\\\\n",
       "\\end{tabular}\n"
      ],
      "text/markdown": [
       "\n",
       "A matrix: 18 × 18 of type dbl\n",
       "\n",
       "| <!--/--> | Begonia | Broom | Camellia | Dahlia | Forget-me-not | Fuchsia | Geranium | Gladiolus | Heather | Hydrangea | Iris | Lily | Lily-of-the-valley | Peony | Pink-carnation | Red-rose | Scotch-rose | Tulip |\n",
       "|---|---|---|---|---|---|---|---|---|---|---|---|---|---|---|---|---|---|---|\n",
       "| Begonia | 0.00 | 0.91 | 0.49 | 0.47 | 0.43 | 0.23 | 0.31 | 0.49 | 0.57 | 0.76 | 0.32 | 0.51 | 0.59 | 0.37 | 0.74 | 0.84 | 0.94 | 0.44 |\n",
       "| Broom | 0.91 | 0.00 | 0.67 | 0.59 | 0.90 | 0.79 | 0.70 | 0.57 | 0.57 | 0.58 | 0.77 | 0.69 | 0.75 | 0.68 | 0.54 | 0.41 | 0.20 | 0.50 |\n",
       "| Camellia | 0.49 | 0.67 | 0.00 | 0.59 | 0.57 | 0.29 | 0.54 | 0.71 | 0.57 | 0.58 | 0.63 | 0.69 | 0.75 | 0.68 | 0.70 | 0.75 | 0.70 | 0.79 |\n",
       "| Dahlia | 0.47 | 0.59 | 0.59 | 0.00 | 0.61 | 0.52 | 0.44 | 0.26 | 0.89 | 0.62 | 0.75 | 0.53 | 0.77 | 0.38 | 0.58 | 0.37 | 0.48 | 0.48 |\n",
       "| Forget-me-not | 0.43 | 0.90 | 0.57 | 0.61 | 0.00 | 0.44 | 0.54 | 0.49 | 0.50 | 0.39 | 0.46 | 0.51 | 0.35 | 0.52 | 0.54 | 0.82 | 0.77 | 0.59 |\n",
       "| Fuchsia | 0.23 | 0.79 | 0.29 | 0.52 | 0.44 | 0.00 | 0.24 | 0.68 | 0.61 | 0.61 | 0.52 | 0.65 | 0.63 | 0.48 | 0.74 | 0.71 | 0.83 | 0.68 |\n",
       "| Geranium | 0.31 | 0.70 | 0.54 | 0.44 | 0.54 | 0.24 | 0.00 | 0.49 | 0.70 | 0.86 | 0.60 | 0.77 | 0.72 | 0.63 | 0.50 | 0.61 | 0.74 | 0.47 |\n",
       "| Gladiolus | 0.49 | 0.57 | 0.71 | 0.26 | 0.49 | 0.68 | 0.49 | 0.00 | 0.77 | 0.70 | 0.63 | 0.47 | 0.65 | 0.49 | 0.49 | 0.64 | 0.45 | 0.22 |\n",
       "| Heather | 0.57 | 0.57 | 0.57 | 0.89 | 0.50 | 0.61 | 0.70 | 0.77 | 0.00 | 0.55 | 0.46 | 0.51 | 0.35 | 0.52 | 0.36 | 0.81 | 0.77 | 0.59 |\n",
       "| Hydrangea | 0.76 | 0.58 | 0.58 | 0.62 | 0.39 | 0.61 | 0.86 | 0.70 | 0.55 | 0.00 | 0.47 | 0.39 | 0.41 | 0.39 | 0.52 | 0.43 | 0.38 | 0.92 |\n",
       "| Iris | 0.32 | 0.77 | 0.63 | 0.75 | 0.46 | 0.52 | 0.60 | 0.63 | 0.46 | 0.47 | 0.00 | 0.36 | 0.45 | 0.37 | 0.60 | 0.84 | 0.80 | 0.59 |\n",
       "| Lily | 0.51 | 0.69 | 0.69 | 0.53 | 0.51 | 0.65 | 0.77 | 0.47 | 0.51 | 0.39 | 0.36 | 0.00 | 0.24 | 0.17 | 0.48 | 0.62 | 0.58 | 0.67 |\n",
       "| Lily-of-the-valley | 0.59 | 0.75 | 0.75 | 0.77 | 0.35 | 0.63 | 0.72 | 0.65 | 0.35 | 0.41 | 0.45 | 0.24 | 0.00 | 0.39 | 0.39 | 0.67 | 0.62 | 0.72 |\n",
       "| Peony | 0.37 | 0.68 | 0.68 | 0.38 | 0.52 | 0.48 | 0.63 | 0.49 | 0.52 | 0.39 | 0.37 | 0.17 | 0.39 | 0.00 | 0.49 | 0.47 | 0.57 | 0.67 |\n",
       "| Pink-carnation | 0.74 | 0.54 | 0.70 | 0.58 | 0.54 | 0.74 | 0.50 | 0.49 | 0.36 | 0.52 | 0.60 | 0.48 | 0.39 | 0.49 | 0.00 | 0.45 | 0.40 | 0.61 |\n",
       "| Red-rose | 0.84 | 0.41 | 0.75 | 0.37 | 0.82 | 0.71 | 0.61 | 0.64 | 0.81 | 0.43 | 0.84 | 0.62 | 0.67 | 0.47 | 0.45 | 0.00 | 0.21 | 0.85 |\n",
       "| Scotch-rose | 0.94 | 0.20 | 0.70 | 0.48 | 0.77 | 0.83 | 0.74 | 0.45 | 0.77 | 0.38 | 0.80 | 0.58 | 0.62 | 0.57 | 0.40 | 0.21 | 0.00 | 0.67 |\n",
       "| Tulip | 0.44 | 0.50 | 0.79 | 0.48 | 0.59 | 0.68 | 0.47 | 0.22 | 0.59 | 0.92 | 0.59 | 0.67 | 0.72 | 0.67 | 0.61 | 0.85 | 0.67 | 0.00 |\n",
       "\n"
      ],
      "text/plain": [
       "                   Begonia Broom Camellia Dahlia Forget-me-not Fuchsia Geranium\n",
       "Begonia            0.00    0.91  0.49     0.47   0.43          0.23    0.31    \n",
       "Broom              0.91    0.00  0.67     0.59   0.90          0.79    0.70    \n",
       "Camellia           0.49    0.67  0.00     0.59   0.57          0.29    0.54    \n",
       "Dahlia             0.47    0.59  0.59     0.00   0.61          0.52    0.44    \n",
       "Forget-me-not      0.43    0.90  0.57     0.61   0.00          0.44    0.54    \n",
       "Fuchsia            0.23    0.79  0.29     0.52   0.44          0.00    0.24    \n",
       "Geranium           0.31    0.70  0.54     0.44   0.54          0.24    0.00    \n",
       "Gladiolus          0.49    0.57  0.71     0.26   0.49          0.68    0.49    \n",
       "Heather            0.57    0.57  0.57     0.89   0.50          0.61    0.70    \n",
       "Hydrangea          0.76    0.58  0.58     0.62   0.39          0.61    0.86    \n",
       "Iris               0.32    0.77  0.63     0.75   0.46          0.52    0.60    \n",
       "Lily               0.51    0.69  0.69     0.53   0.51          0.65    0.77    \n",
       "Lily-of-the-valley 0.59    0.75  0.75     0.77   0.35          0.63    0.72    \n",
       "Peony              0.37    0.68  0.68     0.38   0.52          0.48    0.63    \n",
       "Pink-carnation     0.74    0.54  0.70     0.58   0.54          0.74    0.50    \n",
       "Red-rose           0.84    0.41  0.75     0.37   0.82          0.71    0.61    \n",
       "Scotch-rose        0.94    0.20  0.70     0.48   0.77          0.83    0.74    \n",
       "Tulip              0.44    0.50  0.79     0.48   0.59          0.68    0.47    \n",
       "                   Gladiolus Heather Hydrangea Iris Lily Lily-of-the-valley\n",
       "Begonia            0.49      0.57    0.76      0.32 0.51 0.59              \n",
       "Broom              0.57      0.57    0.58      0.77 0.69 0.75              \n",
       "Camellia           0.71      0.57    0.58      0.63 0.69 0.75              \n",
       "Dahlia             0.26      0.89    0.62      0.75 0.53 0.77              \n",
       "Forget-me-not      0.49      0.50    0.39      0.46 0.51 0.35              \n",
       "Fuchsia            0.68      0.61    0.61      0.52 0.65 0.63              \n",
       "Geranium           0.49      0.70    0.86      0.60 0.77 0.72              \n",
       "Gladiolus          0.00      0.77    0.70      0.63 0.47 0.65              \n",
       "Heather            0.77      0.00    0.55      0.46 0.51 0.35              \n",
       "Hydrangea          0.70      0.55    0.00      0.47 0.39 0.41              \n",
       "Iris               0.63      0.46    0.47      0.00 0.36 0.45              \n",
       "Lily               0.47      0.51    0.39      0.36 0.00 0.24              \n",
       "Lily-of-the-valley 0.65      0.35    0.41      0.45 0.24 0.00              \n",
       "Peony              0.49      0.52    0.39      0.37 0.17 0.39              \n",
       "Pink-carnation     0.49      0.36    0.52      0.60 0.48 0.39              \n",
       "Red-rose           0.64      0.81    0.43      0.84 0.62 0.67              \n",
       "Scotch-rose        0.45      0.77    0.38      0.80 0.58 0.62              \n",
       "Tulip              0.22      0.59    0.92      0.59 0.67 0.72              \n",
       "                   Peony Pink-carnation Red-rose Scotch-rose Tulip\n",
       "Begonia            0.37  0.74           0.84     0.94        0.44 \n",
       "Broom              0.68  0.54           0.41     0.20        0.50 \n",
       "Camellia           0.68  0.70           0.75     0.70        0.79 \n",
       "Dahlia             0.38  0.58           0.37     0.48        0.48 \n",
       "Forget-me-not      0.52  0.54           0.82     0.77        0.59 \n",
       "Fuchsia            0.48  0.74           0.71     0.83        0.68 \n",
       "Geranium           0.63  0.50           0.61     0.74        0.47 \n",
       "Gladiolus          0.49  0.49           0.64     0.45        0.22 \n",
       "Heather            0.52  0.36           0.81     0.77        0.59 \n",
       "Hydrangea          0.39  0.52           0.43     0.38        0.92 \n",
       "Iris               0.37  0.60           0.84     0.80        0.59 \n",
       "Lily               0.17  0.48           0.62     0.58        0.67 \n",
       "Lily-of-the-valley 0.39  0.39           0.67     0.62        0.72 \n",
       "Peony              0.00  0.49           0.47     0.57        0.67 \n",
       "Pink-carnation     0.49  0.00           0.45     0.40        0.61 \n",
       "Red-rose           0.47  0.45           0.00     0.21        0.85 \n",
       "Scotch-rose        0.57  0.40           0.21     0.00        0.67 \n",
       "Tulip              0.67  0.61           0.85     0.67        0.00 "
      ]
     },
     "metadata": {},
     "output_type": "display_data"
    }
   ],
   "source": [
    "dat2 <- read_delim(file =file.choose(), delim = \"\\n\", col_names = FALSE)\n",
    "n <- nrow(dat2)\n",
    "mylistResult <- list()\n",
    "Nam <- c()\n",
    "mat_res <- matrix(NA, n, n)\n",
    "for(i in 1:n){\n",
    "  temp <- dat2[i, 1]$X1\n",
    "  temp2 <- strsplit(temp, \" \")[[1]]\n",
    "  Nam[i] <- temp2[1]\n",
    "  temp2 <- temp2[-1]\n",
    "  res <- temp2 %>% as.numeric\n",
    "  mat_res[i, 1:i] <- res\n",
    "  mat_res[1:i, i] <- res\n",
    "}\n",
    "dimnames(mat_res) <- list(Nam, Nam)\n",
    "mat_res\n",
    "\n"
   ]
  },
  {
   "cell_type": "code",
   "execution_count": 103,
   "metadata": {
    "vscode": {
     "languageId": "r"
    }
   },
   "outputs": [
    {
     "name": "stdout",
     "output_type": "stream",
     "text": [
      "initial  value 24.302088 \n",
      "iter   5 value 19.506086\n",
      "iter  10 value 19.037993\n",
      "final  value 18.875447 \n",
      "converged\n"
     ]
    }
   ],
   "source": [
    "flower_model <- isoMDS(mat_res)\n"
   ]
  },
  {
   "cell_type": "code",
   "execution_count": 104,
   "metadata": {
    "vscode": {
     "languageId": "r"
    }
   },
   "outputs": [
    {
     "data": {
      "text/html": [
       "<table class=\"dataframe\">\n",
       "<caption>A data.frame: 18 × 3</caption>\n",
       "<thead>\n",
       "\t<tr><th scope=col>Flowers</th><th scope=col>Coordinate:1</th><th scope=col>Coordinate:2</th></tr>\n",
       "\t<tr><th scope=col>&lt;chr&gt;</th><th scope=col>&lt;dbl&gt;</th><th scope=col>&lt;dbl&gt;</th></tr>\n",
       "</thead>\n",
       "<tbody>\n",
       "\t<tr><td>Begonia           </td><td> 0.224370573</td><td>-0.12838843</td></tr>\n",
       "\t<tr><td>Broom             </td><td>-0.376790734</td><td>-0.15462402</td></tr>\n",
       "\t<tr><td>Camellia          </td><td> 0.409138570</td><td>-0.16496225</td></tr>\n",
       "\t<tr><td>Dahlia            </td><td>-0.057170851</td><td>-0.23616388</td></tr>\n",
       "\t<tr><td>Forget-me-not     </td><td> 0.211650639</td><td> 0.10569174</td></tr>\n",
       "\t<tr><td>Fuchsia           </td><td> 0.314199225</td><td>-0.13788330</td></tr>\n",
       "\t<tr><td>Geranium          </td><td> 0.166717766</td><td>-0.30209287</td></tr>\n",
       "\t<tr><td>Gladiolus         </td><td>-0.113440409</td><td>-0.23303636</td></tr>\n",
       "\t<tr><td>Heather           </td><td> 0.151064543</td><td> 0.33759035</td></tr>\n",
       "\t<tr><td>Hydrangea         </td><td>-0.154369826</td><td> 0.29433214</td></tr>\n",
       "\t<tr><td>Iris              </td><td> 0.260539260</td><td> 0.22262840</td></tr>\n",
       "\t<tr><td>Lily              </td><td> 0.004908224</td><td> 0.19525627</td></tr>\n",
       "\t<tr><td>Lily-of-the-valley</td><td> 0.014790749</td><td> 0.34958495</td></tr>\n",
       "\t<tr><td>Peony             </td><td> 0.008495941</td><td> 0.10253620</td></tr>\n",
       "\t<tr><td>Pink-carnation    </td><td>-0.222897483</td><td> 0.12985741</td></tr>\n",
       "\t<tr><td>Red-rose          </td><td>-0.394089358</td><td> 0.04760211</td></tr>\n",
       "\t<tr><td>Scotch-rose       </td><td>-0.389625231</td><td>-0.04576560</td></tr>\n",
       "\t<tr><td>Tulip             </td><td>-0.057491598</td><td>-0.38216285</td></tr>\n",
       "</tbody>\n",
       "</table>\n"
      ],
      "text/latex": [
       "A data.frame: 18 × 3\n",
       "\\begin{tabular}{lll}\n",
       " Flowers & Coordinate:1 & Coordinate:2\\\\\n",
       " <chr> & <dbl> & <dbl>\\\\\n",
       "\\hline\n",
       "\t Begonia            &  0.224370573 & -0.12838843\\\\\n",
       "\t Broom              & -0.376790734 & -0.15462402\\\\\n",
       "\t Camellia           &  0.409138570 & -0.16496225\\\\\n",
       "\t Dahlia             & -0.057170851 & -0.23616388\\\\\n",
       "\t Forget-me-not      &  0.211650639 &  0.10569174\\\\\n",
       "\t Fuchsia            &  0.314199225 & -0.13788330\\\\\n",
       "\t Geranium           &  0.166717766 & -0.30209287\\\\\n",
       "\t Gladiolus          & -0.113440409 & -0.23303636\\\\\n",
       "\t Heather            &  0.151064543 &  0.33759035\\\\\n",
       "\t Hydrangea          & -0.154369826 &  0.29433214\\\\\n",
       "\t Iris               &  0.260539260 &  0.22262840\\\\\n",
       "\t Lily               &  0.004908224 &  0.19525627\\\\\n",
       "\t Lily-of-the-valley &  0.014790749 &  0.34958495\\\\\n",
       "\t Peony              &  0.008495941 &  0.10253620\\\\\n",
       "\t Pink-carnation     & -0.222897483 &  0.12985741\\\\\n",
       "\t Red-rose           & -0.394089358 &  0.04760211\\\\\n",
       "\t Scotch-rose        & -0.389625231 & -0.04576560\\\\\n",
       "\t Tulip              & -0.057491598 & -0.38216285\\\\\n",
       "\\end{tabular}\n"
      ],
      "text/markdown": [
       "\n",
       "A data.frame: 18 × 3\n",
       "\n",
       "| Flowers &lt;chr&gt; | Coordinate:1 &lt;dbl&gt; | Coordinate:2 &lt;dbl&gt; |\n",
       "|---|---|---|\n",
       "| Begonia            |  0.224370573 | -0.12838843 |\n",
       "| Broom              | -0.376790734 | -0.15462402 |\n",
       "| Camellia           |  0.409138570 | -0.16496225 |\n",
       "| Dahlia             | -0.057170851 | -0.23616388 |\n",
       "| Forget-me-not      |  0.211650639 |  0.10569174 |\n",
       "| Fuchsia            |  0.314199225 | -0.13788330 |\n",
       "| Geranium           |  0.166717766 | -0.30209287 |\n",
       "| Gladiolus          | -0.113440409 | -0.23303636 |\n",
       "| Heather            |  0.151064543 |  0.33759035 |\n",
       "| Hydrangea          | -0.154369826 |  0.29433214 |\n",
       "| Iris               |  0.260539260 |  0.22262840 |\n",
       "| Lily               |  0.004908224 |  0.19525627 |\n",
       "| Lily-of-the-valley |  0.014790749 |  0.34958495 |\n",
       "| Peony              |  0.008495941 |  0.10253620 |\n",
       "| Pink-carnation     | -0.222897483 |  0.12985741 |\n",
       "| Red-rose           | -0.394089358 |  0.04760211 |\n",
       "| Scotch-rose        | -0.389625231 | -0.04576560 |\n",
       "| Tulip              | -0.057491598 | -0.38216285 |\n",
       "\n"
      ],
      "text/plain": [
       "   Flowers            Coordinate:1 Coordinate:2\n",
       "1  Begonia             0.224370573 -0.12838843 \n",
       "2  Broom              -0.376790734 -0.15462402 \n",
       "3  Camellia            0.409138570 -0.16496225 \n",
       "4  Dahlia             -0.057170851 -0.23616388 \n",
       "5  Forget-me-not       0.211650639  0.10569174 \n",
       "6  Fuchsia             0.314199225 -0.13788330 \n",
       "7  Geranium            0.166717766 -0.30209287 \n",
       "8  Gladiolus          -0.113440409 -0.23303636 \n",
       "9  Heather             0.151064543  0.33759035 \n",
       "10 Hydrangea          -0.154369826  0.29433214 \n",
       "11 Iris                0.260539260  0.22262840 \n",
       "12 Lily                0.004908224  0.19525627 \n",
       "13 Lily-of-the-valley  0.014790749  0.34958495 \n",
       "14 Peony               0.008495941  0.10253620 \n",
       "15 Pink-carnation     -0.222897483  0.12985741 \n",
       "16 Red-rose           -0.394089358  0.04760211 \n",
       "17 Scotch-rose        -0.389625231 -0.04576560 \n",
       "18 Tulip              -0.057491598 -0.38216285 "
      ]
     },
     "metadata": {},
     "output_type": "display_data"
    }
   ],
   "source": [
    "Dims <- flower_model$points %>%\n",
    "as.data.frame %>%\n",
    "rownames_to_column(var = \"flowers\") %>%\n",
    "setNames(c(\"Flowers\", \"Coordinate:1\", \"Coordinate:2\"))\n",
    "Dims"
   ]
  },
  {
   "cell_type": "code",
   "execution_count": 105,
   "metadata": {
    "vscode": {
     "languageId": "r"
    }
   },
   "outputs": [
    {
     "data": {
      "image/png": "[encoded data removed]",
      "text/plain": [
       "plot without title"
      ]
     },
     "metadata": {
      "image/png": {
       "height": 420,
       "width": 420
      }
     },
     "output_type": "display_data"
    }
   ],
   "source": [
    "Dims %>%\n",
    "ggplot(aes(x = `Coordinate:1`, y = `Coordinate:2`)) +\n",
    "geom_label_repel(aes(label = Flowers), fill = \"skyblue\") + theme_bw()"
   ]
  }
 ],
 "metadata": {
  "kernelspec": {
   "display_name": "R",
   "language": "R",
   "name": "ir"
  },
  "language_info": {
   "codemirror_mode": "r",
   "file_extension": ".r",
   "mimetype": "text/x-r-source",
   "name": "R",
   "pygments_lexer": "r",
   "version": "4.2.2"
  },
  "orig_nbformat": 4
 },
 "nbformat": 4,
 "nbformat_minor": 2
}
