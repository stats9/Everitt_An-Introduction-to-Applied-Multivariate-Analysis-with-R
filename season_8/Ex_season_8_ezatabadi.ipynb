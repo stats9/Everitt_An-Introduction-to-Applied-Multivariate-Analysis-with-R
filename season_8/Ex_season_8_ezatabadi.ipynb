{
 "cells": [
  {
   "attachments": {},
   "cell_type": "markdown",
   "metadata": {},
   "source": [
    "<div style = \"color : red;\"><b>\n",
    "\n",
    "# Season VIII \n",
    "## Habib Ezzatabadi\n",
    "<br><br><br>\n",
    "<br>\n",
    "<hr><hr><br><br><br>\n",
    "</div></b>"
   ]
  },
  {
   "attachments": {},
   "cell_type": "markdown",
   "metadata": {},
   "source": [
    "<div style = \"color : blue;\"><b>\n",
    "Ex. 8.1 The final model fitted to the timber data did not constrain the fitted curves to go through the origin, although this is clearly necessary. Fit an amended model where this constraint is satisfied, and plot the new predicted values.\n",
    "\n",
    "</b> </div> <br><br>"
   ]
  },
  {
   "cell_type": "code",
   "execution_count": 205,
   "metadata": {
    "vscode": {
     "languageId": "r"
    }
   },
   "outputs": [],
   "source": [
    "library(tidyverse)\n",
    "library(ggpubr)\n",
    "library(lme4)\n",
    "library(nlme)\n",
    "library(lattice)"
   ]
  },
  {
   "cell_type": "code",
   "execution_count": 20,
   "metadata": {
    "vscode": {
     "languageId": "r"
    }
   },
   "outputs": [
    {
     "data": {
      "text/html": [
       "<table class=\"dataframe\">\n",
       "<caption>A data.frame: 44 × 3</caption>\n",
       "<thead>\n",
       "\t<tr><th scope=col>specimen</th><th scope=col>slippage</th><th scope=col>loads</th></tr>\n",
       "\t<tr><th scope=col>&lt;chr&gt;</th><th scope=col>&lt;dbl&gt;</th><th scope=col>&lt;dbl&gt;</th></tr>\n",
       "</thead>\n",
       "<tbody>\n",
       "\t<tr><td>spec7</td><td>0.4</td><td> 8.29</td></tr>\n",
       "\t<tr><td>spec8</td><td>0.4</td><td> 8.32</td></tr>\n",
       "\t<tr><td>spec1</td><td>0.5</td><td> 9.78</td></tr>\n",
       "\t<tr><td>spec2</td><td>0.5</td><td>10.94</td></tr>\n",
       "\t<tr><td>spec3</td><td>0.5</td><td> 9.72</td></tr>\n",
       "\t<tr><td>spec4</td><td>0.5</td><td> 8.32</td></tr>\n",
       "\t<tr><td>spec5</td><td>0.5</td><td> 9.64</td></tr>\n",
       "\t<tr><td>spec6</td><td>0.5</td><td>10.72</td></tr>\n",
       "\t<tr><td>spec7</td><td>0.5</td><td> 9.86</td></tr>\n",
       "\t<tr><td>spec8</td><td>0.5</td><td> 9.91</td></tr>\n",
       "\t<tr><td>spec1</td><td>0.6</td><td>10.97</td></tr>\n",
       "\t<tr><td>spec2</td><td>0.6</td><td>12.23</td></tr>\n",
       "\t<tr><td>spec3</td><td>0.6</td><td>11.03</td></tr>\n",
       "\t<tr><td>spec4</td><td>0.6</td><td> 9.92</td></tr>\n",
       "\t<tr><td>spec5</td><td>0.6</td><td>11.06</td></tr>\n",
       "\t<tr><td>spec6</td><td>0.6</td><td>11.84</td></tr>\n",
       "\t<tr><td>spec7</td><td>0.6</td><td>11.07</td></tr>\n",
       "\t<tr><td>spec8</td><td>0.6</td><td>11.06</td></tr>\n",
       "\t<tr><td>spec1</td><td>0.7</td><td>12.05</td></tr>\n",
       "\t<tr><td>spec2</td><td>0.7</td><td>13.19</td></tr>\n",
       "\t<tr><td>spec3</td><td>0.7</td><td>12.14</td></tr>\n",
       "\t<tr><td>spec4</td><td>0.7</td><td>11.10</td></tr>\n",
       "\t<tr><td>spec3</td><td>1.4</td><td>17.94</td></tr>\n",
       "\t<tr><td>spec4</td><td>1.4</td><td>17.43</td></tr>\n",
       "\t<tr><td>spec5</td><td>1.4</td><td>18.76</td></tr>\n",
       "\t<tr><td>spec6</td><td>1.4</td><td>18.44</td></tr>\n",
       "\t<tr><td>spec7</td><td>1.4</td><td>17.69</td></tr>\n",
       "\t<tr><td>spec8</td><td>1.4</td><td>17.34</td></tr>\n",
       "\t<tr><td>spec1</td><td>1.6</td><td>19.52</td></tr>\n",
       "\t<tr><td>spec2</td><td>1.6</td><td>18.41</td></tr>\n",
       "\t<tr><td>spec3</td><td>1.6</td><td>18.22</td></tr>\n",
       "\t<tr><td>spec4</td><td>1.6</td><td>18.36</td></tr>\n",
       "\t<tr><td>spec5</td><td>1.6</td><td>19.81</td></tr>\n",
       "\t<tr><td>spec6</td><td>1.6</td><td>19.46</td></tr>\n",
       "\t<tr><td>spec7</td><td>1.6</td><td>18.71</td></tr>\n",
       "\t<tr><td>spec8</td><td>1.6</td><td>18.23</td></tr>\n",
       "\t<tr><td>spec1</td><td>1.8</td><td>19.97</td></tr>\n",
       "\t<tr><td>spec2</td><td>1.8</td><td>18.97</td></tr>\n",
       "\t<tr><td>spec3</td><td>1.8</td><td>19.40</td></tr>\n",
       "\t<tr><td>spec4</td><td>1.8</td><td>18.93</td></tr>\n",
       "\t<tr><td>spec5</td><td>1.8</td><td>20.62</td></tr>\n",
       "\t<tr><td>spec6</td><td>1.8</td><td>20.05</td></tr>\n",
       "\t<tr><td>spec7</td><td>1.8</td><td>19.54</td></tr>\n",
       "\t<tr><td>spec8</td><td>1.8</td><td>18.87</td></tr>\n",
       "</tbody>\n",
       "</table>\n"
      ],
      "text/latex": [
       "A data.frame: 44 × 3\n",
       "\\begin{tabular}{lll}\n",
       " specimen & slippage & loads\\\\\n",
       " <chr> & <dbl> & <dbl>\\\\\n",
       "\\hline\n",
       "\t spec7 & 0.4 &  8.29\\\\\n",
       "\t spec8 & 0.4 &  8.32\\\\\n",
       "\t spec1 & 0.5 &  9.78\\\\\n",
       "\t spec2 & 0.5 & 10.94\\\\\n",
       "\t spec3 & 0.5 &  9.72\\\\\n",
       "\t spec4 & 0.5 &  8.32\\\\\n",
       "\t spec5 & 0.5 &  9.64\\\\\n",
       "\t spec6 & 0.5 & 10.72\\\\\n",
       "\t spec7 & 0.5 &  9.86\\\\\n",
       "\t spec8 & 0.5 &  9.91\\\\\n",
       "\t spec1 & 0.6 & 10.97\\\\\n",
       "\t spec2 & 0.6 & 12.23\\\\\n",
       "\t spec3 & 0.6 & 11.03\\\\\n",
       "\t spec4 & 0.6 &  9.92\\\\\n",
       "\t spec5 & 0.6 & 11.06\\\\\n",
       "\t spec6 & 0.6 & 11.84\\\\\n",
       "\t spec7 & 0.6 & 11.07\\\\\n",
       "\t spec8 & 0.6 & 11.06\\\\\n",
       "\t spec1 & 0.7 & 12.05\\\\\n",
       "\t spec2 & 0.7 & 13.19\\\\\n",
       "\t spec3 & 0.7 & 12.14\\\\\n",
       "\t spec4 & 0.7 & 11.10\\\\\n",
       "\t spec3 & 1.4 & 17.94\\\\\n",
       "\t spec4 & 1.4 & 17.43\\\\\n",
       "\t spec5 & 1.4 & 18.76\\\\\n",
       "\t spec6 & 1.4 & 18.44\\\\\n",
       "\t spec7 & 1.4 & 17.69\\\\\n",
       "\t spec8 & 1.4 & 17.34\\\\\n",
       "\t spec1 & 1.6 & 19.52\\\\\n",
       "\t spec2 & 1.6 & 18.41\\\\\n",
       "\t spec3 & 1.6 & 18.22\\\\\n",
       "\t spec4 & 1.6 & 18.36\\\\\n",
       "\t spec5 & 1.6 & 19.81\\\\\n",
       "\t spec6 & 1.6 & 19.46\\\\\n",
       "\t spec7 & 1.6 & 18.71\\\\\n",
       "\t spec8 & 1.6 & 18.23\\\\\n",
       "\t spec1 & 1.8 & 19.97\\\\\n",
       "\t spec2 & 1.8 & 18.97\\\\\n",
       "\t spec3 & 1.8 & 19.40\\\\\n",
       "\t spec4 & 1.8 & 18.93\\\\\n",
       "\t spec5 & 1.8 & 20.62\\\\\n",
       "\t spec6 & 1.8 & 20.05\\\\\n",
       "\t spec7 & 1.8 & 19.54\\\\\n",
       "\t spec8 & 1.8 & 18.87\\\\\n",
       "\\end{tabular}\n"
      ],
      "text/markdown": [
       "\n",
       "A data.frame: 44 × 3\n",
       "\n",
       "| specimen &lt;chr&gt; | slippage &lt;dbl&gt; | loads &lt;dbl&gt; |\n",
       "|---|---|---|\n",
       "| spec7 | 0.4 |  8.29 |\n",
       "| spec8 | 0.4 |  8.32 |\n",
       "| spec1 | 0.5 |  9.78 |\n",
       "| spec2 | 0.5 | 10.94 |\n",
       "| spec3 | 0.5 |  9.72 |\n",
       "| spec4 | 0.5 |  8.32 |\n",
       "| spec5 | 0.5 |  9.64 |\n",
       "| spec6 | 0.5 | 10.72 |\n",
       "| spec7 | 0.5 |  9.86 |\n",
       "| spec8 | 0.5 |  9.91 |\n",
       "| spec1 | 0.6 | 10.97 |\n",
       "| spec2 | 0.6 | 12.23 |\n",
       "| spec3 | 0.6 | 11.03 |\n",
       "| spec4 | 0.6 |  9.92 |\n",
       "| spec5 | 0.6 | 11.06 |\n",
       "| spec6 | 0.6 | 11.84 |\n",
       "| spec7 | 0.6 | 11.07 |\n",
       "| spec8 | 0.6 | 11.06 |\n",
       "| spec1 | 0.7 | 12.05 |\n",
       "| spec2 | 0.7 | 13.19 |\n",
       "| spec3 | 0.7 | 12.14 |\n",
       "| spec4 | 0.7 | 11.10 |\n",
       "| spec3 | 1.4 | 17.94 |\n",
       "| spec4 | 1.4 | 17.43 |\n",
       "| spec5 | 1.4 | 18.76 |\n",
       "| spec6 | 1.4 | 18.44 |\n",
       "| spec7 | 1.4 | 17.69 |\n",
       "| spec8 | 1.4 | 17.34 |\n",
       "| spec1 | 1.6 | 19.52 |\n",
       "| spec2 | 1.6 | 18.41 |\n",
       "| spec3 | 1.6 | 18.22 |\n",
       "| spec4 | 1.6 | 18.36 |\n",
       "| spec5 | 1.6 | 19.81 |\n",
       "| spec6 | 1.6 | 19.46 |\n",
       "| spec7 | 1.6 | 18.71 |\n",
       "| spec8 | 1.6 | 18.23 |\n",
       "| spec1 | 1.8 | 19.97 |\n",
       "| spec2 | 1.8 | 18.97 |\n",
       "| spec3 | 1.8 | 19.40 |\n",
       "| spec4 | 1.8 | 18.93 |\n",
       "| spec5 | 1.8 | 20.62 |\n",
       "| spec6 | 1.8 | 20.05 |\n",
       "| spec7 | 1.8 | 19.54 |\n",
       "| spec8 | 1.8 | 18.87 |\n",
       "\n"
      ],
      "text/plain": [
       "   specimen slippage loads\n",
       "1  spec7    0.4       8.29\n",
       "2  spec8    0.4       8.32\n",
       "3  spec1    0.5       9.78\n",
       "4  spec2    0.5      10.94\n",
       "5  spec3    0.5       9.72\n",
       "6  spec4    0.5       8.32\n",
       "7  spec5    0.5       9.64\n",
       "8  spec6    0.5      10.72\n",
       "9  spec7    0.5       9.86\n",
       "10 spec8    0.5       9.91\n",
       "11 spec1    0.6      10.97\n",
       "12 spec2    0.6      12.23\n",
       "13 spec3    0.6      11.03\n",
       "14 spec4    0.6       9.92\n",
       "15 spec5    0.6      11.06\n",
       "16 spec6    0.6      11.84\n",
       "17 spec7    0.6      11.07\n",
       "18 spec8    0.6      11.06\n",
       "19 spec1    0.7      12.05\n",
       "20 spec2    0.7      13.19\n",
       "21 spec3    0.7      12.14\n",
       "22 spec4    0.7      11.10\n",
       "23 spec3    1.4      17.94\n",
       "24 spec4    1.4      17.43\n",
       "25 spec5    1.4      18.76\n",
       "26 spec6    1.4      18.44\n",
       "27 spec7    1.4      17.69\n",
       "28 spec8    1.4      17.34\n",
       "29 spec1    1.6      19.52\n",
       "30 spec2    1.6      18.41\n",
       "31 spec3    1.6      18.22\n",
       "32 spec4    1.6      18.36\n",
       "33 spec5    1.6      19.81\n",
       "34 spec6    1.6      19.46\n",
       "35 spec7    1.6      18.71\n",
       "36 spec8    1.6      18.23\n",
       "37 spec1    1.8      19.97\n",
       "38 spec2    1.8      18.97\n",
       "39 spec3    1.8      19.40\n",
       "40 spec4    1.8      18.93\n",
       "41 spec5    1.8      20.62\n",
       "42 spec6    1.8      20.05\n",
       "43 spec7    1.8      19.54\n",
       "44 spec8    1.8      18.87"
      ]
     },
     "metadata": {},
     "output_type": "display_data"
    }
   ],
   "source": [
    "# timber_dat <- read.table(file = file.choose())\n",
    "names(timber_dat) <- NULL\n",
    "Nam <- c(\"specimen\", \"slippage\", \"loads\")\n",
    "dat1 <- timber_dat[, 1:3] %>% data.matrix; dat2 <- timber_dat[, 4:6] %>% \n",
    "data.matrix\n",
    "timber_dat2 <- rbind(dat1, dat2) %>% as.data.frame %>%\n",
    "setNames(Nam) %>% \n",
    "mutate(specimen = paste0(\"spec\", specimen))\n",
    "timber_dat2"
   ]
  },
  {
   "cell_type": "code",
   "execution_count": 36,
   "metadata": {
    "vscode": {
     "languageId": "r"
    }
   },
   "outputs": [],
   "source": [
    "Model1 <- lmer(loads ~ slippage  + I(slippage^2) + \n",
    "(0 + slippage | specimen) -1, data = timber_dat2, REML = F)"
   ]
  },
  {
   "cell_type": "code",
   "execution_count": 37,
   "metadata": {
    "vscode": {
     "languageId": "r"
    }
   },
   "outputs": [
    {
     "data": {
      "text/plain": [
       "Linear mixed model fit by maximum likelihood  ['lmerMod']\n",
       "Formula: loads ~ slippage + I(slippage^2) + (0 + slippage | specimen) -      1\n",
       "   Data: timber_dat2\n",
       "\n",
       "     AIC      BIC   logLik deviance df.resid \n",
       "    99.2    106.4    -45.6     91.2       40 \n",
       "\n",
       "Scaled residuals: \n",
       "    Min      1Q  Median      3Q     Max \n",
       "-1.6707 -0.6193  0.1292  0.7763  2.2592 \n",
       "\n",
       "Random effects:\n",
       " Groups   Name     Variance Std.Dev.\n",
       " specimen slippage 0.08435  0.2904  \n",
       " Residual          0.38661  0.6218  \n",
       "Number of obs: 44, groups:  specimen, 8\n",
       "\n",
       "Fixed effects:\n",
       "              Estimate Std. Error t value\n",
       "slippage       22.2431     0.3504   63.47\n",
       "I(slippage^2)  -6.4478     0.2127  -30.32\n",
       "\n",
       "Correlation of Fixed Effects:\n",
       "            slippg\n",
       "I(slippg^2) -0.930"
      ]
     },
     "metadata": {},
     "output_type": "display_data"
    }
   ],
   "source": [
    "summary(Model1)"
   ]
  },
  {
   "cell_type": "code",
   "execution_count": 38,
   "metadata": {
    "vscode": {
     "languageId": "r"
    }
   },
   "outputs": [
    {
     "data": {
      "text/plain": [
       "$specimen\n",
       "      slippage I(slippage^2)\n",
       "spec1 22.42000     -6.447782\n",
       "spec2 22.29442     -6.447782\n",
       "spec3 22.10970     -6.447782\n",
       "spec4 21.85456     -6.447782\n",
       "spec5 22.57213     -6.447782\n",
       "spec6 22.49293     -6.447782\n",
       "spec7 22.19322     -6.447782\n",
       "spec8 22.00769     -6.447782\n",
       "\n",
       "attr(,\"class\")\n",
       "[1] \"coef.mer\""
      ]
     },
     "metadata": {},
     "output_type": "display_data"
    }
   ],
   "source": [
    "coef(Model1)"
   ]
  },
  {
   "cell_type": "code",
   "execution_count": 47,
   "metadata": {
    "vscode": {
     "languageId": "r"
    }
   },
   "outputs": [
    {
     "data": {
      "text/html": [
       "<table class=\"dataframe\">\n",
       "<caption>A data.frame: 8 × 3</caption>\n",
       "<thead>\n",
       "\t<tr><th scope=col>specimen</th><th scope=col>slippage</th><th scope=col>I(slippage^2)</th></tr>\n",
       "\t<tr><th scope=col>&lt;chr&gt;</th><th scope=col>&lt;dbl&gt;</th><th scope=col>&lt;dbl&gt;</th></tr>\n",
       "</thead>\n",
       "<tbody>\n",
       "\t<tr><td>spec1</td><td>22.42000</td><td>-6.447782</td></tr>\n",
       "\t<tr><td>spec2</td><td>22.29442</td><td>-6.447782</td></tr>\n",
       "\t<tr><td>spec3</td><td>22.10970</td><td>-6.447782</td></tr>\n",
       "\t<tr><td>spec4</td><td>21.85456</td><td>-6.447782</td></tr>\n",
       "\t<tr><td>spec5</td><td>22.57213</td><td>-6.447782</td></tr>\n",
       "\t<tr><td>spec6</td><td>22.49293</td><td>-6.447782</td></tr>\n",
       "\t<tr><td>spec7</td><td>22.19322</td><td>-6.447782</td></tr>\n",
       "\t<tr><td>spec8</td><td>22.00769</td><td>-6.447782</td></tr>\n",
       "</tbody>\n",
       "</table>\n"
      ],
      "text/latex": [
       "A data.frame: 8 × 3\n",
       "\\begin{tabular}{lll}\n",
       " specimen & slippage & I(slippage\\textasciicircum{}2)\\\\\n",
       " <chr> & <dbl> & <dbl>\\\\\n",
       "\\hline\n",
       "\t spec1 & 22.42000 & -6.447782\\\\\n",
       "\t spec2 & 22.29442 & -6.447782\\\\\n",
       "\t spec3 & 22.10970 & -6.447782\\\\\n",
       "\t spec4 & 21.85456 & -6.447782\\\\\n",
       "\t spec5 & 22.57213 & -6.447782\\\\\n",
       "\t spec6 & 22.49293 & -6.447782\\\\\n",
       "\t spec7 & 22.19322 & -6.447782\\\\\n",
       "\t spec8 & 22.00769 & -6.447782\\\\\n",
       "\\end{tabular}\n"
      ],
      "text/markdown": [
       "\n",
       "A data.frame: 8 × 3\n",
       "\n",
       "| specimen &lt;chr&gt; | slippage &lt;dbl&gt; | I(slippage^2) &lt;dbl&gt; |\n",
       "|---|---|---|\n",
       "| spec1 | 22.42000 | -6.447782 |\n",
       "| spec2 | 22.29442 | -6.447782 |\n",
       "| spec3 | 22.10970 | -6.447782 |\n",
       "| spec4 | 21.85456 | -6.447782 |\n",
       "| spec5 | 22.57213 | -6.447782 |\n",
       "| spec6 | 22.49293 | -6.447782 |\n",
       "| spec7 | 22.19322 | -6.447782 |\n",
       "| spec8 | 22.00769 | -6.447782 |\n",
       "\n"
      ],
      "text/plain": [
       "  specimen slippage I(slippage^2)\n",
       "1 spec1    22.42000 -6.447782    \n",
       "2 spec2    22.29442 -6.447782    \n",
       "3 spec3    22.10970 -6.447782    \n",
       "4 spec4    21.85456 -6.447782    \n",
       "5 spec5    22.57213 -6.447782    \n",
       "6 spec6    22.49293 -6.447782    \n",
       "7 spec7    22.19322 -6.447782    \n",
       "8 spec8    22.00769 -6.447782    "
      ]
     },
     "metadata": {},
     "output_type": "display_data"
    }
   ],
   "source": [
    "dat1 <- coef(Model1)[][[1]]\n",
    "dat1 %>% \n",
    "rownames_to_column(var = \"specimen\") -> dat2\n",
    "dat2"
   ]
  },
  {
   "cell_type": "code",
   "execution_count": 60,
   "metadata": {
    "vscode": {
     "languageId": "r"
    }
   },
   "outputs": [
    {
     "data": {
      "text/html": [
       "<table class=\"dataframe\">\n",
       "<caption>A data.frame: 6 × 5</caption>\n",
       "<thead>\n",
       "\t<tr><th></th><th scope=col>specimen</th><th scope=col>slippage</th><th scope=col>loads</th><th scope=col>slope_slippage</th><th scope=col>slope_slippage2</th></tr>\n",
       "\t<tr><th></th><th scope=col>&lt;chr&gt;</th><th scope=col>&lt;dbl&gt;</th><th scope=col>&lt;dbl&gt;</th><th scope=col>&lt;lgl&gt;</th><th scope=col>&lt;dbl&gt;</th></tr>\n",
       "</thead>\n",
       "<tbody>\n",
       "\t<tr><th scope=row>1</th><td>spec7</td><td>0.4</td><td> 8.29</td><td>NA</td><td>-6.447782</td></tr>\n",
       "\t<tr><th scope=row>2</th><td>spec8</td><td>0.4</td><td> 8.32</td><td>NA</td><td>-6.447782</td></tr>\n",
       "\t<tr><th scope=row>3</th><td>spec1</td><td>0.5</td><td> 9.78</td><td>NA</td><td>-6.447782</td></tr>\n",
       "\t<tr><th scope=row>4</th><td>spec2</td><td>0.5</td><td>10.94</td><td>NA</td><td>-6.447782</td></tr>\n",
       "\t<tr><th scope=row>5</th><td>spec3</td><td>0.5</td><td> 9.72</td><td>NA</td><td>-6.447782</td></tr>\n",
       "\t<tr><th scope=row>6</th><td>spec4</td><td>0.5</td><td> 8.32</td><td>NA</td><td>-6.447782</td></tr>\n",
       "</tbody>\n",
       "</table>\n"
      ],
      "text/latex": [
       "A data.frame: 6 × 5\n",
       "\\begin{tabular}{r|lllll}\n",
       "  & specimen & slippage & loads & slope\\_slippage & slope\\_slippage2\\\\\n",
       "  & <chr> & <dbl> & <dbl> & <lgl> & <dbl>\\\\\n",
       "\\hline\n",
       "\t1 & spec7 & 0.4 &  8.29 & NA & -6.447782\\\\\n",
       "\t2 & spec8 & 0.4 &  8.32 & NA & -6.447782\\\\\n",
       "\t3 & spec1 & 0.5 &  9.78 & NA & -6.447782\\\\\n",
       "\t4 & spec2 & 0.5 & 10.94 & NA & -6.447782\\\\\n",
       "\t5 & spec3 & 0.5 &  9.72 & NA & -6.447782\\\\\n",
       "\t6 & spec4 & 0.5 &  8.32 & NA & -6.447782\\\\\n",
       "\\end{tabular}\n"
      ],
      "text/markdown": [
       "\n",
       "A data.frame: 6 × 5\n",
       "\n",
       "| <!--/--> | specimen &lt;chr&gt; | slippage &lt;dbl&gt; | loads &lt;dbl&gt; | slope_slippage &lt;lgl&gt; | slope_slippage2 &lt;dbl&gt; |\n",
       "|---|---|---|---|---|---|\n",
       "| 1 | spec7 | 0.4 |  8.29 | NA | -6.447782 |\n",
       "| 2 | spec8 | 0.4 |  8.32 | NA | -6.447782 |\n",
       "| 3 | spec1 | 0.5 |  9.78 | NA | -6.447782 |\n",
       "| 4 | spec2 | 0.5 | 10.94 | NA | -6.447782 |\n",
       "| 5 | spec3 | 0.5 |  9.72 | NA | -6.447782 |\n",
       "| 6 | spec4 | 0.5 |  8.32 | NA | -6.447782 |\n",
       "\n"
      ],
      "text/plain": [
       "  specimen slippage loads slope_slippage slope_slippage2\n",
       "1 spec7    0.4       8.29 NA             -6.447782      \n",
       "2 spec8    0.4       8.32 NA             -6.447782      \n",
       "3 spec1    0.5       9.78 NA             -6.447782      \n",
       "4 spec2    0.5      10.94 NA             -6.447782      \n",
       "5 spec3    0.5       9.72 NA             -6.447782      \n",
       "6 spec4    0.5       8.32 NA             -6.447782      "
      ]
     },
     "metadata": {},
     "output_type": "display_data"
    }
   ],
   "source": [
    "dat <- timber_dat2 %>%\n",
    "mutate(slope_slippage = NA, slope_slippage2 = dat2[1, 3])\n",
    "dat %>% head"
   ]
  },
  {
   "cell_type": "code",
   "execution_count": 61,
   "metadata": {
    "vscode": {
     "languageId": "r"
    }
   },
   "outputs": [
    {
     "data": {
      "text/html": [
       "<table class=\"dataframe\">\n",
       "<caption>A data.frame: 6 × 5</caption>\n",
       "<thead>\n",
       "\t<tr><th></th><th scope=col>specimen</th><th scope=col>slippage</th><th scope=col>loads</th><th scope=col>slope_slippage</th><th scope=col>slope_slippage2</th></tr>\n",
       "\t<tr><th></th><th scope=col>&lt;chr&gt;</th><th scope=col>&lt;dbl&gt;</th><th scope=col>&lt;dbl&gt;</th><th scope=col>&lt;dbl&gt;</th><th scope=col>&lt;dbl&gt;</th></tr>\n",
       "</thead>\n",
       "<tbody>\n",
       "\t<tr><th scope=row>1</th><td>spec7</td><td>0.4</td><td> 8.29</td><td>22.19322</td><td>-6.447782</td></tr>\n",
       "\t<tr><th scope=row>2</th><td>spec8</td><td>0.4</td><td> 8.32</td><td>22.00769</td><td>-6.447782</td></tr>\n",
       "\t<tr><th scope=row>3</th><td>spec1</td><td>0.5</td><td> 9.78</td><td>22.42000</td><td>-6.447782</td></tr>\n",
       "\t<tr><th scope=row>4</th><td>spec2</td><td>0.5</td><td>10.94</td><td>22.29442</td><td>-6.447782</td></tr>\n",
       "\t<tr><th scope=row>5</th><td>spec3</td><td>0.5</td><td> 9.72</td><td>22.10970</td><td>-6.447782</td></tr>\n",
       "\t<tr><th scope=row>6</th><td>spec4</td><td>0.5</td><td> 8.32</td><td>21.85456</td><td>-6.447782</td></tr>\n",
       "</tbody>\n",
       "</table>\n"
      ],
      "text/latex": [
       "A data.frame: 6 × 5\n",
       "\\begin{tabular}{r|lllll}\n",
       "  & specimen & slippage & loads & slope\\_slippage & slope\\_slippage2\\\\\n",
       "  & <chr> & <dbl> & <dbl> & <dbl> & <dbl>\\\\\n",
       "\\hline\n",
       "\t1 & spec7 & 0.4 &  8.29 & 22.19322 & -6.447782\\\\\n",
       "\t2 & spec8 & 0.4 &  8.32 & 22.00769 & -6.447782\\\\\n",
       "\t3 & spec1 & 0.5 &  9.78 & 22.42000 & -6.447782\\\\\n",
       "\t4 & spec2 & 0.5 & 10.94 & 22.29442 & -6.447782\\\\\n",
       "\t5 & spec3 & 0.5 &  9.72 & 22.10970 & -6.447782\\\\\n",
       "\t6 & spec4 & 0.5 &  8.32 & 21.85456 & -6.447782\\\\\n",
       "\\end{tabular}\n"
      ],
      "text/markdown": [
       "\n",
       "A data.frame: 6 × 5\n",
       "\n",
       "| <!--/--> | specimen &lt;chr&gt; | slippage &lt;dbl&gt; | loads &lt;dbl&gt; | slope_slippage &lt;dbl&gt; | slope_slippage2 &lt;dbl&gt; |\n",
       "|---|---|---|---|---|---|\n",
       "| 1 | spec7 | 0.4 |  8.29 | 22.19322 | -6.447782 |\n",
       "| 2 | spec8 | 0.4 |  8.32 | 22.00769 | -6.447782 |\n",
       "| 3 | spec1 | 0.5 |  9.78 | 22.42000 | -6.447782 |\n",
       "| 4 | spec2 | 0.5 | 10.94 | 22.29442 | -6.447782 |\n",
       "| 5 | spec3 | 0.5 |  9.72 | 22.10970 | -6.447782 |\n",
       "| 6 | spec4 | 0.5 |  8.32 | 21.85456 | -6.447782 |\n",
       "\n"
      ],
      "text/plain": [
       "  specimen slippage loads slope_slippage slope_slippage2\n",
       "1 spec7    0.4       8.29 22.19322       -6.447782      \n",
       "2 spec8    0.4       8.32 22.00769       -6.447782      \n",
       "3 spec1    0.5       9.78 22.42000       -6.447782      \n",
       "4 spec2    0.5      10.94 22.29442       -6.447782      \n",
       "5 spec3    0.5       9.72 22.10970       -6.447782      \n",
       "6 spec4    0.5       8.32 21.85456       -6.447782      "
      ]
     },
     "metadata": {},
     "output_type": "display_data"
    }
   ],
   "source": [
    "for(i in 1:8){\n",
    "    index <- dat2[i, 1]\n",
    "    val <- dat2[i, 2]\n",
    "    ind <- index == dat$specimen \n",
    "    dat$slope_slippage[ind] <- val\n",
    "}\n",
    "dat %>% head"
   ]
  },
  {
   "cell_type": "code",
   "execution_count": 97,
   "metadata": {
    "vscode": {
     "languageId": "r"
    }
   },
   "outputs": [
    {
     "data": {
      "text/html": [
       "<style>\n",
       ".list-inline {list-style: none; margin:0; padding: 0}\n",
       ".list-inline>li {display: inline-block}\n",
       ".list-inline>li:not(:last-child)::after {content: \"\\00b7\"; padding: 0 .5ex}\n",
       "</style>\n",
       "<ol class=list-inline><li>'specimen'</li><li>'slippage'</li><li>'loads'</li><li>'slope_slippage'</li><li>'slope_slippage2'</li></ol>\n"
      ],
      "text/latex": [
       "\\begin{enumerate*}\n",
       "\\item 'specimen'\n",
       "\\item 'slippage'\n",
       "\\item 'loads'\n",
       "\\item 'slope\\_slippage'\n",
       "\\item 'slope\\_slippage2'\n",
       "\\end{enumerate*}\n"
      ],
      "text/markdown": [
       "1. 'specimen'\n",
       "2. 'slippage'\n",
       "3. 'loads'\n",
       "4. 'slope_slippage'\n",
       "5. 'slope_slippage2'\n",
       "\n",
       "\n"
      ],
      "text/plain": [
       "[1] \"specimen\"        \"slippage\"        \"loads\"           \"slope_slippage\" \n",
       "[5] \"slope_slippage2\""
      ]
     },
     "metadata": {},
     "output_type": "display_data"
    }
   ],
   "source": [
    "f <- function(x, a) a * x + dat2[1, 3] * x^2\n",
    "names(dat)"
   ]
  },
  {
   "cell_type": "code",
   "execution_count": null,
   "metadata": {
    "vscode": {
     "languageId": "r"
    }
   },
   "outputs": [],
   "source": []
  },
  {
   "cell_type": "code",
   "execution_count": 120,
   "metadata": {
    "vscode": {
     "languageId": "r"
    }
   },
   "outputs": [
    {
     "data": {
      "text/html": [
       "<style>\n",
       ".list-inline {list-style: none; margin:0; padding: 0}\n",
       ".list-inline>li {display: inline-block}\n",
       ".list-inline>li:not(:last-child)::after {content: \"\\00b7\"; padding: 0 .5ex}\n",
       "</style>\n",
       "<ol class=list-inline><li>'spec7'</li><li>'spec8'</li><li>'spec1'</li><li>'spec2'</li><li>'spec3'</li><li>'spec4'</li><li>'spec5'</li><li>'spec6'</li></ol>\n"
      ],
      "text/latex": [
       "\\begin{enumerate*}\n",
       "\\item 'spec7'\n",
       "\\item 'spec8'\n",
       "\\item 'spec1'\n",
       "\\item 'spec2'\n",
       "\\item 'spec3'\n",
       "\\item 'spec4'\n",
       "\\item 'spec5'\n",
       "\\item 'spec6'\n",
       "\\end{enumerate*}\n"
      ],
      "text/markdown": [
       "1. 'spec7'\n",
       "2. 'spec8'\n",
       "3. 'spec1'\n",
       "4. 'spec2'\n",
       "5. 'spec3'\n",
       "6. 'spec4'\n",
       "7. 'spec5'\n",
       "8. 'spec6'\n",
       "\n",
       "\n"
      ],
      "text/plain": [
       "[1] \"spec7\" \"spec8\" \"spec1\" \"spec2\" \"spec3\" \"spec4\" \"spec5\" \"spec6\""
      ]
     },
     "metadata": {},
     "output_type": "display_data"
    }
   ],
   "source": [
    "Plots <- list()\n",
    "flag <- 0\n",
    "main_list <- unique(dat$specimen)\n",
    "for(i in unique(main_list)){\n",
    "    flag = flag + 1\n",
    "    aa <- dat2 %>% dplyr :: filter(specimen == i) %>% .[2] %>%\n",
    "    as.numeric\n",
    "    Plots[[flag]] <- dat %>%\n",
    "        dplyr :: filter(specimen == i) %>%\n",
    "        ggplot(aes(x = slippage, y = loads)) + \n",
    "        geom_point(size = 3) + \n",
    "        stat_function(fun = f, xlim = extendrange(dat$slippage), \n",
    "        args = list(a = aa), linewidth = 1.5, colour = 2) +\n",
    "        labs(title = i, \n",
    "        caption = paste0(\"slope slippage = \", round(aa, 4))) +\n",
    "        theme_bw()\n",
    "}\n",
    "main_list"
   ]
  },
  {
   "cell_type": "code",
   "execution_count": 122,
   "metadata": {
    "vscode": {
     "languageId": "r"
    }
   },
   "outputs": [
    {
     "data": {
      "image/png": "[encoded data removed]",
      "text/plain": [
       "plot without title"
      ]
     },
     "metadata": {
      "image/png": {
       "height": 420,
       "width": 420
      }
     },
     "output_type": "display_data"
    }
   ],
   "source": [
    "ggarrange(Plots[[1]], Plots[[2]], \n",
    "Plots[[3]], Plots[[4]], Plots[[5]], Plots[[6]], \n",
    "Plots[[7]], Plots[[8]],\n",
    "ncol = 4, nrow = 2)"
   ]
  },
  {
   "attachments": {},
   "cell_type": "markdown",
   "metadata": {},
   "source": [
    "<hr>\n",
    "<br><br>\n",
    "<div style = \"color : blue;\"><b>\n",
    "\n",
    "Ex. 8.2 Investigate a further model for the glucose challenge data that allows\n",
    "a random quadratic effect.\n",
    "\n",
    "<br></b></div>"
   ]
  },
  {
   "cell_type": "code",
   "execution_count": 124,
   "metadata": {
    "vscode": {
     "languageId": "r"
    }
   },
   "outputs": [],
   "source": [
    "#glucose_data <- read.table(file = file.choose())\n",
    "names(glucose_data) <- NULL\n",
    "Nam2 <- c(\"Subject\", \"group\", \"time\", \"plasma\")\n",
    "data1 <- glucose_data[, 1:4] %>% data.matrix; data2 <- glucose_data[, 5:8] %>% \n",
    "data.matrix\n"
   ]
  },
  {
   "cell_type": "code",
   "execution_count": 143,
   "metadata": {
    "vscode": {
     "languageId": "r"
    }
   },
   "outputs": [
    {
     "data": {
      "text/html": [
       "<table class=\"dataframe\">\n",
       "<caption>A data.frame: 264 × 4</caption>\n",
       "<thead>\n",
       "\t<tr><th scope=col>Subject</th><th scope=col>group</th><th scope=col>time</th><th scope=col>plasma</th></tr>\n",
       "\t<tr><th scope=col>&lt;chr&gt;</th><th scope=col>&lt;dbl&gt;</th><th scope=col>&lt;dbl&gt;</th><th scope=col>&lt;dbl&gt;</th></tr>\n",
       "</thead>\n",
       "<tbody>\n",
       "\t<tr><td>id01</td><td>1</td><td>1</td><td>4.3</td></tr>\n",
       "\t<tr><td>id02</td><td>1</td><td>1</td><td>3.7</td></tr>\n",
       "\t<tr><td>id03</td><td>1</td><td>1</td><td>4.0</td></tr>\n",
       "\t<tr><td>id04</td><td>1</td><td>1</td><td>3.6</td></tr>\n",
       "\t<tr><td>id05</td><td>1</td><td>1</td><td>4.1</td></tr>\n",
       "\t<tr><td>id06</td><td>1</td><td>1</td><td>3.8</td></tr>\n",
       "\t<tr><td>id07</td><td>1</td><td>1</td><td>3.8</td></tr>\n",
       "\t<tr><td>id08</td><td>1</td><td>1</td><td>4.4</td></tr>\n",
       "\t<tr><td>id09</td><td>1</td><td>1</td><td>5.0</td></tr>\n",
       "\t<tr><td>id10</td><td>1</td><td>1</td><td>3.7</td></tr>\n",
       "\t<tr><td>id11</td><td>1</td><td>1</td><td>3.7</td></tr>\n",
       "\t<tr><td>id12</td><td>1</td><td>1</td><td>4.4</td></tr>\n",
       "\t<tr><td>id13</td><td>1</td><td>1</td><td>4.7</td></tr>\n",
       "\t<tr><td>id14</td><td>1</td><td>1</td><td>4.3</td></tr>\n",
       "\t<tr><td>id15</td><td>1</td><td>1</td><td>5.0</td></tr>\n",
       "\t<tr><td>id16</td><td>1</td><td>1</td><td>4.6</td></tr>\n",
       "\t<tr><td>id17</td><td>1</td><td>1</td><td>4.3</td></tr>\n",
       "\t<tr><td>id18</td><td>1</td><td>1</td><td>3.1</td></tr>\n",
       "\t<tr><td>id19</td><td>1</td><td>1</td><td>4.8</td></tr>\n",
       "\t<tr><td>id20</td><td>1</td><td>1</td><td>3.7</td></tr>\n",
       "\t<tr><td>id21</td><td>2</td><td>1</td><td>5.4</td></tr>\n",
       "\t<tr><td>id22</td><td>2</td><td>1</td><td>3.0</td></tr>\n",
       "\t<tr><td>id23</td><td>2</td><td>1</td><td>4.9</td></tr>\n",
       "\t<tr><td>id24</td><td>2</td><td>1</td><td>4.8</td></tr>\n",
       "\t<tr><td>id25</td><td>2</td><td>1</td><td>4.4</td></tr>\n",
       "\t<tr><td>id26</td><td>2</td><td>1</td><td>4.9</td></tr>\n",
       "\t<tr><td>id27</td><td>2</td><td>1</td><td>5.1</td></tr>\n",
       "\t<tr><td>id28</td><td>2</td><td>1</td><td>4.8</td></tr>\n",
       "\t<tr><td>id29</td><td>2</td><td>1</td><td>4.2</td></tr>\n",
       "\t<tr><td>id30</td><td>2</td><td>1</td><td>6.6</td></tr>\n",
       "\t<tr><td>⋮</td><td>⋮</td><td>⋮</td><td>⋮</td></tr>\n",
       "\t<tr><td>id04</td><td>1</td><td>8</td><td>4.0</td></tr>\n",
       "\t<tr><td>id05</td><td>1</td><td>8</td><td>3.7</td></tr>\n",
       "\t<tr><td>id06</td><td>1</td><td>8</td><td>3.5</td></tr>\n",
       "\t<tr><td>id07</td><td>1</td><td>8</td><td>3.7</td></tr>\n",
       "\t<tr><td>id08</td><td>1</td><td>8</td><td>3.9</td></tr>\n",
       "\t<tr><td>id09</td><td>1</td><td>8</td><td>4.3</td></tr>\n",
       "\t<tr><td>id10</td><td>1</td><td>8</td><td>2.8</td></tr>\n",
       "\t<tr><td>id11</td><td>1</td><td>8</td><td>3.9</td></tr>\n",
       "\t<tr><td>id12</td><td>1</td><td>8</td><td>4.8</td></tr>\n",
       "\t<tr><td>id13</td><td>1</td><td>8</td><td>4.3</td></tr>\n",
       "\t<tr><td>id14</td><td>1</td><td>8</td><td>3.4</td></tr>\n",
       "\t<tr><td>id15</td><td>1</td><td>8</td><td>4.9</td></tr>\n",
       "\t<tr><td>id16</td><td>1</td><td>8</td><td>5.0</td></tr>\n",
       "\t<tr><td>id17</td><td>1</td><td>8</td><td>4.0</td></tr>\n",
       "\t<tr><td>id18</td><td>1</td><td>8</td><td>2.7</td></tr>\n",
       "\t<tr><td>id19</td><td>1</td><td>8</td><td>3.6</td></tr>\n",
       "\t<tr><td>id20</td><td>1</td><td>8</td><td>4.4</td></tr>\n",
       "\t<tr><td>id21</td><td>2</td><td>8</td><td>3.7</td></tr>\n",
       "\t<tr><td>id22</td><td>2</td><td>8</td><td>3.5</td></tr>\n",
       "\t<tr><td>id23</td><td>2</td><td>8</td><td>4.9</td></tr>\n",
       "\t<tr><td>id24</td><td>2</td><td>8</td><td>3.9</td></tr>\n",
       "\t<tr><td>id25</td><td>2</td><td>8</td><td>4.0</td></tr>\n",
       "\t<tr><td>id26</td><td>2</td><td>8</td><td>4.3</td></tr>\n",
       "\t<tr><td>id27</td><td>2</td><td>8</td><td>4.9</td></tr>\n",
       "\t<tr><td>id28</td><td>2</td><td>8</td><td>3.8</td></tr>\n",
       "\t<tr><td>id29</td><td>2</td><td>8</td><td>3.9</td></tr>\n",
       "\t<tr><td>id30</td><td>2</td><td>8</td><td>4.8</td></tr>\n",
       "\t<tr><td>id31</td><td>2</td><td>8</td><td>3.5</td></tr>\n",
       "\t<tr><td>id32</td><td>2</td><td>8</td><td>3.3</td></tr>\n",
       "\t<tr><td>id33</td><td>2</td><td>8</td><td>3.8</td></tr>\n",
       "</tbody>\n",
       "</table>\n"
      ],
      "text/latex": [
       "A data.frame: 264 × 4\n",
       "\\begin{tabular}{llll}\n",
       " Subject & group & time & plasma\\\\\n",
       " <chr> & <dbl> & <dbl> & <dbl>\\\\\n",
       "\\hline\n",
       "\t id01 & 1 & 1 & 4.3\\\\\n",
       "\t id02 & 1 & 1 & 3.7\\\\\n",
       "\t id03 & 1 & 1 & 4.0\\\\\n",
       "\t id04 & 1 & 1 & 3.6\\\\\n",
       "\t id05 & 1 & 1 & 4.1\\\\\n",
       "\t id06 & 1 & 1 & 3.8\\\\\n",
       "\t id07 & 1 & 1 & 3.8\\\\\n",
       "\t id08 & 1 & 1 & 4.4\\\\\n",
       "\t id09 & 1 & 1 & 5.0\\\\\n",
       "\t id10 & 1 & 1 & 3.7\\\\\n",
       "\t id11 & 1 & 1 & 3.7\\\\\n",
       "\t id12 & 1 & 1 & 4.4\\\\\n",
       "\t id13 & 1 & 1 & 4.7\\\\\n",
       "\t id14 & 1 & 1 & 4.3\\\\\n",
       "\t id15 & 1 & 1 & 5.0\\\\\n",
       "\t id16 & 1 & 1 & 4.6\\\\\n",
       "\t id17 & 1 & 1 & 4.3\\\\\n",
       "\t id18 & 1 & 1 & 3.1\\\\\n",
       "\t id19 & 1 & 1 & 4.8\\\\\n",
       "\t id20 & 1 & 1 & 3.7\\\\\n",
       "\t id21 & 2 & 1 & 5.4\\\\\n",
       "\t id22 & 2 & 1 & 3.0\\\\\n",
       "\t id23 & 2 & 1 & 4.9\\\\\n",
       "\t id24 & 2 & 1 & 4.8\\\\\n",
       "\t id25 & 2 & 1 & 4.4\\\\\n",
       "\t id26 & 2 & 1 & 4.9\\\\\n",
       "\t id27 & 2 & 1 & 5.1\\\\\n",
       "\t id28 & 2 & 1 & 4.8\\\\\n",
       "\t id29 & 2 & 1 & 4.2\\\\\n",
       "\t id30 & 2 & 1 & 6.6\\\\\n",
       "\t ⋮ & ⋮ & ⋮ & ⋮\\\\\n",
       "\t id04 & 1 & 8 & 4.0\\\\\n",
       "\t id05 & 1 & 8 & 3.7\\\\\n",
       "\t id06 & 1 & 8 & 3.5\\\\\n",
       "\t id07 & 1 & 8 & 3.7\\\\\n",
       "\t id08 & 1 & 8 & 3.9\\\\\n",
       "\t id09 & 1 & 8 & 4.3\\\\\n",
       "\t id10 & 1 & 8 & 2.8\\\\\n",
       "\t id11 & 1 & 8 & 3.9\\\\\n",
       "\t id12 & 1 & 8 & 4.8\\\\\n",
       "\t id13 & 1 & 8 & 4.3\\\\\n",
       "\t id14 & 1 & 8 & 3.4\\\\\n",
       "\t id15 & 1 & 8 & 4.9\\\\\n",
       "\t id16 & 1 & 8 & 5.0\\\\\n",
       "\t id17 & 1 & 8 & 4.0\\\\\n",
       "\t id18 & 1 & 8 & 2.7\\\\\n",
       "\t id19 & 1 & 8 & 3.6\\\\\n",
       "\t id20 & 1 & 8 & 4.4\\\\\n",
       "\t id21 & 2 & 8 & 3.7\\\\\n",
       "\t id22 & 2 & 8 & 3.5\\\\\n",
       "\t id23 & 2 & 8 & 4.9\\\\\n",
       "\t id24 & 2 & 8 & 3.9\\\\\n",
       "\t id25 & 2 & 8 & 4.0\\\\\n",
       "\t id26 & 2 & 8 & 4.3\\\\\n",
       "\t id27 & 2 & 8 & 4.9\\\\\n",
       "\t id28 & 2 & 8 & 3.8\\\\\n",
       "\t id29 & 2 & 8 & 3.9\\\\\n",
       "\t id30 & 2 & 8 & 4.8\\\\\n",
       "\t id31 & 2 & 8 & 3.5\\\\\n",
       "\t id32 & 2 & 8 & 3.3\\\\\n",
       "\t id33 & 2 & 8 & 3.8\\\\\n",
       "\\end{tabular}\n"
      ],
      "text/markdown": [
       "\n",
       "A data.frame: 264 × 4\n",
       "\n",
       "| Subject &lt;chr&gt; | group &lt;dbl&gt; | time &lt;dbl&gt; | plasma &lt;dbl&gt; |\n",
       "|---|---|---|---|\n",
       "| id01 | 1 | 1 | 4.3 |\n",
       "| id02 | 1 | 1 | 3.7 |\n",
       "| id03 | 1 | 1 | 4.0 |\n",
       "| id04 | 1 | 1 | 3.6 |\n",
       "| id05 | 1 | 1 | 4.1 |\n",
       "| id06 | 1 | 1 | 3.8 |\n",
       "| id07 | 1 | 1 | 3.8 |\n",
       "| id08 | 1 | 1 | 4.4 |\n",
       "| id09 | 1 | 1 | 5.0 |\n",
       "| id10 | 1 | 1 | 3.7 |\n",
       "| id11 | 1 | 1 | 3.7 |\n",
       "| id12 | 1 | 1 | 4.4 |\n",
       "| id13 | 1 | 1 | 4.7 |\n",
       "| id14 | 1 | 1 | 4.3 |\n",
       "| id15 | 1 | 1 | 5.0 |\n",
       "| id16 | 1 | 1 | 4.6 |\n",
       "| id17 | 1 | 1 | 4.3 |\n",
       "| id18 | 1 | 1 | 3.1 |\n",
       "| id19 | 1 | 1 | 4.8 |\n",
       "| id20 | 1 | 1 | 3.7 |\n",
       "| id21 | 2 | 1 | 5.4 |\n",
       "| id22 | 2 | 1 | 3.0 |\n",
       "| id23 | 2 | 1 | 4.9 |\n",
       "| id24 | 2 | 1 | 4.8 |\n",
       "| id25 | 2 | 1 | 4.4 |\n",
       "| id26 | 2 | 1 | 4.9 |\n",
       "| id27 | 2 | 1 | 5.1 |\n",
       "| id28 | 2 | 1 | 4.8 |\n",
       "| id29 | 2 | 1 | 4.2 |\n",
       "| id30 | 2 | 1 | 6.6 |\n",
       "| ⋮ | ⋮ | ⋮ | ⋮ |\n",
       "| id04 | 1 | 8 | 4.0 |\n",
       "| id05 | 1 | 8 | 3.7 |\n",
       "| id06 | 1 | 8 | 3.5 |\n",
       "| id07 | 1 | 8 | 3.7 |\n",
       "| id08 | 1 | 8 | 3.9 |\n",
       "| id09 | 1 | 8 | 4.3 |\n",
       "| id10 | 1 | 8 | 2.8 |\n",
       "| id11 | 1 | 8 | 3.9 |\n",
       "| id12 | 1 | 8 | 4.8 |\n",
       "| id13 | 1 | 8 | 4.3 |\n",
       "| id14 | 1 | 8 | 3.4 |\n",
       "| id15 | 1 | 8 | 4.9 |\n",
       "| id16 | 1 | 8 | 5.0 |\n",
       "| id17 | 1 | 8 | 4.0 |\n",
       "| id18 | 1 | 8 | 2.7 |\n",
       "| id19 | 1 | 8 | 3.6 |\n",
       "| id20 | 1 | 8 | 4.4 |\n",
       "| id21 | 2 | 8 | 3.7 |\n",
       "| id22 | 2 | 8 | 3.5 |\n",
       "| id23 | 2 | 8 | 4.9 |\n",
       "| id24 | 2 | 8 | 3.9 |\n",
       "| id25 | 2 | 8 | 4.0 |\n",
       "| id26 | 2 | 8 | 4.3 |\n",
       "| id27 | 2 | 8 | 4.9 |\n",
       "| id28 | 2 | 8 | 3.8 |\n",
       "| id29 | 2 | 8 | 3.9 |\n",
       "| id30 | 2 | 8 | 4.8 |\n",
       "| id31 | 2 | 8 | 3.5 |\n",
       "| id32 | 2 | 8 | 3.3 |\n",
       "| id33 | 2 | 8 | 3.8 |\n",
       "\n"
      ],
      "text/plain": [
       "    Subject group time plasma\n",
       "1   id01    1     1    4.3   \n",
       "2   id02    1     1    3.7   \n",
       "3   id03    1     1    4.0   \n",
       "4   id04    1     1    3.6   \n",
       "5   id05    1     1    4.1   \n",
       "6   id06    1     1    3.8   \n",
       "7   id07    1     1    3.8   \n",
       "8   id08    1     1    4.4   \n",
       "9   id09    1     1    5.0   \n",
       "10  id10    1     1    3.7   \n",
       "11  id11    1     1    3.7   \n",
       "12  id12    1     1    4.4   \n",
       "13  id13    1     1    4.7   \n",
       "14  id14    1     1    4.3   \n",
       "15  id15    1     1    5.0   \n",
       "16  id16    1     1    4.6   \n",
       "17  id17    1     1    4.3   \n",
       "18  id18    1     1    3.1   \n",
       "19  id19    1     1    4.8   \n",
       "20  id20    1     1    3.7   \n",
       "21  id21    2     1    5.4   \n",
       "22  id22    2     1    3.0   \n",
       "23  id23    2     1    4.9   \n",
       "24  id24    2     1    4.8   \n",
       "25  id25    2     1    4.4   \n",
       "26  id26    2     1    4.9   \n",
       "27  id27    2     1    5.1   \n",
       "28  id28    2     1    4.8   \n",
       "29  id29    2     1    4.2   \n",
       "30  id30    2     1    6.6   \n",
       "⋮   ⋮       ⋮     ⋮    ⋮     \n",
       "235 id04    1     8    4.0   \n",
       "236 id05    1     8    3.7   \n",
       "237 id06    1     8    3.5   \n",
       "238 id07    1     8    3.7   \n",
       "239 id08    1     8    3.9   \n",
       "240 id09    1     8    4.3   \n",
       "241 id10    1     8    2.8   \n",
       "242 id11    1     8    3.9   \n",
       "243 id12    1     8    4.8   \n",
       "244 id13    1     8    4.3   \n",
       "245 id14    1     8    3.4   \n",
       "246 id15    1     8    4.9   \n",
       "247 id16    1     8    5.0   \n",
       "248 id17    1     8    4.0   \n",
       "249 id18    1     8    2.7   \n",
       "250 id19    1     8    3.6   \n",
       "251 id20    1     8    4.4   \n",
       "252 id21    2     8    3.7   \n",
       "253 id22    2     8    3.5   \n",
       "254 id23    2     8    4.9   \n",
       "255 id24    2     8    3.9   \n",
       "256 id25    2     8    4.0   \n",
       "257 id26    2     8    4.3   \n",
       "258 id27    2     8    4.9   \n",
       "259 id28    2     8    3.8   \n",
       "260 id29    2     8    3.9   \n",
       "261 id30    2     8    4.8   \n",
       "262 id31    2     8    3.5   \n",
       "263 id32    2     8    3.3   \n",
       "264 id33    2     8    3.8   "
      ]
     },
     "metadata": {},
     "output_type": "display_data"
    }
   ],
   "source": [
    "glucose_data2 <- rbind(data1, data2) %>% as.data.frame %>%\n",
    "setNames(Nam2) %>% \n",
    "mutate(Subject = case_when(\n",
    "    Subject == 1 ~ \"01\", \n",
    "    Subject == 2 ~ \"02\", \n",
    "    Subject == 3 ~ \"03\", \n",
    "    Subject == 4 ~ \"04\", \n",
    "    Subject == 5 ~ \"05\", \n",
    "    Subject == 6 ~ \"06\", \n",
    "    Subject == 7 ~ \"07\", \n",
    "    Subject == 8 ~ \"08\", \n",
    "    Subject == 9 ~ \"09\", \n",
    "    TRUE ~ as.character(Subject)\n",
    ")) %>%\n",
    "mutate(Subject = paste0(\"id\", Subject))\n",
    "glucose_data2"
   ]
  },
  {
   "cell_type": "code",
   "execution_count": 146,
   "metadata": {
    "vscode": {
     "languageId": "r"
    }
   },
   "outputs": [
    {
     "data": {
      "text/plain": [
       "Linear mixed-effects model fit by maximum likelihood\n",
       "  Data: glucose_data2 \n",
       "       AIC      BIC    logLik\n",
       "  383.3149 415.4984 -182.6574\n",
       "\n",
       "Random effects:\n",
       " Formula: ~time | Subject\n",
       " Structure: General positive-definite, Log-Cholesky parametrization\n",
       "            StdDev     Corr  \n",
       "(Intercept) 0.64189717 (Intr)\n",
       "time        0.07626153 -0.631\n",
       "Residual    0.38480115       \n",
       "\n",
       "Fixed effects:  plasma ~ time * group + I(time^2) \n",
       "                Value Std.Error  DF   t-value p-value\n",
       "(Intercept)  3.662604 0.3844549 228  9.526747  0.0000\n",
       "time        -0.647352 0.0695839 228 -9.303178  0.0000\n",
       "group        0.996703 0.2548268  31  3.911296  0.0005\n",
       "I(time^2)    0.084668 0.0052177 228 16.227179  0.0000\n",
       "time:group  -0.111864 0.0347638 228 -3.217819  0.0015\n",
       " Correlation: \n",
       "           (Intr) time   group  I(t^2)\n",
       "time       -0.631                     \n",
       "group      -0.924  0.475              \n",
       "I(time^2)   0.204 -0.675  0.000       \n",
       "time:group  0.631 -0.696 -0.683  0.000\n",
       "\n",
       "Standardized Within-Group Residuals:\n",
       "        Min          Q1         Med          Q3         Max \n",
       "-2.72435999 -0.53605352 -0.01071279  0.58567769  2.95029273 \n",
       "\n",
       "Number of Observations: 264\n",
       "Number of Groups: 33 "
      ]
     },
     "metadata": {},
     "output_type": "display_data"
    }
   ],
   "source": [
    "Model_1 <- lme(plasma ~ time*group +I(time^2),\n",
    "random = ~time | Subject,\n",
    "data = glucose_data2, method = \"ML\")\n",
    "summary(Model_1)"
   ]
  },
  {
   "cell_type": "code",
   "execution_count": 147,
   "metadata": {
    "vscode": {
     "languageId": "r"
    }
   },
   "outputs": [
    {
     "data": {
      "text/plain": [
       "Linear mixed model fit by maximum likelihood  ['lmerMod']\n",
       "Formula: plasma ~ time * group + I(time^2) + (time | Subject)\n",
       "   Data: glucose_data2\n",
       "\n",
       "     AIC      BIC   logLik deviance df.resid \n",
       "   383.3    415.5   -182.7    365.3      255 \n",
       "\n",
       "Scaled residuals: \n",
       "     Min       1Q   Median       3Q      Max \n",
       "-2.72437 -0.53606 -0.01072  0.58568  2.95028 \n",
       "\n",
       "Random effects:\n",
       " Groups   Name        Variance Std.Dev. Corr \n",
       " Subject  (Intercept) 0.412050 0.64191       \n",
       "          time        0.005816 0.07626  -0.63\n",
       " Residual             0.148071 0.38480       \n",
       "Number of obs: 264, groups:  Subject, 33\n",
       "\n",
       "Fixed effects:\n",
       "             Estimate Std. Error t value\n",
       "(Intercept)  3.662604   0.380803   9.618\n",
       "time        -0.647352   0.068923  -9.392\n",
       "group        0.996703   0.252407   3.949\n",
       "I(time^2)    0.084668   0.005168  16.383\n",
       "time:group  -0.111864   0.034434  -3.249\n",
       "\n",
       "Correlation of Fixed Effects:\n",
       "           (Intr) time   group  I(t^2)\n",
       "time       -0.631                     \n",
       "group      -0.924  0.475              \n",
       "I(time^2)   0.204 -0.675  0.000       \n",
       "time:group  0.631 -0.696 -0.683  0.000"
      ]
     },
     "metadata": {},
     "output_type": "display_data"
    }
   ],
   "source": [
    "Model_lme4_1 <- lmer(plasma ~ time*group +I(time^2) + \n",
    "(time | Subject), REML = F, data = glucose_data2)\n",
    "summary(Model_lme4_1)"
   ]
  },
  {
   "cell_type": "code",
   "execution_count": 148,
   "metadata": {
    "vscode": {
     "languageId": "r"
    }
   },
   "outputs": [
    {
     "name": "stderr",
     "output_type": "stream",
     "text": [
      "Warning message in checkConv(attr(opt, \"derivs\"), opt$par, ctrl = control$checkConv, :\n",
      "\"Model failed to converge with max|grad| = 0.0126049 (tol = 0.002, component 1)\"\n"
     ]
    },
    {
     "data": {
      "text/plain": [
       "Linear mixed model fit by maximum likelihood  ['lmerMod']\n",
       "Formula: plasma ~ time * group + I(time^2) + (time + I(time^2) | Subject)\n",
       "   Data: glucose_data2\n",
       "\n",
       "     AIC      BIC   logLik deviance df.resid \n",
       "   385.0    427.9   -180.5    361.0      252 \n",
       "\n",
       "Scaled residuals: \n",
       "     Min       1Q   Median       3Q      Max \n",
       "-2.87652 -0.54529  0.00285  0.55988  2.92997 \n",
       "\n",
       "Random effects:\n",
       " Groups   Name        Variance  Std.Dev. Corr       \n",
       " Subject  (Intercept) 0.6233901 0.78955             \n",
       "          time        0.0566409 0.23799  -0.72      \n",
       "          I(time^2)   0.0004933 0.02221   0.60 -0.95\n",
       " Residual             0.1342822 0.36645             \n",
       "Number of obs: 264, groups:  Subject, 33\n",
       "\n",
       "Fixed effects:\n",
       "             Estimate Std. Error t value\n",
       "(Intercept)  3.565709   0.385774   9.243\n",
       "time        -0.628894   0.077598  -8.104\n",
       "group        1.066215   0.250585   4.255\n",
       "I(time^2)    0.084668   0.006259  13.528\n",
       "time:group  -0.125105   0.034001  -3.679\n",
       "\n",
       "Correlation of Fixed Effects:\n",
       "           (Intr) time   group  I(t^2)\n",
       "time       -0.635                     \n",
       "group      -0.905  0.414              \n",
       "I(time^2)   0.282 -0.762  0.000       \n",
       "time:group  0.613 -0.611 -0.677  0.000\n",
       "optimizer (nloptwrap) convergence code: 0 (OK)\n",
       "Model failed to converge with max|grad| = 0.0126049 (tol = 0.002, component 1)\n"
      ]
     },
     "metadata": {},
     "output_type": "display_data"
    }
   ],
   "source": [
    "Model_lme4_2 <- lmer(plasma ~ time*group +I(time^2) + \n",
    "(time + I(time^2) | Subject), REML = F, data = glucose_data2)\n",
    "summary(Model_lme4_2)"
   ]
  },
  {
   "cell_type": "code",
   "execution_count": 149,
   "metadata": {
    "vscode": {
     "languageId": "r"
    }
   },
   "outputs": [
    {
     "data": {
      "text/html": [
       "<table class=\"dataframe\">\n",
       "<caption>A anova: 2 × 8</caption>\n",
       "<thead>\n",
       "\t<tr><th></th><th scope=col>npar</th><th scope=col>AIC</th><th scope=col>BIC</th><th scope=col>logLik</th><th scope=col>deviance</th><th scope=col>Chisq</th><th scope=col>Df</th><th scope=col>Pr(&gt;Chisq)</th></tr>\n",
       "\t<tr><th></th><th scope=col>&lt;dbl&gt;</th><th scope=col>&lt;dbl&gt;</th><th scope=col>&lt;dbl&gt;</th><th scope=col>&lt;dbl&gt;</th><th scope=col>&lt;dbl&gt;</th><th scope=col>&lt;dbl&gt;</th><th scope=col>&lt;dbl&gt;</th><th scope=col>&lt;dbl&gt;</th></tr>\n",
       "</thead>\n",
       "<tbody>\n",
       "\t<tr><th scope=row>Model_lme4_1</th><td> 9</td><td>383.3149</td><td>415.4984</td><td>-182.6574</td><td>365.3149</td><td>      NA</td><td>NA</td><td>       NA</td></tr>\n",
       "\t<tr><th scope=row>Model_lme4_2</th><td>12</td><td>384.9573</td><td>427.8687</td><td>-180.4787</td><td>360.9573</td><td>4.357585</td><td> 3</td><td>0.2253506</td></tr>\n",
       "</tbody>\n",
       "</table>\n"
      ],
      "text/latex": [
       "A anova: 2 × 8\n",
       "\\begin{tabular}{r|llllllll}\n",
       "  & npar & AIC & BIC & logLik & deviance & Chisq & Df & Pr(>Chisq)\\\\\n",
       "  & <dbl> & <dbl> & <dbl> & <dbl> & <dbl> & <dbl> & <dbl> & <dbl>\\\\\n",
       "\\hline\n",
       "\tModel\\_lme4\\_1 &  9 & 383.3149 & 415.4984 & -182.6574 & 365.3149 &       NA & NA &        NA\\\\\n",
       "\tModel\\_lme4\\_2 & 12 & 384.9573 & 427.8687 & -180.4787 & 360.9573 & 4.357585 &  3 & 0.2253506\\\\\n",
       "\\end{tabular}\n"
      ],
      "text/markdown": [
       "\n",
       "A anova: 2 × 8\n",
       "\n",
       "| <!--/--> | npar &lt;dbl&gt; | AIC &lt;dbl&gt; | BIC &lt;dbl&gt; | logLik &lt;dbl&gt; | deviance &lt;dbl&gt; | Chisq &lt;dbl&gt; | Df &lt;dbl&gt; | Pr(&gt;Chisq) &lt;dbl&gt; |\n",
       "|---|---|---|---|---|---|---|---|---|\n",
       "| Model_lme4_1 |  9 | 383.3149 | 415.4984 | -182.6574 | 365.3149 |       NA | NA |        NA |\n",
       "| Model_lme4_2 | 12 | 384.9573 | 427.8687 | -180.4787 | 360.9573 | 4.357585 |  3 | 0.2253506 |\n",
       "\n"
      ],
      "text/plain": [
       "             npar AIC      BIC      logLik    deviance Chisq    Df Pr(>Chisq)\n",
       "Model_lme4_1  9   383.3149 415.4984 -182.6574 365.3149       NA NA        NA \n",
       "Model_lme4_2 12   384.9573 427.8687 -180.4787 360.9573 4.357585  3 0.2253506 "
      ]
     },
     "metadata": {},
     "output_type": "display_data"
    }
   ],
   "source": [
    "anova(Model_lme4_1, Model_lme4_2)"
   ]
  },
  {
   "attachments": {},
   "cell_type": "markdown",
   "metadata": {},
   "source": [
    "<hr><br><br><br>\n",
    "<div style = \"color : blue;\"> <b>\n",
    "\n",
    "Ex. 8.3 Fit an independence model to the Beat the Blues data, and compare the estimated treatment \n",
    "effect confidence interval with that from the\n",
    "random intercept model described in the text.\n",
    "\n",
    "<br><br></b></div>"
   ]
  },
  {
   "cell_type": "code",
   "execution_count": 160,
   "metadata": {
    "vscode": {
     "languageId": "r"
    }
   },
   "outputs": [],
   "source": [
    "#btheb <- read.table(file = file.choose(), stringsAsFactors = TRUE)\n",
    "names(btheb) <- NULL\n",
    "Nam3 <- c(\"drug\", \"length\", \"treatment\", \"bdi.pre\", \"bdi.2m\", \"bdi.3m\", \"bdi.5m\", \"bdi.8m\")\n",
    "btheb %>% setNames(Nam3) -> btheb"
   ]
  },
  {
   "cell_type": "code",
   "execution_count": 161,
   "metadata": {
    "vscode": {
     "languageId": "r"
    }
   },
   "outputs": [
    {
     "data": {
      "text/html": [
       "120"
      ],
      "text/latex": [
       "120"
      ],
      "text/markdown": [
       "120"
      ],
      "text/plain": [
       "[1] 120"
      ]
     },
     "metadata": {},
     "output_type": "display_data"
    }
   ],
   "source": [
    "sum(is.na(btheb))"
   ]
  },
  {
   "cell_type": "code",
   "execution_count": 164,
   "metadata": {
    "vscode": {
     "languageId": "r"
    }
   },
   "outputs": [
    {
     "data": {
      "text/html": [
       "<table class=\"dataframe\">\n",
       "<caption>A data.frame: 6 × 8</caption>\n",
       "<thead>\n",
       "\t<tr><th></th><th scope=col>drug</th><th scope=col>length</th><th scope=col>treatment</th><th scope=col>bdi.pre</th><th scope=col>bdi.2m</th><th scope=col>bdi.3m</th><th scope=col>bdi.5m</th><th scope=col>bdi.8m</th></tr>\n",
       "\t<tr><th></th><th scope=col>&lt;fct&gt;</th><th scope=col>&lt;fct&gt;</th><th scope=col>&lt;fct&gt;</th><th scope=col>&lt;int&gt;</th><th scope=col>&lt;int&gt;</th><th scope=col>&lt;int&gt;</th><th scope=col>&lt;int&gt;</th><th scope=col>&lt;int&gt;</th></tr>\n",
       "</thead>\n",
       "<tbody>\n",
       "\t<tr><th scope=row>1</th><td>No </td><td>&gt;6m</td><td><span style=white-space:pre-wrap>TAU  </span></td><td>29</td><td> 2</td><td> 2</td><td>NA</td><td>NA</td></tr>\n",
       "\t<tr><th scope=row>2</th><td>Yes</td><td>&gt;6m</td><td>BtheB</td><td>32</td><td>16</td><td>24</td><td>17</td><td>20</td></tr>\n",
       "\t<tr><th scope=row>3</th><td>Yes</td><td>&lt;6m</td><td><span style=white-space:pre-wrap>TAU  </span></td><td>25</td><td>20</td><td>NA</td><td>NA</td><td>NA</td></tr>\n",
       "\t<tr><th scope=row>4</th><td>No </td><td>&gt;6m</td><td>BtheB</td><td>21</td><td>17</td><td>16</td><td>10</td><td> 9</td></tr>\n",
       "\t<tr><th scope=row>5</th><td>Yes</td><td>&gt;6m</td><td>BtheB</td><td>26</td><td>23</td><td>NA</td><td>NA</td><td>NA</td></tr>\n",
       "\t<tr><th scope=row>6</th><td>Yes</td><td>&lt;6m</td><td>BtheB</td><td> 7</td><td> 0</td><td> 0</td><td> 0</td><td> 0</td></tr>\n",
       "</tbody>\n",
       "</table>\n"
      ],
      "text/latex": [
       "A data.frame: 6 × 8\n",
       "\\begin{tabular}{r|llllllll}\n",
       "  & drug & length & treatment & bdi.pre & bdi.2m & bdi.3m & bdi.5m & bdi.8m\\\\\n",
       "  & <fct> & <fct> & <fct> & <int> & <int> & <int> & <int> & <int>\\\\\n",
       "\\hline\n",
       "\t1 & No  & >6m & TAU   & 29 &  2 &  2 & NA & NA\\\\\n",
       "\t2 & Yes & >6m & BtheB & 32 & 16 & 24 & 17 & 20\\\\\n",
       "\t3 & Yes & <6m & TAU   & 25 & 20 & NA & NA & NA\\\\\n",
       "\t4 & No  & >6m & BtheB & 21 & 17 & 16 & 10 &  9\\\\\n",
       "\t5 & Yes & >6m & BtheB & 26 & 23 & NA & NA & NA\\\\\n",
       "\t6 & Yes & <6m & BtheB &  7 &  0 &  0 &  0 &  0\\\\\n",
       "\\end{tabular}\n"
      ],
      "text/markdown": [
       "\n",
       "A data.frame: 6 × 8\n",
       "\n",
       "| <!--/--> | drug &lt;fct&gt; | length &lt;fct&gt; | treatment &lt;fct&gt; | bdi.pre &lt;int&gt; | bdi.2m &lt;int&gt; | bdi.3m &lt;int&gt; | bdi.5m &lt;int&gt; | bdi.8m &lt;int&gt; |\n",
       "|---|---|---|---|---|---|---|---|---|\n",
       "| 1 | No  | &gt;6m | TAU   | 29 |  2 |  2 | NA | NA |\n",
       "| 2 | Yes | &gt;6m | BtheB | 32 | 16 | 24 | 17 | 20 |\n",
       "| 3 | Yes | &lt;6m | TAU   | 25 | 20 | NA | NA | NA |\n",
       "| 4 | No  | &gt;6m | BtheB | 21 | 17 | 16 | 10 |  9 |\n",
       "| 5 | Yes | &gt;6m | BtheB | 26 | 23 | NA | NA | NA |\n",
       "| 6 | Yes | &lt;6m | BtheB |  7 |  0 |  0 |  0 |  0 |\n",
       "\n"
      ],
      "text/plain": [
       "  drug length treatment bdi.pre bdi.2m bdi.3m bdi.5m bdi.8m\n",
       "1 No   >6m    TAU       29       2      2     NA     NA    \n",
       "2 Yes  >6m    BtheB     32      16     24     17     20    \n",
       "3 Yes  <6m    TAU       25      20     NA     NA     NA    \n",
       "4 No   >6m    BtheB     21      17     16     10      9    \n",
       "5 Yes  >6m    BtheB     26      23     NA     NA     NA    \n",
       "6 Yes  <6m    BtheB      7       0      0      0      0    "
      ]
     },
     "metadata": {},
     "output_type": "display_data"
    },
    {
     "data": {
      "text/html": [
       "<style>\n",
       ".list-inline {list-style: none; margin:0; padding: 0}\n",
       ".list-inline>li {display: inline-block}\n",
       ".list-inline>li:not(:last-child)::after {content: \"\\00b7\"; padding: 0 .5ex}\n",
       "</style>\n",
       "<ol class=list-inline><li>100</li><li>8</li></ol>\n"
      ],
      "text/latex": [
       "\\begin{enumerate*}\n",
       "\\item 100\n",
       "\\item 8\n",
       "\\end{enumerate*}\n"
      ],
      "text/markdown": [
       "1. 100\n",
       "2. 8\n",
       "\n",
       "\n"
      ],
      "text/plain": [
       "[1] 100   8"
      ]
     },
     "metadata": {},
     "output_type": "display_data"
    },
    {
     "data": {
      "text/html": [
       "<style>\n",
       ".list-inline {list-style: none; margin:0; padding: 0}\n",
       ".list-inline>li {display: inline-block}\n",
       ".list-inline>li:not(:last-child)::after {content: \"\\00b7\"; padding: 0 .5ex}\n",
       "</style>\n",
       "<ol class=list-inline><li>'1'</li><li>'2'</li><li>'3'</li><li>'4'</li><li>'5'</li><li>'6'</li><li>'7'</li><li>'8'</li><li>'9'</li><li>'10'</li><li>'11'</li><li>'12'</li><li>'13'</li><li>'14'</li><li>'15'</li><li>'16'</li><li>'17'</li><li>'18'</li><li>'19'</li><li>'20'</li><li>'21'</li><li>'22'</li><li>'23'</li><li>'24'</li><li>'25'</li><li>'26'</li><li>'27'</li><li>'28'</li><li>'29'</li><li>'30'</li><li>'31'</li><li>'32'</li><li>'33'</li><li>'34'</li><li>'35'</li><li>'36'</li><li>'37'</li><li>'38'</li><li>'39'</li><li>'40'</li><li>'41'</li><li>'42'</li><li>'43'</li><li>'44'</li><li>'45'</li><li>'46'</li><li>'47'</li><li>'48'</li><li>'49'</li><li>'50'</li><li>'51'</li><li>'52'</li><li>'53'</li><li>'54'</li><li>'55'</li><li>'56'</li><li>'57'</li><li>'58'</li><li>'59'</li><li>'60'</li><li>'61'</li><li>'62'</li><li>'63'</li><li>'64'</li><li>'65'</li><li>'66'</li><li>'67'</li><li>'68'</li><li>'69'</li><li>'70'</li><li>'71'</li><li>'72'</li><li>'73'</li><li>'74'</li><li>'75'</li><li>'76'</li><li>'77'</li><li>'78'</li><li>'79'</li><li>'80'</li><li>'81'</li><li>'82'</li><li>'83'</li><li>'84'</li><li>'85'</li><li>'86'</li><li>'87'</li><li>'88'</li><li>'89'</li><li>'90'</li><li>'91'</li><li>'92'</li><li>'93'</li><li>'94'</li><li>'95'</li><li>'96'</li><li>'97'</li><li>'98'</li><li>'99'</li><li>'100'</li></ol>\n"
      ],
      "text/latex": [
       "\\begin{enumerate*}\n",
       "\\item '1'\n",
       "\\item '2'\n",
       "\\item '3'\n",
       "\\item '4'\n",
       "\\item '5'\n",
       "\\item '6'\n",
       "\\item '7'\n",
       "\\item '8'\n",
       "\\item '9'\n",
       "\\item '10'\n",
       "\\item '11'\n",
       "\\item '12'\n",
       "\\item '13'\n",
       "\\item '14'\n",
       "\\item '15'\n",
       "\\item '16'\n",
       "\\item '17'\n",
       "\\item '18'\n",
       "\\item '19'\n",
       "\\item '20'\n",
       "\\item '21'\n",
       "\\item '22'\n",
       "\\item '23'\n",
       "\\item '24'\n",
       "\\item '25'\n",
       "\\item '26'\n",
       "\\item '27'\n",
       "\\item '28'\n",
       "\\item '29'\n",
       "\\item '30'\n",
       "\\item '31'\n",
       "\\item '32'\n",
       "\\item '33'\n",
       "\\item '34'\n",
       "\\item '35'\n",
       "\\item '36'\n",
       "\\item '37'\n",
       "\\item '38'\n",
       "\\item '39'\n",
       "\\item '40'\n",
       "\\item '41'\n",
       "\\item '42'\n",
       "\\item '43'\n",
       "\\item '44'\n",
       "\\item '45'\n",
       "\\item '46'\n",
       "\\item '47'\n",
       "\\item '48'\n",
       "\\item '49'\n",
       "\\item '50'\n",
       "\\item '51'\n",
       "\\item '52'\n",
       "\\item '53'\n",
       "\\item '54'\n",
       "\\item '55'\n",
       "\\item '56'\n",
       "\\item '57'\n",
       "\\item '58'\n",
       "\\item '59'\n",
       "\\item '60'\n",
       "\\item '61'\n",
       "\\item '62'\n",
       "\\item '63'\n",
       "\\item '64'\n",
       "\\item '65'\n",
       "\\item '66'\n",
       "\\item '67'\n",
       "\\item '68'\n",
       "\\item '69'\n",
       "\\item '70'\n",
       "\\item '71'\n",
       "\\item '72'\n",
       "\\item '73'\n",
       "\\item '74'\n",
       "\\item '75'\n",
       "\\item '76'\n",
       "\\item '77'\n",
       "\\item '78'\n",
       "\\item '79'\n",
       "\\item '80'\n",
       "\\item '81'\n",
       "\\item '82'\n",
       "\\item '83'\n",
       "\\item '84'\n",
       "\\item '85'\n",
       "\\item '86'\n",
       "\\item '87'\n",
       "\\item '88'\n",
       "\\item '89'\n",
       "\\item '90'\n",
       "\\item '91'\n",
       "\\item '92'\n",
       "\\item '93'\n",
       "\\item '94'\n",
       "\\item '95'\n",
       "\\item '96'\n",
       "\\item '97'\n",
       "\\item '98'\n",
       "\\item '99'\n",
       "\\item '100'\n",
       "\\end{enumerate*}\n"
      ],
      "text/markdown": [
       "1. '1'\n",
       "2. '2'\n",
       "3. '3'\n",
       "4. '4'\n",
       "5. '5'\n",
       "6. '6'\n",
       "7. '7'\n",
       "8. '8'\n",
       "9. '9'\n",
       "10. '10'\n",
       "11. '11'\n",
       "12. '12'\n",
       "13. '13'\n",
       "14. '14'\n",
       "15. '15'\n",
       "16. '16'\n",
       "17. '17'\n",
       "18. '18'\n",
       "19. '19'\n",
       "20. '20'\n",
       "21. '21'\n",
       "22. '22'\n",
       "23. '23'\n",
       "24. '24'\n",
       "25. '25'\n",
       "26. '26'\n",
       "27. '27'\n",
       "28. '28'\n",
       "29. '29'\n",
       "30. '30'\n",
       "31. '31'\n",
       "32. '32'\n",
       "33. '33'\n",
       "34. '34'\n",
       "35. '35'\n",
       "36. '36'\n",
       "37. '37'\n",
       "38. '38'\n",
       "39. '39'\n",
       "40. '40'\n",
       "41. '41'\n",
       "42. '42'\n",
       "43. '43'\n",
       "44. '44'\n",
       "45. '45'\n",
       "46. '46'\n",
       "47. '47'\n",
       "48. '48'\n",
       "49. '49'\n",
       "50. '50'\n",
       "51. '51'\n",
       "52. '52'\n",
       "53. '53'\n",
       "54. '54'\n",
       "55. '55'\n",
       "56. '56'\n",
       "57. '57'\n",
       "58. '58'\n",
       "59. '59'\n",
       "60. '60'\n",
       "61. '61'\n",
       "62. '62'\n",
       "63. '63'\n",
       "64. '64'\n",
       "65. '65'\n",
       "66. '66'\n",
       "67. '67'\n",
       "68. '68'\n",
       "69. '69'\n",
       "70. '70'\n",
       "71. '71'\n",
       "72. '72'\n",
       "73. '73'\n",
       "74. '74'\n",
       "75. '75'\n",
       "76. '76'\n",
       "77. '77'\n",
       "78. '78'\n",
       "79. '79'\n",
       "80. '80'\n",
       "81. '81'\n",
       "82. '82'\n",
       "83. '83'\n",
       "84. '84'\n",
       "85. '85'\n",
       "86. '86'\n",
       "87. '87'\n",
       "88. '88'\n",
       "89. '89'\n",
       "90. '90'\n",
       "91. '91'\n",
       "92. '92'\n",
       "93. '93'\n",
       "94. '94'\n",
       "95. '95'\n",
       "96. '96'\n",
       "97. '97'\n",
       "98. '98'\n",
       "99. '99'\n",
       "100. '100'\n",
       "\n",
       "\n"
      ],
      "text/plain": [
       "  [1] \"1\"   \"2\"   \"3\"   \"4\"   \"5\"   \"6\"   \"7\"   \"8\"   \"9\"   \"10\"  \"11\"  \"12\" \n",
       " [13] \"13\"  \"14\"  \"15\"  \"16\"  \"17\"  \"18\"  \"19\"  \"20\"  \"21\"  \"22\"  \"23\"  \"24\" \n",
       " [25] \"25\"  \"26\"  \"27\"  \"28\"  \"29\"  \"30\"  \"31\"  \"32\"  \"33\"  \"34\"  \"35\"  \"36\" \n",
       " [37] \"37\"  \"38\"  \"39\"  \"40\"  \"41\"  \"42\"  \"43\"  \"44\"  \"45\"  \"46\"  \"47\"  \"48\" \n",
       " [49] \"49\"  \"50\"  \"51\"  \"52\"  \"53\"  \"54\"  \"55\"  \"56\"  \"57\"  \"58\"  \"59\"  \"60\" \n",
       " [61] \"61\"  \"62\"  \"63\"  \"64\"  \"65\"  \"66\"  \"67\"  \"68\"  \"69\"  \"70\"  \"71\"  \"72\" \n",
       " [73] \"73\"  \"74\"  \"75\"  \"76\"  \"77\"  \"78\"  \"79\"  \"80\"  \"81\"  \"82\"  \"83\"  \"84\" \n",
       " [85] \"85\"  \"86\"  \"87\"  \"88\"  \"89\"  \"90\"  \"91\"  \"92\"  \"93\"  \"94\"  \"95\"  \"96\" \n",
       " [97] \"97\"  \"98\"  \"99\"  \"100\""
      ]
     },
     "metadata": {},
     "output_type": "display_data"
    }
   ],
   "source": [
    "btheb %>% head\n",
    "btheb %>% dim"
   ]
  },
  {
   "cell_type": "code",
   "execution_count": 166,
   "metadata": {
    "vscode": {
     "languageId": "r"
    }
   },
   "outputs": [
    {
     "data": {
      "text/html": [
       "<table class=\"dataframe\">\n",
       "<caption>A data.frame: 6 × 9</caption>\n",
       "<thead>\n",
       "\t<tr><th></th><th scope=col>Subject</th><th scope=col>drug</th><th scope=col>length</th><th scope=col>treatment</th><th scope=col>bdi.pre</th><th scope=col>bdi.2m</th><th scope=col>bdi.3m</th><th scope=col>bdi.5m</th><th scope=col>bdi.8m</th></tr>\n",
       "\t<tr><th></th><th scope=col>&lt;chr&gt;</th><th scope=col>&lt;fct&gt;</th><th scope=col>&lt;fct&gt;</th><th scope=col>&lt;fct&gt;</th><th scope=col>&lt;int&gt;</th><th scope=col>&lt;int&gt;</th><th scope=col>&lt;int&gt;</th><th scope=col>&lt;int&gt;</th><th scope=col>&lt;int&gt;</th></tr>\n",
       "</thead>\n",
       "<tbody>\n",
       "\t<tr><th scope=row>1</th><td>id1</td><td>No </td><td>&gt;6m</td><td><span style=white-space:pre-wrap>TAU  </span></td><td>29</td><td> 2</td><td> 2</td><td>NA</td><td>NA</td></tr>\n",
       "\t<tr><th scope=row>2</th><td>id2</td><td>Yes</td><td>&gt;6m</td><td>BtheB</td><td>32</td><td>16</td><td>24</td><td>17</td><td>20</td></tr>\n",
       "\t<tr><th scope=row>3</th><td>id3</td><td>Yes</td><td>&lt;6m</td><td><span style=white-space:pre-wrap>TAU  </span></td><td>25</td><td>20</td><td>NA</td><td>NA</td><td>NA</td></tr>\n",
       "\t<tr><th scope=row>4</th><td>id4</td><td>No </td><td>&gt;6m</td><td>BtheB</td><td>21</td><td>17</td><td>16</td><td>10</td><td> 9</td></tr>\n",
       "\t<tr><th scope=row>5</th><td>id5</td><td>Yes</td><td>&gt;6m</td><td>BtheB</td><td>26</td><td>23</td><td>NA</td><td>NA</td><td>NA</td></tr>\n",
       "\t<tr><th scope=row>6</th><td>id6</td><td>Yes</td><td>&lt;6m</td><td>BtheB</td><td> 7</td><td> 0</td><td> 0</td><td> 0</td><td> 0</td></tr>\n",
       "</tbody>\n",
       "</table>\n"
      ],
      "text/latex": [
       "A data.frame: 6 × 9\n",
       "\\begin{tabular}{r|lllllllll}\n",
       "  & Subject & drug & length & treatment & bdi.pre & bdi.2m & bdi.3m & bdi.5m & bdi.8m\\\\\n",
       "  & <chr> & <fct> & <fct> & <fct> & <int> & <int> & <int> & <int> & <int>\\\\\n",
       "\\hline\n",
       "\t1 & id1 & No  & >6m & TAU   & 29 &  2 &  2 & NA & NA\\\\\n",
       "\t2 & id2 & Yes & >6m & BtheB & 32 & 16 & 24 & 17 & 20\\\\\n",
       "\t3 & id3 & Yes & <6m & TAU   & 25 & 20 & NA & NA & NA\\\\\n",
       "\t4 & id4 & No  & >6m & BtheB & 21 & 17 & 16 & 10 &  9\\\\\n",
       "\t5 & id5 & Yes & >6m & BtheB & 26 & 23 & NA & NA & NA\\\\\n",
       "\t6 & id6 & Yes & <6m & BtheB &  7 &  0 &  0 &  0 &  0\\\\\n",
       "\\end{tabular}\n"
      ],
      "text/markdown": [
       "\n",
       "A data.frame: 6 × 9\n",
       "\n",
       "| <!--/--> | Subject &lt;chr&gt; | drug &lt;fct&gt; | length &lt;fct&gt; | treatment &lt;fct&gt; | bdi.pre &lt;int&gt; | bdi.2m &lt;int&gt; | bdi.3m &lt;int&gt; | bdi.5m &lt;int&gt; | bdi.8m &lt;int&gt; |\n",
       "|---|---|---|---|---|---|---|---|---|---|\n",
       "| 1 | id1 | No  | &gt;6m | TAU   | 29 |  2 |  2 | NA | NA |\n",
       "| 2 | id2 | Yes | &gt;6m | BtheB | 32 | 16 | 24 | 17 | 20 |\n",
       "| 3 | id3 | Yes | &lt;6m | TAU   | 25 | 20 | NA | NA | NA |\n",
       "| 4 | id4 | No  | &gt;6m | BtheB | 21 | 17 | 16 | 10 |  9 |\n",
       "| 5 | id5 | Yes | &gt;6m | BtheB | 26 | 23 | NA | NA | NA |\n",
       "| 6 | id6 | Yes | &lt;6m | BtheB |  7 |  0 |  0 |  0 |  0 |\n",
       "\n"
      ],
      "text/plain": [
       "  Subject drug length treatment bdi.pre bdi.2m bdi.3m bdi.5m bdi.8m\n",
       "1 id1     No   >6m    TAU       29       2      2     NA     NA    \n",
       "2 id2     Yes  >6m    BtheB     32      16     24     17     20    \n",
       "3 id3     Yes  <6m    TAU       25      20     NA     NA     NA    \n",
       "4 id4     No   >6m    BtheB     21      17     16     10      9    \n",
       "5 id5     Yes  >6m    BtheB     26      23     NA     NA     NA    \n",
       "6 id6     Yes  <6m    BtheB      7       0      0      0      0    "
      ]
     },
     "metadata": {},
     "output_type": "display_data"
    }
   ],
   "source": [
    "btheb %>%\n",
    "mutate(Subject = paste0(\"id\", rownames(btheb))) %>% \n",
    "relocate(\"Subject\", .before = \"drug\") -> btheb\n",
    "head(btheb)"
   ]
  },
  {
   "cell_type": "code",
   "execution_count": 167,
   "metadata": {
    "vscode": {
     "languageId": "r"
    }
   },
   "outputs": [],
   "source": [
    "nobs <- nrow(btheb)\n",
    "btheb_long <- reshape(btheb, idvar = \"Subject\",\n",
    "varying = c(\"bdi.2m\", \"bdi.3m\", \"bdi.5m\", \"bdi.8m\"),\n",
    "direction = \"long\")\n",
    "btheb_long$time <- rep(c(2, 3, 5, 8), rep(nobs, 4))"
   ]
  },
  {
   "cell_type": "code",
   "execution_count": 169,
   "metadata": {
    "vscode": {
     "languageId": "r"
    }
   },
   "outputs": [
    {
     "data": {
      "text/html": [
       "<style>\n",
       ".list-inline {list-style: none; margin:0; padding: 0}\n",
       ".list-inline>li {display: inline-block}\n",
       ".list-inline>li:not(:last-child)::after {content: \"\\00b7\"; padding: 0 .5ex}\n",
       "</style>\n",
       "<ol class=list-inline><li>400</li><li>7</li></ol>\n"
      ],
      "text/latex": [
       "\\begin{enumerate*}\n",
       "\\item 400\n",
       "\\item 7\n",
       "\\end{enumerate*}\n"
      ],
      "text/markdown": [
       "1. 400\n",
       "2. 7\n",
       "\n",
       "\n"
      ],
      "text/plain": [
       "[1] 400   7"
      ]
     },
     "metadata": {},
     "output_type": "display_data"
    },
    {
     "data": {
      "text/html": [
       "<table class=\"dataframe\">\n",
       "<caption>A data.frame: 6 × 7</caption>\n",
       "<thead>\n",
       "\t<tr><th></th><th scope=col>Subject</th><th scope=col>drug</th><th scope=col>length</th><th scope=col>treatment</th><th scope=col>bdi.pre</th><th scope=col>time</th><th scope=col>bdi</th></tr>\n",
       "\t<tr><th></th><th scope=col>&lt;chr&gt;</th><th scope=col>&lt;fct&gt;</th><th scope=col>&lt;fct&gt;</th><th scope=col>&lt;fct&gt;</th><th scope=col>&lt;int&gt;</th><th scope=col>&lt;dbl&gt;</th><th scope=col>&lt;int&gt;</th></tr>\n",
       "</thead>\n",
       "<tbody>\n",
       "\t<tr><th scope=row>id1.2m</th><td>id1</td><td>No </td><td>&gt;6m</td><td><span style=white-space:pre-wrap>TAU  </span></td><td>29</td><td>2</td><td> 2</td></tr>\n",
       "\t<tr><th scope=row>id2.2m</th><td>id2</td><td>Yes</td><td>&gt;6m</td><td>BtheB</td><td>32</td><td>2</td><td>16</td></tr>\n",
       "\t<tr><th scope=row>id3.2m</th><td>id3</td><td>Yes</td><td>&lt;6m</td><td><span style=white-space:pre-wrap>TAU  </span></td><td>25</td><td>2</td><td>20</td></tr>\n",
       "\t<tr><th scope=row>id4.2m</th><td>id4</td><td>No </td><td>&gt;6m</td><td>BtheB</td><td>21</td><td>2</td><td>17</td></tr>\n",
       "\t<tr><th scope=row>id5.2m</th><td>id5</td><td>Yes</td><td>&gt;6m</td><td>BtheB</td><td>26</td><td>2</td><td>23</td></tr>\n",
       "\t<tr><th scope=row>id6.2m</th><td>id6</td><td>Yes</td><td>&lt;6m</td><td>BtheB</td><td> 7</td><td>2</td><td> 0</td></tr>\n",
       "</tbody>\n",
       "</table>\n"
      ],
      "text/latex": [
       "A data.frame: 6 × 7\n",
       "\\begin{tabular}{r|lllllll}\n",
       "  & Subject & drug & length & treatment & bdi.pre & time & bdi\\\\\n",
       "  & <chr> & <fct> & <fct> & <fct> & <int> & <dbl> & <int>\\\\\n",
       "\\hline\n",
       "\tid1.2m & id1 & No  & >6m & TAU   & 29 & 2 &  2\\\\\n",
       "\tid2.2m & id2 & Yes & >6m & BtheB & 32 & 2 & 16\\\\\n",
       "\tid3.2m & id3 & Yes & <6m & TAU   & 25 & 2 & 20\\\\\n",
       "\tid4.2m & id4 & No  & >6m & BtheB & 21 & 2 & 17\\\\\n",
       "\tid5.2m & id5 & Yes & >6m & BtheB & 26 & 2 & 23\\\\\n",
       "\tid6.2m & id6 & Yes & <6m & BtheB &  7 & 2 &  0\\\\\n",
       "\\end{tabular}\n"
      ],
      "text/markdown": [
       "\n",
       "A data.frame: 6 × 7\n",
       "\n",
       "| <!--/--> | Subject &lt;chr&gt; | drug &lt;fct&gt; | length &lt;fct&gt; | treatment &lt;fct&gt; | bdi.pre &lt;int&gt; | time &lt;dbl&gt; | bdi &lt;int&gt; |\n",
       "|---|---|---|---|---|---|---|---|\n",
       "| id1.2m | id1 | No  | &gt;6m | TAU   | 29 | 2 |  2 |\n",
       "| id2.2m | id2 | Yes | &gt;6m | BtheB | 32 | 2 | 16 |\n",
       "| id3.2m | id3 | Yes | &lt;6m | TAU   | 25 | 2 | 20 |\n",
       "| id4.2m | id4 | No  | &gt;6m | BtheB | 21 | 2 | 17 |\n",
       "| id5.2m | id5 | Yes | &gt;6m | BtheB | 26 | 2 | 23 |\n",
       "| id6.2m | id6 | Yes | &lt;6m | BtheB |  7 | 2 |  0 |\n",
       "\n"
      ],
      "text/plain": [
       "       Subject drug length treatment bdi.pre time bdi\n",
       "id1.2m id1     No   >6m    TAU       29      2     2 \n",
       "id2.2m id2     Yes  >6m    BtheB     32      2    16 \n",
       "id3.2m id3     Yes  <6m    TAU       25      2    20 \n",
       "id4.2m id4     No   >6m    BtheB     21      2    17 \n",
       "id5.2m id5     Yes  >6m    BtheB     26      2    23 \n",
       "id6.2m id6     Yes  <6m    BtheB      7      2     0 "
      ]
     },
     "metadata": {},
     "output_type": "display_data"
    }
   ],
   "source": [
    "dim(btheb_long)\n",
    "btheb_long %>% head"
   ]
  },
  {
   "cell_type": "code",
   "execution_count": 173,
   "metadata": {
    "vscode": {
     "languageId": "r"
    }
   },
   "outputs": [
    {
     "data": {
      "text/plain": [
       "Linear mixed-effects model fit by REML\n",
       "  Data: btheb_long \n",
       "       AIC      BIC    logLik\n",
       "  1882.903 1911.808 -933.4513\n",
       "\n",
       "Random effects:\n",
       " Formula: ~1 | Subject\n",
       "        (Intercept) Residual\n",
       "StdDev:    7.206358 5.028555\n",
       "\n",
       "Fixed effects:  bdi ~ bdi.pre + time + treatment + drug + length \n",
       "                 Value Std.Error  DF   t-value p-value\n",
       "(Intercept)   3.258641 2.2706119 182  1.435138  0.1530\n",
       "bdi.pre       0.640351 0.0799164  92  8.012758  0.0000\n",
       "time         -0.701598 0.1469407 182 -4.774702  0.0000\n",
       "treatmentTAU  2.315105 1.7151530  92  1.349795  0.1804\n",
       "drugYes      -2.815994 1.7729198  92 -1.588337  0.1156\n",
       "length>6m     0.179015 1.6816346  92  0.106453  0.9155\n",
       " Correlation: \n",
       "             (Intr) bdi.pr time   trtTAU drugYs\n",
       "bdi.pre      -0.600                            \n",
       "time         -0.222  0.019                     \n",
       "treatmentTAU -0.361 -0.121 -0.017              \n",
       "drugYes      -0.319 -0.236 -0.022  0.323       \n",
       "length>6m    -0.245 -0.241 -0.036 -0.002  0.157\n",
       "\n",
       "Standardized Within-Group Residuals:\n",
       "       Min         Q1        Med         Q3        Max \n",
       "-2.6869948 -0.5084732 -0.0608478  0.4206731  3.8141401 \n",
       "\n",
       "Number of Observations: 280\n",
       "Number of Groups: 97 "
      ]
     },
     "metadata": {},
     "output_type": "display_data"
    }
   ],
   "source": [
    "BtheB_lme1 <- lme(bdi ~ bdi.pre + time + treatment + drug +\n",
    "length, random = ~ 1 | Subject, data = btheb_long,\n",
    "na.action = na.omit)\n",
    "summary(BtheB_lme1)"
   ]
  },
  {
   "cell_type": "code",
   "execution_count": 177,
   "metadata": {
    "vscode": {
     "languageId": "r"
    }
   },
   "outputs": [
    {
     "data": {
      "text/html": [
       "2.3151050907545"
      ],
      "text/latex": [
       "2.3151050907545"
      ],
      "text/markdown": [
       "2.3151050907545"
      ],
      "text/plain": [
       "[1] 2.315105"
      ]
     },
     "metadata": {},
     "output_type": "display_data"
    }
   ],
   "source": [
    "est_treat_text <- coef(BtheB_lme1)[1, 4]\n",
    "est_treat_text"
   ]
  },
  {
   "cell_type": "code",
   "execution_count": 180,
   "metadata": {
    "vscode": {
     "languageId": "r"
    }
   },
   "outputs": [
    {
     "data": {
      "text/html": [
       "<dl>\n",
       "\t<dt>$names</dt>\n",
       "\t\t<dd><style>\n",
       ".list-inline {list-style: none; margin:0; padding: 0}\n",
       ".list-inline>li {display: inline-block}\n",
       ".list-inline>li:not(:last-child)::after {content: \"\\00b7\"; padding: 0 .5ex}\n",
       "</style>\n",
       "<ol class=list-inline><li>'modelStruct'</li><li>'dims'</li><li>'contrasts'</li><li>'coefficients'</li><li>'varFix'</li><li>'sigma'</li><li>'apVar'</li><li>'logLik'</li><li>'numIter'</li><li>'groups'</li><li>'call'</li><li>'terms'</li><li>'method'</li><li>'fitted'</li><li>'residuals'</li><li>'fixDF'</li><li>'na.action'</li><li>'data'</li><li>'corFixed'</li><li>'tTable'</li><li>'BIC'</li><li>'AIC'</li></ol>\n",
       "</dd>\n",
       "\t<dt>$class</dt>\n",
       "\t\t<dd><style>\n",
       ".list-inline {list-style: none; margin:0; padding: 0}\n",
       ".list-inline>li {display: inline-block}\n",
       ".list-inline>li:not(:last-child)::after {content: \"\\00b7\"; padding: 0 .5ex}\n",
       "</style>\n",
       "<ol class=list-inline><li>'summary.lme'</li><li>'lme'</li></ol>\n",
       "</dd>\n",
       "\t<dt>$verbose</dt>\n",
       "\t\t<dd>FALSE</dd>\n",
       "\t<dt>$oClass</dt>\n",
       "\t\t<dd>'lme'</dd>\n",
       "</dl>\n"
      ],
      "text/latex": [
       "\\begin{description}\n",
       "\\item[\\$names] \\begin{enumerate*}\n",
       "\\item 'modelStruct'\n",
       "\\item 'dims'\n",
       "\\item 'contrasts'\n",
       "\\item 'coefficients'\n",
       "\\item 'varFix'\n",
       "\\item 'sigma'\n",
       "\\item 'apVar'\n",
       "\\item 'logLik'\n",
       "\\item 'numIter'\n",
       "\\item 'groups'\n",
       "\\item 'call'\n",
       "\\item 'terms'\n",
       "\\item 'method'\n",
       "\\item 'fitted'\n",
       "\\item 'residuals'\n",
       "\\item 'fixDF'\n",
       "\\item 'na.action'\n",
       "\\item 'data'\n",
       "\\item 'corFixed'\n",
       "\\item 'tTable'\n",
       "\\item 'BIC'\n",
       "\\item 'AIC'\n",
       "\\end{enumerate*}\n",
       "\n",
       "\\item[\\$class] \\begin{enumerate*}\n",
       "\\item 'summary.lme'\n",
       "\\item 'lme'\n",
       "\\end{enumerate*}\n",
       "\n",
       "\\item[\\$verbose] FALSE\n",
       "\\item[\\$oClass] 'lme'\n",
       "\\end{description}\n"
      ],
      "text/markdown": [
       "$names\n",
       ":   1. 'modelStruct'\n",
       "2. 'dims'\n",
       "3. 'contrasts'\n",
       "4. 'coefficients'\n",
       "5. 'varFix'\n",
       "6. 'sigma'\n",
       "7. 'apVar'\n",
       "8. 'logLik'\n",
       "9. 'numIter'\n",
       "10. 'groups'\n",
       "11. 'call'\n",
       "12. 'terms'\n",
       "13. 'method'\n",
       "14. 'fitted'\n",
       "15. 'residuals'\n",
       "16. 'fixDF'\n",
       "17. 'na.action'\n",
       "18. 'data'\n",
       "19. 'corFixed'\n",
       "20. 'tTable'\n",
       "21. 'BIC'\n",
       "22. 'AIC'\n",
       "\n",
       "\n",
       "\n",
       "$class\n",
       ":   1. 'summary.lme'\n",
       "2. 'lme'\n",
       "\n",
       "\n",
       "\n",
       "$verbose\n",
       ":   FALSE\n",
       "$oClass\n",
       ":   'lme'\n",
       "\n",
       "\n"
      ],
      "text/plain": [
       "$names\n",
       " [1] \"modelStruct\"  \"dims\"         \"contrasts\"    \"coefficients\" \"varFix\"      \n",
       " [6] \"sigma\"        \"apVar\"        \"logLik\"       \"numIter\"      \"groups\"      \n",
       "[11] \"call\"         \"terms\"        \"method\"       \"fitted\"       \"residuals\"   \n",
       "[16] \"fixDF\"        \"na.action\"    \"data\"         \"corFixed\"     \"tTable\"      \n",
       "[21] \"BIC\"          \"AIC\"         \n",
       "\n",
       "$class\n",
       "[1] \"summary.lme\" \"lme\"        \n",
       "\n",
       "$verbose\n",
       "[1] FALSE\n",
       "\n",
       "$oClass\n",
       "[1] \"lme\"\n"
      ]
     },
     "metadata": {},
     "output_type": "display_data"
    }
   ],
   "source": [
    "attributes(summary(BtheB_lme1))\n",
    "mm <- summary(BtheB_lme1)"
   ]
  },
  {
   "cell_type": "code",
   "execution_count": 188,
   "metadata": {
    "vscode": {
     "languageId": "r"
    }
   },
   "outputs": [
    {
     "data": {
      "text/html": [
       "1.71515299478162"
      ],
      "text/latex": [
       "1.71515299478162"
      ],
      "text/markdown": [
       "1.71515299478162"
      ],
      "text/plain": [
       "[1] 1.715153"
      ]
     },
     "metadata": {},
     "output_type": "display_data"
    },
    {
     "data": {
      "text/html": [
       "<strong>treatmentTAU:</strong> 92"
      ],
      "text/latex": [
       "\\textbf{treatmentTAU:} 92"
      ],
      "text/markdown": [
       "**treatmentTAU:** 92"
      ],
      "text/plain": [
       "treatmentTAU \n",
       "          92 "
      ]
     },
     "metadata": {},
     "output_type": "display_data"
    }
   ],
   "source": [
    "mm$varFix -> cov_BtheB_text\n",
    "std_treat_text <- cov_BtheB_text[4, 4] %>% sqrt\n",
    "std_treat_text\n",
    "dff <- mm$fixDF$X[4]\n",
    "dff"
   ]
  },
  {
   "cell_type": "code",
   "execution_count": 189,
   "metadata": {
    "vscode": {
     "languageId": "r"
    }
   },
   "outputs": [
    {
     "data": {
      "text/html": [
       "<table class=\"dataframe\">\n",
       "<caption>A data.frame: 2 × 1</caption>\n",
       "<thead>\n",
       "\t<tr><th></th><th scope=col>.</th></tr>\n",
       "\t<tr><th></th><th scope=col>&lt;dbl&gt;</th></tr>\n",
       "</thead>\n",
       "<tbody>\n",
       "\t<tr><th scope=row>lower-bond</th><td>-0.6615484</td></tr>\n",
       "\t<tr><th scope=row>upper-bond</th><td> 5.2917586</td></tr>\n",
       "</tbody>\n",
       "</table>\n"
      ],
      "text/latex": [
       "A data.frame: 2 × 1\n",
       "\\begin{tabular}{r|l}\n",
       "  & .\\\\\n",
       "  & <dbl>\\\\\n",
       "\\hline\n",
       "\tlower-bond & -0.6615484\\\\\n",
       "\tupper-bond &  5.2917586\\\\\n",
       "\\end{tabular}\n"
      ],
      "text/markdown": [
       "\n",
       "A data.frame: 2 × 1\n",
       "\n",
       "| <!--/--> | . &lt;dbl&gt; |\n",
       "|---|---|\n",
       "| lower-bond | -0.6615484 |\n",
       "| upper-bond |  5.2917586 |\n",
       "\n"
      ],
      "text/plain": [
       "           .         \n",
       "lower-bond -0.6615484\n",
       "upper-bond  5.2917586"
      ]
     },
     "metadata": {},
     "output_type": "display_data"
    }
   ],
   "source": [
    "qt(.957, df = dff) -> tvalue\n",
    "CI_treat_text_model <- c(`lower-bond` = est_treat_text - tvalue * std_treat_text, \n",
    "`upper-bond` = est_treat_text + tvalue * std_treat_text) %>% as.data.frame\n",
    "CI_treat_text_model"
   ]
  },
  {
   "cell_type": "code",
   "execution_count": 191,
   "metadata": {
    "vscode": {
     "languageId": "r"
    }
   },
   "outputs": [
    {
     "data": {
      "text/plain": [
       "Generalized least squares fit by REML\n",
       "  Model: bdi ~ bdi.pre + time + treatment + drug + length \n",
       "  Data: btheb_long \n",
       "       AIC      BIC    logLik\n",
       "  2010.979 2036.271 -998.4893\n",
       "\n",
       "Coefficients:\n",
       "                 Value Std.Error   t-value p-value\n",
       "(Intercept)   4.000367 1.6848313  2.374343  0.0183\n",
       "bdi.pre       0.573963 0.0549747 10.440500  0.0000\n",
       "time         -0.937843 0.2365022 -3.965471  0.0001\n",
       "treatmentTAU  3.322536 1.1006886  3.018597  0.0028\n",
       "drugYes      -3.568663 1.1471681 -3.110846  0.0021\n",
       "length>6m     1.710675 1.1105646  1.540365  0.1246\n",
       "\n",
       " Correlation: \n",
       "             (Intr) bdi.pr time   trtTAU drugYs\n",
       "bdi.pre      -0.521                            \n",
       "time         -0.549  0.036                     \n",
       "treatmentTAU -0.287 -0.136 -0.020              \n",
       "drugYes      -0.214 -0.295 -0.038  0.318       \n",
       "length>6m    -0.139 -0.316 -0.057 -0.028  0.149\n",
       "\n",
       "Standardized residuals:\n",
       "        Min          Q1         Med          Q3         Max \n",
       "-2.72991267 -0.62462502  0.00174166  0.61414387  3.14391816 \n",
       "\n",
       "Residual standard error: 8.673519 \n",
       "Degrees of freedom: 280 total; 274 residual"
      ]
     },
     "metadata": {},
     "output_type": "display_data"
    }
   ],
   "source": [
    "Model_ind <- gls(bdi ~ bdi.pre + time + treatment + drug +\n",
    "length, data = btheb_long, method = \"REML\",\n",
    "na.action = na.omit)\n",
    "\n",
    "summary(Model_ind)"
   ]
  },
  {
   "cell_type": "code",
   "execution_count": 193,
   "metadata": {
    "vscode": {
     "languageId": "r"
    }
   },
   "outputs": [
    {
     "data": {
      "text/html": [
       "<dl>\n",
       "\t<dt>$names</dt>\n",
       "\t\t<dd><style>\n",
       ".list-inline {list-style: none; margin:0; padding: 0}\n",
       ".list-inline>li {display: inline-block}\n",
       ".list-inline>li:not(:last-child)::after {content: \"\\00b7\"; padding: 0 .5ex}\n",
       "</style>\n",
       "<ol class=list-inline><li>'modelStruct'</li><li>'dims'</li><li>'contrasts'</li><li>'coefficients'</li><li>'varBeta'</li><li>'sigma'</li><li>'apVar'</li><li>'logLik'</li><li>'numIter'</li><li>'groups'</li><li>'call'</li><li>'terms'</li><li>'method'</li><li>'fitted'</li><li>'residuals'</li><li>'parAssign'</li><li>'na.action'</li><li>'corBeta'</li><li>'tTable'</li><li>'BIC'</li><li>'AIC'</li></ol>\n",
       "</dd>\n",
       "\t<dt>$verbose</dt>\n",
       "\t\t<dd>FALSE</dd>\n",
       "\t<dt>$class</dt>\n",
       "\t\t<dd><style>\n",
       ".list-inline {list-style: none; margin:0; padding: 0}\n",
       ".list-inline>li {display: inline-block}\n",
       ".list-inline>li:not(:last-child)::after {content: \"\\00b7\"; padding: 0 .5ex}\n",
       "</style>\n",
       "<ol class=list-inline><li>'summary.gls'</li><li>'gls'</li></ol>\n",
       "</dd>\n",
       "</dl>\n"
      ],
      "text/latex": [
       "\\begin{description}\n",
       "\\item[\\$names] \\begin{enumerate*}\n",
       "\\item 'modelStruct'\n",
       "\\item 'dims'\n",
       "\\item 'contrasts'\n",
       "\\item 'coefficients'\n",
       "\\item 'varBeta'\n",
       "\\item 'sigma'\n",
       "\\item 'apVar'\n",
       "\\item 'logLik'\n",
       "\\item 'numIter'\n",
       "\\item 'groups'\n",
       "\\item 'call'\n",
       "\\item 'terms'\n",
       "\\item 'method'\n",
       "\\item 'fitted'\n",
       "\\item 'residuals'\n",
       "\\item 'parAssign'\n",
       "\\item 'na.action'\n",
       "\\item 'corBeta'\n",
       "\\item 'tTable'\n",
       "\\item 'BIC'\n",
       "\\item 'AIC'\n",
       "\\end{enumerate*}\n",
       "\n",
       "\\item[\\$verbose] FALSE\n",
       "\\item[\\$class] \\begin{enumerate*}\n",
       "\\item 'summary.gls'\n",
       "\\item 'gls'\n",
       "\\end{enumerate*}\n",
       "\n",
       "\\end{description}\n"
      ],
      "text/markdown": [
       "$names\n",
       ":   1. 'modelStruct'\n",
       "2. 'dims'\n",
       "3. 'contrasts'\n",
       "4. 'coefficients'\n",
       "5. 'varBeta'\n",
       "6. 'sigma'\n",
       "7. 'apVar'\n",
       "8. 'logLik'\n",
       "9. 'numIter'\n",
       "10. 'groups'\n",
       "11. 'call'\n",
       "12. 'terms'\n",
       "13. 'method'\n",
       "14. 'fitted'\n",
       "15. 'residuals'\n",
       "16. 'parAssign'\n",
       "17. 'na.action'\n",
       "18. 'corBeta'\n",
       "19. 'tTable'\n",
       "20. 'BIC'\n",
       "21. 'AIC'\n",
       "\n",
       "\n",
       "\n",
       "$verbose\n",
       ":   FALSE\n",
       "$class\n",
       ":   1. 'summary.gls'\n",
       "2. 'gls'\n",
       "\n",
       "\n",
       "\n",
       "\n",
       "\n"
      ],
      "text/plain": [
       "$names\n",
       " [1] \"modelStruct\"  \"dims\"         \"contrasts\"    \"coefficients\" \"varBeta\"     \n",
       " [6] \"sigma\"        \"apVar\"        \"logLik\"       \"numIter\"      \"groups\"      \n",
       "[11] \"call\"         \"terms\"        \"method\"       \"fitted\"       \"residuals\"   \n",
       "[16] \"parAssign\"    \"na.action\"    \"corBeta\"      \"tTable\"       \"BIC\"         \n",
       "[21] \"AIC\"         \n",
       "\n",
       "$verbose\n",
       "[1] FALSE\n",
       "\n",
       "$class\n",
       "[1] \"summary.gls\" \"gls\"        \n"
      ]
     },
     "metadata": {},
     "output_type": "display_data"
    }
   ],
   "source": [
    "mm2 <- summary(Model_ind)\n",
    "attributes(mm2)"
   ]
  },
  {
   "cell_type": "code",
   "execution_count": 203,
   "metadata": {
    "vscode": {
     "languageId": "r"
    }
   },
   "outputs": [
    {
     "data": {
      "text/html": [
       "<table class=\"dataframe\">\n",
       "<caption>A data.frame: 2 × 1</caption>\n",
       "<thead>\n",
       "\t<tr><th></th><th scope=col>.</th></tr>\n",
       "\t<tr><th></th><th scope=col>&lt;dbl&gt;</th></tr>\n",
       "</thead>\n",
       "<tbody>\n",
       "\t<tr><th scope=row>lower-bond.treatmentTAU</th><td>1.155654</td></tr>\n",
       "\t<tr><th scope=row>upper-bond.treatmentTAU</th><td>5.489417</td></tr>\n",
       "</tbody>\n",
       "</table>\n"
      ],
      "text/latex": [
       "A data.frame: 2 × 1\n",
       "\\begin{tabular}{r|l}\n",
       "  & .\\\\\n",
       "  & <dbl>\\\\\n",
       "\\hline\n",
       "\tlower-bond.treatmentTAU & 1.155654\\\\\n",
       "\tupper-bond.treatmentTAU & 5.489417\\\\\n",
       "\\end{tabular}\n"
      ],
      "text/markdown": [
       "\n",
       "A data.frame: 2 × 1\n",
       "\n",
       "| <!--/--> | . &lt;dbl&gt; |\n",
       "|---|---|\n",
       "| lower-bond.treatmentTAU | 1.155654 |\n",
       "| upper-bond.treatmentTAU | 5.489417 |\n",
       "\n"
      ],
      "text/plain": [
       "                        .       \n",
       "lower-bond.treatmentTAU 1.155654\n",
       "upper-bond.treatmentTAU 5.489417"
      ]
     },
     "metadata": {},
     "output_type": "display_data"
    }
   ],
   "source": [
    "est_ind_treat <- mm2$coefficients[4]\n",
    "cov_ind <- mm2$varBeta\n",
    "std_treat_ind <- cov_ind[4, 4] %>% sqrt \n",
    "dff <- 274\n",
    "tval2 <- qt(.975, df = dff)\n",
    "CI_treat_ind <- c(`lower-bond` = est_ind_treat - tval2 * std_treat_ind, \n",
    "`upper-bond` = est_ind_treat + tval2 * std_treat_ind) %>% as.data.frame\n",
    "CI_treat_ind"
   ]
  },
  {
   "attachments": {},
   "cell_type": "markdown",
   "metadata": {},
   "source": [
    "<hr> <br><br><br>\n",
    "\n",
    "<div style = \"color : blue;\"> <b>\n",
    "\n",
    "Ex. 8.4 Construct a plot of the mean profiles of the two treatment groups in\n",
    "the Beat the Blues study showing also the predicted mean profiles under\n",
    "the model used in the chapter. Repeat the exercise with a model that\n",
    "includes only a time effect.\n",
    "\n",
    "</div></b>\n",
    "<br><br>"
   ]
  },
  {
   "cell_type": "code",
   "execution_count": 212,
   "metadata": {
    "vscode": {
     "languageId": "r"
    }
   },
   "outputs": [],
   "source": [
    "new_btheb_long <- na.omit(btheb_long)\n",
    "new_btheb_long$pred_text_model <- predict(BtheB_lme1)\n",
    "\n",
    "pfun <- function(x, y, subscripts, groups) {  \n",
    "      panel.xyplot(x, y[1:length(x)], pch = c(1:2)[groups[subscripts]])\n",
    "     panel.lines(x, y[1:length(x) + length(x)], lty = 1)\n",
    "}\n",
    "\n"
   ]
  },
  {
   "cell_type": "code",
   "execution_count": 222,
   "metadata": {
    "vscode": {
     "languageId": "r"
    }
   },
   "outputs": [
    {
     "data": {
      "image/png": "[encoded data removed]",
      "text/plain": [
       "plot without title"
      ]
     },
     "metadata": {
      "image/png": {
       "height": 420,
       "width": 420
      }
     },
     "output_type": "display_data"
    }
   ],
   "source": [
    "plot(xyplot(cbind(bdi, pred_text_model) ~ time | Subject, data = new_btheb_long, groups = treatment,\n",
    "    type = \"b\", pch = c(1, 2), ylab = \"bdi\",     \n",
    "    xlab = \"Time (Months during treat)\", panel = pfun))"
   ]
  },
  {
   "cell_type": "code",
   "execution_count": 220,
   "metadata": {
    "vscode": {
     "languageId": "r"
    }
   },
   "outputs": [
    {
     "data": {
      "text/plain": [
       "Generalized least squares fit by REML\n",
       "  Model: bdi ~ time - 1 \n",
       "  Data: btheb_long \n",
       "       AIC      BIC   logLik\n",
       "  2276.021 2283.283 -1136.01\n",
       "\n",
       "Coefficients:\n",
       "        Value Std.Error  t-value p-value\n",
       "time 2.551434 0.1831337 13.93208       0\n",
       "\n",
       "Standardized residuals:\n",
       "       Min         Q1        Med         Q3        Max \n",
       "-1.4606043 -0.3465980  0.1765417  0.8932985  3.2448480 \n",
       "\n",
       "Residual standard error: 13.97468 \n",
       "Degrees of freedom: 280 total; 279 residual"
      ]
     },
     "metadata": {},
     "output_type": "display_data"
    }
   ],
   "source": [
    "BtheB_lme2 <- gls(bdi ~ time -1, data = btheb_long,\n",
    "na.action = na.omit, method = \"REML\")\n",
    "summary(BtheB_lme2)"
   ]
  },
  {
   "cell_type": "code",
   "execution_count": 221,
   "metadata": {
    "vscode": {
     "languageId": "r"
    }
   },
   "outputs": [
    {
     "data": {
      "image/png": "[encoded data removed]",
      "text/plain": [
       "plot without title"
      ]
     },
     "metadata": {
      "image/png": {
       "height": 420,
       "width": 420
      }
     },
     "output_type": "display_data"
    }
   ],
   "source": [
    "new_btheb_long$pred_time_effect_model <- predict(BtheB_lme2)\n",
    "plot(xyplot(cbind(bdi, pred_time_effect_model) ~ time | Subject, data = new_btheb_long, groups = treatment,\n",
    "    type = \"b\", pch = c(19, 21), ylab = \"bdi\",     \n",
    "    xlab = \"Time (Months during treat)\", panel = pfun))"
   ]
  },
  {
   "attachments": {},
   "cell_type": "markdown",
   "metadata": {},
   "source": [
    "<hr> <br><br><br>\n",
    "\n",
    "<div style = \"color : blue;\"><b>\n",
    "\n",
    "Ex. 8.5 Investigate whether there is any evidence of an interaction between\n",
    "treatment and time for the Beat the Blues data.\n",
    "\n",
    "</div></b>\n",
    "<br><br>"
   ]
  },
  {
   "cell_type": "code",
   "execution_count": 235,
   "metadata": {
    "vscode": {
     "languageId": "r"
    }
   },
   "outputs": [
    {
     "data": {
      "text/plain": [
       "Linear mixed model fit by maximum likelihood  ['lmerMod']\n",
       "Formula: bdi ~ bdi.pre + time + treatment + time:treatment + drug + length +  \n",
       "    (1 | Subject)\n",
       "   Data: btheb_long\n",
       "\n",
       "     AIC      BIC   logLik deviance df.resid \n",
       "  1886.7   1919.4   -934.3   1868.7      271 \n",
       "\n",
       "Scaled residuals: \n",
       "    Min      1Q  Median      3Q     Max \n",
       "-2.5433 -0.5015 -0.0868  0.4087  3.7447 \n",
       "\n",
       "Random effects:\n",
       " Groups   Name        Variance Std.Dev.\n",
       " Subject  (Intercept) 49.92    7.065   \n",
       " Residual             24.57    4.956   \n",
       "Number of obs: 280, groups:  Subject, 97\n",
       "\n",
       "Fixed effects:\n",
       "                  Estimate Std. Error t value\n",
       "(Intercept)        2.38020    2.28837   1.040\n",
       "bdi.pre            0.64046    0.07843   8.166\n",
       "time              -0.46556    0.20132  -2.313\n",
       "treatmentTAU       4.09804    1.98490   2.065\n",
       "drugYes           -2.79209    1.73986  -1.605\n",
       "length>6m          0.21905    1.65043   0.133\n",
       "time:treatmentTAU -0.49000    0.28959  -1.692\n",
       "\n",
       "Correlation of Fixed Effects:\n",
       "            (Intr) bdi.pr time   trtTAU drugYs lngt>6\n",
       "bdi.pre     -0.584                                   \n",
       "time        -0.314  0.015                            \n",
       "treatmntTAU -0.418 -0.102  0.358                     \n",
       "drugYes     -0.313 -0.236 -0.010  0.279              \n",
       "length>6m   -0.242 -0.241 -0.017  0.005  0.158       \n",
       "tm:trtmnTAU  0.227 -0.002 -0.695 -0.530 -0.009 -0.013"
      ]
     },
     "metadata": {},
     "output_type": "display_data"
    }
   ],
   "source": [
    "Model_interaction <- lmer(bdi ~ bdi.pre + time + treatment + time:treatment + drug +\n",
    "length + (1 | Subject), data = btheb_long,\n",
    "na.action = na.omit, REML = F)\n",
    "summary(Model_interaction)"
   ]
  },
  {
   "cell_type": "code",
   "execution_count": 236,
   "metadata": {
    "vscode": {
     "languageId": "r"
    }
   },
   "outputs": [
    {
     "data": {
      "text/html": [
       "<table class=\"dataframe\">\n",
       "<caption>A anova: 2 × 8</caption>\n",
       "<thead>\n",
       "\t<tr><th></th><th scope=col>npar</th><th scope=col>AIC</th><th scope=col>BIC</th><th scope=col>logLik</th><th scope=col>deviance</th><th scope=col>Chisq</th><th scope=col>Df</th><th scope=col>Pr(&gt;Chisq)</th></tr>\n",
       "\t<tr><th></th><th scope=col>&lt;dbl&gt;</th><th scope=col>&lt;dbl&gt;</th><th scope=col>&lt;dbl&gt;</th><th scope=col>&lt;dbl&gt;</th><th scope=col>&lt;dbl&gt;</th><th scope=col>&lt;dbl&gt;</th><th scope=col>&lt;dbl&gt;</th><th scope=col>&lt;dbl&gt;</th></tr>\n",
       "</thead>\n",
       "<tbody>\n",
       "\t<tr><th scope=row>Model_text</th><td>8</td><td>1887.492</td><td>1916.570</td><td>-935.7460</td><td>1871.492</td><td>      NA</td><td>NA</td><td>        NA</td></tr>\n",
       "\t<tr><th scope=row>Model_interaction</th><td>9</td><td>1886.690</td><td>1919.404</td><td>-934.3452</td><td>1868.690</td><td>2.801534</td><td> 1</td><td>0.09417417</td></tr>\n",
       "</tbody>\n",
       "</table>\n"
      ],
      "text/latex": [
       "A anova: 2 × 8\n",
       "\\begin{tabular}{r|llllllll}\n",
       "  & npar & AIC & BIC & logLik & deviance & Chisq & Df & Pr(>Chisq)\\\\\n",
       "  & <dbl> & <dbl> & <dbl> & <dbl> & <dbl> & <dbl> & <dbl> & <dbl>\\\\\n",
       "\\hline\n",
       "\tModel\\_text & 8 & 1887.492 & 1916.570 & -935.7460 & 1871.492 &       NA & NA &         NA\\\\\n",
       "\tModel\\_interaction & 9 & 1886.690 & 1919.404 & -934.3452 & 1868.690 & 2.801534 &  1 & 0.09417417\\\\\n",
       "\\end{tabular}\n"
      ],
      "text/markdown": [
       "\n",
       "A anova: 2 × 8\n",
       "\n",
       "| <!--/--> | npar &lt;dbl&gt; | AIC &lt;dbl&gt; | BIC &lt;dbl&gt; | logLik &lt;dbl&gt; | deviance &lt;dbl&gt; | Chisq &lt;dbl&gt; | Df &lt;dbl&gt; | Pr(&gt;Chisq) &lt;dbl&gt; |\n",
       "|---|---|---|---|---|---|---|---|---|\n",
       "| Model_text | 8 | 1887.492 | 1916.570 | -935.7460 | 1871.492 |       NA | NA |         NA |\n",
       "| Model_interaction | 9 | 1886.690 | 1919.404 | -934.3452 | 1868.690 | 2.801534 |  1 | 0.09417417 |\n",
       "\n"
      ],
      "text/plain": [
       "                  npar AIC      BIC      logLik    deviance Chisq    Df\n",
       "Model_text        8    1887.492 1916.570 -935.7460 1871.492       NA NA\n",
       "Model_interaction 9    1886.690 1919.404 -934.3452 1868.690 2.801534  1\n",
       "                  Pr(>Chisq)\n",
       "Model_text                NA\n",
       "Model_interaction 0.09417417"
      ]
     },
     "metadata": {},
     "output_type": "display_data"
    }
   ],
   "source": [
    "Model_text <- lmer(bdi ~ bdi.pre + time + treatment + drug +\n",
    "length +  (1 | Subject), data = btheb_long,\n",
    "na.action = na.omit, REML = F)\n",
    "anova(Model_text, Model_interaction)"
   ]
  },
  {
   "cell_type": "code",
   "execution_count": 237,
   "metadata": {
    "vscode": {
     "languageId": "r"
    }
   },
   "outputs": [
    {
     "data": {
      "text/plain": [
       "Linear mixed-effects model fit by maximum likelihood\n",
       "  Data: btheb_long \n",
       "      AIC      BIC    logLik\n",
       "  1886.69 1919.404 -934.3452\n",
       "\n",
       "Random effects:\n",
       " Formula: ~1 | Subject\n",
       "        (Intercept) Residual\n",
       "StdDev:    7.065214 4.956454\n",
       "\n",
       "Fixed effects:  bdi ~ bdi.pre + time + treatment + time:treatment + drug + length \n",
       "                      Value Std.Error  DF   t-value p-value\n",
       "(Intercept)        2.380202 2.3175259 181  1.027044  0.3058\n",
       "bdi.pre            0.640455 0.0794325  92  8.062891  0.0000\n",
       "time              -0.465555 0.2038806 181 -2.283468  0.0236\n",
       "treatmentTAU       4.098036 2.0101824  92  2.038639  0.0444\n",
       "drugYes           -2.792094 1.7620285  92 -1.584591  0.1165\n",
       "length>6m          0.219054 1.6714600  92  0.131055  0.8960\n",
       "time:treatmentTAU -0.489998 0.2932791 181 -1.670758  0.0965\n",
       " Correlation: \n",
       "                  (Intr) bdi.pr time   trtTAU drugYs lngt>6\n",
       "bdi.pre           -0.584                                   \n",
       "time              -0.314  0.015                            \n",
       "treatmentTAU      -0.418 -0.102  0.358                     \n",
       "drugYes           -0.313 -0.236 -0.010  0.279              \n",
       "length>6m         -0.242 -0.241 -0.017  0.005  0.158       \n",
       "time:treatmentTAU  0.227 -0.002 -0.695 -0.530 -0.009 -0.013\n",
       "\n",
       "Standardized Within-Group Residuals:\n",
       "        Min          Q1         Med          Q3         Max \n",
       "-2.54333942 -0.50152812 -0.08684482  0.40871479  3.74473512 \n",
       "\n",
       "Number of Observations: 280\n",
       "Number of Groups: 97 "
      ]
     },
     "metadata": {},
     "output_type": "display_data"
    }
   ],
   "source": [
    "Model_interaction_nlme <- lme(bdi ~ bdi.pre + time + treatment + time:treatment + drug +\n",
    "length, random = ~1 | Subject, data = btheb_long,\n",
    "na.action = na.omit, method = \"ML\")\n",
    "summary(Model_interaction_nlme)"
   ]
  },
  {
   "cell_type": "code",
   "execution_count": 238,
   "metadata": {
    "vscode": {
     "languageId": "r"
    }
   },
   "outputs": [
    {
     "data": {
      "text/plain": [
       "Linear mixed-effects model fit by maximum likelihood\n",
       "  Data: btheb_long \n",
       "       AIC     BIC   logLik\n",
       "  1887.492 1916.57 -935.746\n",
       "\n",
       "Random effects:\n",
       " Formula: ~1 | Subject\n",
       "        (Intercept) Residual\n",
       "StdDev:    6.984081 5.013978\n",
       "\n",
       "Fixed effects:  bdi ~ bdi.pre + time + treatment + drug + length \n",
       "                 Value Std.Error  DF   t-value p-value\n",
       "(Intercept)   3.263311 2.2378212 182  1.458254  0.1465\n",
       "bdi.pre       0.639676 0.0787396  92  8.123950  0.0000\n",
       "time         -0.704765 0.1479856 182 -4.762386  0.0000\n",
       "treatmentTAU  2.329083 1.6885457  92  1.379342  0.1711\n",
       "drugYes      -2.824952 1.7456397  92 -1.618291  0.1090\n",
       "length>6m     0.197079 1.6561584  92  0.118998  0.9055\n",
       " Correlation: \n",
       "             (Intr) bdi.pr time   trtTAU drugYs\n",
       "bdi.pre      -0.599                            \n",
       "time         -0.227  0.020                     \n",
       "treatmentTAU -0.360 -0.121 -0.018              \n",
       "drugYes      -0.318 -0.237 -0.022  0.323       \n",
       "length>6m    -0.244 -0.242 -0.036 -0.002  0.157\n",
       "\n",
       "Standardized Within-Group Residuals:\n",
       "        Min          Q1         Med          Q3         Max \n",
       "-2.69747654 -0.50262419 -0.06383127  0.41242437  3.82033326 \n",
       "\n",
       "Number of Observations: 280\n",
       "Number of Groups: 97 "
      ]
     },
     "metadata": {},
     "output_type": "display_data"
    }
   ],
   "source": [
    "Model_text_nlme <- lme(bdi ~ bdi.pre + time + treatment +  drug +\n",
    "length, random = ~1 | Subject, data = btheb_long,\n",
    "na.action = na.omit, method = \"ML\")\n",
    "summary(Model_text_nlme)"
   ]
  },
  {
   "cell_type": "code",
   "execution_count": 239,
   "metadata": {
    "vscode": {
     "languageId": "r"
    }
   },
   "outputs": [
    {
     "data": {
      "text/html": [
       "<table class=\"dataframe\">\n",
       "<caption>A anova.lme: 2 × 9</caption>\n",
       "<thead>\n",
       "\t<tr><th></th><th scope=col>call</th><th scope=col>Model</th><th scope=col>df</th><th scope=col>AIC</th><th scope=col>BIC</th><th scope=col>logLik</th><th scope=col>Test</th><th scope=col>L.Ratio</th><th scope=col>p-value</th></tr>\n",
       "\t<tr><th></th><th scope=col>&lt;chr&gt;</th><th scope=col>&lt;int&gt;</th><th scope=col>&lt;dbl&gt;</th><th scope=col>&lt;dbl&gt;</th><th scope=col>&lt;dbl&gt;</th><th scope=col>&lt;dbl&gt;</th><th scope=col>&lt;fct&gt;</th><th scope=col>&lt;dbl&gt;</th><th scope=col>&lt;dbl&gt;</th></tr>\n",
       "</thead>\n",
       "<tbody>\n",
       "\t<tr><th scope=row>Model_interaction_nlme</th><td>lme.formula(fixed = bdi ~ bdi.pre + time + treatment + time:treatment +     drug + length, data = btheb_long, random = ~1 | Subject,     method = \"ML\", na.action = na.omit)</td><td>1</td><td>9</td><td>1886.690</td><td>1919.404</td><td>-934.3452</td><td>      </td><td>      NA</td><td>        NA</td></tr>\n",
       "\t<tr><th scope=row>Model_text_nlme</th><td>lme.formula(fixed = bdi ~ bdi.pre + time + treatment + drug +     length, data = btheb_long, random = ~1 | Subject, method = \"ML\",     na.action = na.omit)                 </td><td>2</td><td>8</td><td>1887.492</td><td>1916.570</td><td>-935.7460</td><td>1 vs 2</td><td>2.801534</td><td>0.09417417</td></tr>\n",
       "</tbody>\n",
       "</table>\n"
      ],
      "text/latex": [
       "A anova.lme: 2 × 9\n",
       "\\begin{tabular}{r|lllllllll}\n",
       "  & call & Model & df & AIC & BIC & logLik & Test & L.Ratio & p-value\\\\\n",
       "  & <chr> & <int> & <dbl> & <dbl> & <dbl> & <dbl> & <fct> & <dbl> & <dbl>\\\\\n",
       "\\hline\n",
       "\tModel\\_interaction\\_nlme & lme.formula(fixed = bdi \\textasciitilde{} bdi.pre + time + treatment + time:treatment +     drug + length, data = btheb\\_long, random = \\textasciitilde{}1 \\textbar{} Subject,     method = \"ML\", na.action = na.omit) & 1 & 9 & 1886.690 & 1919.404 & -934.3452 &        &       NA &         NA\\\\\n",
       "\tModel\\_text\\_nlme & lme.formula(fixed = bdi \\textasciitilde{} bdi.pre + time + treatment + drug +     length, data = btheb\\_long, random = \\textasciitilde{}1 \\textbar{} Subject, method = \"ML\",     na.action = na.omit)                  & 2 & 8 & 1887.492 & 1916.570 & -935.7460 & 1 vs 2 & 2.801534 & 0.09417417\\\\\n",
       "\\end{tabular}\n"
      ],
      "text/markdown": [
       "\n",
       "A anova.lme: 2 × 9\n",
       "\n",
       "| <!--/--> | call &lt;chr&gt; | Model &lt;int&gt; | df &lt;dbl&gt; | AIC &lt;dbl&gt; | BIC &lt;dbl&gt; | logLik &lt;dbl&gt; | Test &lt;fct&gt; | L.Ratio &lt;dbl&gt; | p-value &lt;dbl&gt; |\n",
       "|---|---|---|---|---|---|---|---|---|---|\n",
       "| Model_interaction_nlme | lme.formula(fixed = bdi ~ bdi.pre + time + treatment + time:treatment +     drug + length, data = btheb_long, random = ~1 | Subject,     method = \"ML\", na.action = na.omit) | 1 | 9 | 1886.690 | 1919.404 | -934.3452 | <!----> |       NA |         NA |\n",
       "| Model_text_nlme | lme.formula(fixed = bdi ~ bdi.pre + time + treatment + drug +     length, data = btheb_long, random = ~1 | Subject, method = \"ML\",     na.action = na.omit)                  | 2 | 8 | 1887.492 | 1916.570 | -935.7460 | 1 vs 2 | 2.801534 | 0.09417417 |\n",
       "\n"
      ],
      "text/plain": [
       "                       call                                                                                                                                                                        \n",
       "Model_interaction_nlme lme.formula(fixed = bdi ~ bdi.pre + time + treatment + time:treatment +     drug + length, data = btheb_long, random = ~1 | Subject,     method = \"ML\", na.action = na.omit)\n",
       "Model_text_nlme        lme.formula(fixed = bdi ~ bdi.pre + time + treatment + drug +     length, data = btheb_long, random = ~1 | Subject, method = \"ML\",     na.action = na.omit)                 \n",
       "                       Model df AIC      BIC      logLik    Test   L.Ratio \n",
       "Model_interaction_nlme 1     9  1886.690 1919.404 -934.3452              NA\n",
       "Model_text_nlme        2     8  1887.492 1916.570 -935.7460 1 vs 2 2.801534\n",
       "                       p-value   \n",
       "Model_interaction_nlme         NA\n",
       "Model_text_nlme        0.09417417"
      ]
     },
     "metadata": {},
     "output_type": "display_data"
    }
   ],
   "source": [
    "anova(Model_interaction_nlme, Model_text_nlme)"
   ]
  }
 ],
 "metadata": {
  "kernelspec": {
   "display_name": "R",
   "language": "R",
   "name": "ir"
  },
  "language_info": {
   "codemirror_mode": "r",
   "file_extension": ".r",
   "mimetype": "text/x-r-source",
   "name": "R",
   "pygments_lexer": "r",
   "version": "4.2.2"
  },
  "orig_nbformat": 4,
  "vscode": {
   "interpreter": {
    "hash": "8daae33975c15d277ac0a57969cf22ab22bb1b417b85f8c711213778fd937492"
   }
  }
 },
 "nbformat": 4,
 "nbformat_minor": 2
}
