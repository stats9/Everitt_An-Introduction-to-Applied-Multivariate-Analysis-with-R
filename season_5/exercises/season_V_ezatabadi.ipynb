{
 "cells": [
  {
   "cell_type": "markdown",
   "metadata": {},
   "source": [
    "## 5.12 Exercises"
   ]
  },
  {
   "cell_type": "markdown",
   "metadata": {},
   "source": [
    "5.1 Show how the result $\\Sigma = \\Lambda \\Lambda^T + \\Psi$ arises from the assumptions of uncorrelated factors, independence of the specific variates, and indpendence of common factors and specific variances. What form does $\\Sigma$ take if the facotrs are allowed to be correlated?"
   ]
  },
  {
   "cell_type": "markdown",
   "metadata": {},
   "source": [
    "$$\n",
    "\\begin{align*}\n",
    "&\\text{\\bf{x}} = \\underset{p\\times 1}{\\text{\\bf{x}}},\\\\\n",
    "&\\text{\\bf{u}} = \\underset{p \\times 1}{\\text{\\bf{u}}}, \\\\\n",
    "&\\text{\\bf{x}} = \\Lambda \\text{\\bf{f}} + \\text{\\bf{u}}, \\quad \\text{\\bf{f}} = \\underset{m \\times 1}{\\text{\\bf{f}}}, \\quad m \\leq p,\\\\ \n",
    "&\\Lambda = \\underset{p \\times m}{\\Lambda}, \\quad\n",
    "\\text{Var}(\\text{\\bf{u}}) = \\Psi, \\quad \\Psi = \\text{diag}(\\psi_1, ..., \\psi_p), \\quad \\text{Var}(\\text{\\bf{f}}) = I \\\\\n",
    "&\\forall ~i, j~~\\text{Cov}(\\text{\\bf{f}}, \\text{\\bf{u}}) = 0, \\quad i \\in \\{1, 2, ..., m\\}, ~~ j \\in \\{1, 2, ..., p\\}, \\\\\n",
    "& \\to \\text{Var}(\\text{\\bf{x}}) = \\Sigma = \\text{Var}(\\Lambda \\text{\\bf{f}}+\\text{\\bf{u}}) = \\text{Var}(\\Lambda \\text{\\bf{f}}) + \\text{Var}(\\text{\\bf{u}}) + \\text{Cov}(\\Lambda\\text{\\bf{f}}, \\text{\\bf{u}}) + \\text{Cov}(\\text{\\bf{u}}, \\Lambda\\text{\\bf{f}}) = \\\\\n",
    "& \\Lambda \\times \\text{Var}(\\text{\\bf{f}}) \\times \\Lambda^T + \\text{Var}(\\text{\\bf{u}}) + \\Lambda \\text{Cov}(\\text{\\bf{f}}, \\text{\\bf{u}}) + \\text{Cov}(\\text{\\bf{u}}, \\text{\\bf{f}})\\Lambda^T = \\\\\n",
    "& \\Lambda \\times I \\times \\Lambda^T + \\Psi + 0 + 0 = \\Lambda \\Lambda^T + \\Psi. \\\\\n",
    "& \\text{If} ~~ \\text{Var}(\\text{\\bf{f}}) \\ne I, ~~ \\text{Assume that} ~~ \\text{Var}(\\text{\\bf{f}}) = \\image, \\quad \\text{And}~ \\image ~\\text{Is not Diagonal Matrix}, \\\\\n",
    "& \\implies \\text{Var}(\\text{\\bf{x}}) = \\Sigma = \\text{Var}(\\Lambda\\text{\\bf{f}} + \\text{\\bf{u}}) = \\\\\n",
    "& \\Lambda \\times \\text{Var}(\\text{\\bf{f}})  \\times \\Lambda^T + \\Psi + 0 + 0 = \\Lambda \\times \\image \\times \\Lambda^T + \\Psi\n",
    "\\end{align*}\n",
    "$$\n",
    "<hr><hr>\n",
    "<br><br>"
   ]
  },
  {
   "cell_type": "markdown",
   "metadata": {},
   "source": [
    "Ex. 5.2 show that the communalities in a factor analysis model are unaffected by the transformation $\\boldsymbol{\\Lambda^*} = \\boldsymbol{\\Lambda M}$. "
   ]
  },
  {
   "cell_type": "markdown",
   "metadata": {},
   "source": [
    "$$\n",
    "\\begin{align*}\n",
    "& \\text{We know that M is orthogonal Matrix, therefore}~~ M \\times M^T = M^T \\times M = I, \\\\\n",
    "& M = \\underset{m \\times m}{M}, \\quad \\Lambda = \\underset{p \\times m}{\\Lambda}, \\quad \\Lambda^* = \\Lambda \\times M = \\underset{p \\times m}{\\Lambda^*}, \\\\\n",
    "& \\mathcal{R}_{\\text{default}} = \\text{diag}(h_{11}, h_{22}, ..., h_{pp}) = \\text{diag}(\\Lambda \\times \\Lambda^T),  \\\\\n",
    "&\\mathcal{R}_{\\text{transform}} = \\text{diag}(h'_{11}, h'_{22}, ..., h'_{pp}) = \\text{diag}(\\Lambda^* \\times (\\Lambda^*)^T) = \\\\\n",
    "&\\text{diag}(\\Lambda \\times M \\times (\\Lambda \\times M)^T) = \\text{diag}(\\Lambda \\times M \\times M^T \\times \\Lambda^T) = \\\\\n",
    "& \\text{diag}(\\Lambda \\times (M \\times M^T) \\times \\Lambda^T) = \\\\\n",
    "& \\text{diag}(\\Lambda \\times I \\times \\Lambda^T) = \\mathcal{R}_{\\text{default}}.\n",
    "\\end{align*}\n",
    "$$\n",
    "<hr><hr>\n",
    "<br><br>"
   ]
  },
  {
   "cell_type": "markdown",
   "metadata": {},
   "source": [
    "Ex. 5.3 Give a formula for proportion of variance explained by the jth factor estimated by the principal factor approach. "
   ]
  },
  {
   "cell_type": "markdown",
   "metadata": {},
   "source": [
    "$$\n",
    "\\begin{align*}\n",
    "& \\text{If Eigen values of Covariance Matrix or Correlation Matrix} = \\{\\lambda_1, \\lambda_2, ..., \\lambda_p\\}\\\\\n",
    "& \\implies \\text{Proportion of Variance Explained by the jth factor} = \\frac{\\lambda_j}{\\sum_{i = 1}^p\\lambda_i}\n",
    "\\end{align*}\n",
    "$$\n",
    "<hr><hr>\n",
    "<br><br>"
   ]
  },
  {
   "cell_type": "markdown",
   "metadata": {},
   "source": [
    "Ex. 5.4 Apply the factor analysis model separately to the life expectancies of men and women and compare the results. "
   ]
  },
  {
   "cell_type": "code",
   "execution_count": 2,
   "metadata": {
    "vscode": {
     "languageId": "r"
    }
   },
   "outputs": [
    {
     "name": "stderr",
     "output_type": "stream",
     "text": [
      "── \u001b[1mAttaching packages\u001b[22m ─────────────────────────────────────── tidyverse 1.3.2 ──\n",
      "\u001b[32m✔\u001b[39m \u001b[34mggplot2\u001b[39m 3.4.0      \u001b[32m✔\u001b[39m \u001b[34mpurrr  \u001b[39m 0.3.5 \n",
      "\u001b[32m✔\u001b[39m \u001b[34mtibble \u001b[39m 3.1.8      \u001b[32m✔\u001b[39m \u001b[34mdplyr  \u001b[39m 1.0.10\n",
      "\u001b[32m✔\u001b[39m \u001b[34mtidyr  \u001b[39m 1.2.1      \u001b[32m✔\u001b[39m \u001b[34mstringr\u001b[39m 1.4.1 \n",
      "\u001b[32m✔\u001b[39m \u001b[34mreadr  \u001b[39m 2.1.3      \u001b[32m✔\u001b[39m \u001b[34mforcats\u001b[39m 0.5.2 \n",
      "── \u001b[1mConflicts\u001b[22m ────────────────────────────────────────── tidyverse_conflicts() ──\n",
      "\u001b[31m✖\u001b[39m \u001b[34mdplyr\u001b[39m::\u001b[32mfilter()\u001b[39m masks \u001b[34mstats\u001b[39m::filter()\n",
      "\u001b[31m✖\u001b[39m \u001b[34mdplyr\u001b[39m::\u001b[32mlag()\u001b[39m    masks \u001b[34mstats\u001b[39m::lag()\n",
      "\n",
      "Attaching package: 'psych'\n",
      "\n",
      "\n",
      "The following objects are masked from 'package:ggplot2':\n",
      "\n",
      "    %+%, alpha\n",
      "\n",
      "\n"
     ]
    },
    {
     "data": {
      "text/html": [
       "<table class=\"dataframe\">\n",
       "<caption>A tibble: 6 × 9</caption>\n",
       "<thead>\n",
       "\t<tr><th scope=col>country</th><th scope=col>m0</th><th scope=col>m25</th><th scope=col>m50</th><th scope=col>m75</th><th scope=col>w0</th><th scope=col>w25</th><th scope=col>w50</th><th scope=col>w75</th></tr>\n",
       "\t<tr><th scope=col>&lt;chr&gt;</th><th scope=col>&lt;dbl&gt;</th><th scope=col>&lt;dbl&gt;</th><th scope=col>&lt;dbl&gt;</th><th scope=col>&lt;dbl&gt;</th><th scope=col>&lt;dbl&gt;</th><th scope=col>&lt;dbl&gt;</th><th scope=col>&lt;dbl&gt;</th><th scope=col>&lt;dbl&gt;</th></tr>\n",
       "</thead>\n",
       "<tbody>\n",
       "\t<tr><td>Algeria   </td><td>63</td><td>51</td><td>30</td><td>13</td><td>67</td><td>54</td><td>34</td><td>15</td></tr>\n",
       "\t<tr><td>Cameroon  </td><td>34</td><td>29</td><td>13</td><td> 5</td><td>38</td><td>32</td><td>17</td><td> 6</td></tr>\n",
       "\t<tr><td>Madagascar</td><td>38</td><td>30</td><td>17</td><td> 7</td><td>38</td><td>34</td><td>20</td><td> 7</td></tr>\n",
       "\t<tr><td>Mauritius </td><td>59</td><td>42</td><td>20</td><td> 6</td><td>64</td><td>46</td><td>25</td><td> 8</td></tr>\n",
       "\t<tr><td>Reunion   </td><td>56</td><td>38</td><td>18</td><td> 7</td><td>62</td><td>46</td><td>25</td><td>10</td></tr>\n",
       "\t<tr><td>Seychelles</td><td>62</td><td>44</td><td>24</td><td> 7</td><td>69</td><td>50</td><td>28</td><td>14</td></tr>\n",
       "</tbody>\n",
       "</table>\n"
      ],
      "text/latex": [
       "A tibble: 6 × 9\n",
       "\\begin{tabular}{lllllllll}\n",
       " country & m0 & m25 & m50 & m75 & w0 & w25 & w50 & w75\\\\\n",
       " <chr> & <dbl> & <dbl> & <dbl> & <dbl> & <dbl> & <dbl> & <dbl> & <dbl>\\\\\n",
       "\\hline\n",
       "\t Algeria    & 63 & 51 & 30 & 13 & 67 & 54 & 34 & 15\\\\\n",
       "\t Cameroon   & 34 & 29 & 13 &  5 & 38 & 32 & 17 &  6\\\\\n",
       "\t Madagascar & 38 & 30 & 17 &  7 & 38 & 34 & 20 &  7\\\\\n",
       "\t Mauritius  & 59 & 42 & 20 &  6 & 64 & 46 & 25 &  8\\\\\n",
       "\t Reunion    & 56 & 38 & 18 &  7 & 62 & 46 & 25 & 10\\\\\n",
       "\t Seychelles & 62 & 44 & 24 &  7 & 69 & 50 & 28 & 14\\\\\n",
       "\\end{tabular}\n"
      ],
      "text/markdown": [
       "\n",
       "A tibble: 6 × 9\n",
       "\n",
       "| country &lt;chr&gt; | m0 &lt;dbl&gt; | m25 &lt;dbl&gt; | m50 &lt;dbl&gt; | m75 &lt;dbl&gt; | w0 &lt;dbl&gt; | w25 &lt;dbl&gt; | w50 &lt;dbl&gt; | w75 &lt;dbl&gt; |\n",
       "|---|---|---|---|---|---|---|---|---|\n",
       "| Algeria    | 63 | 51 | 30 | 13 | 67 | 54 | 34 | 15 |\n",
       "| Cameroon   | 34 | 29 | 13 |  5 | 38 | 32 | 17 |  6 |\n",
       "| Madagascar | 38 | 30 | 17 |  7 | 38 | 34 | 20 |  7 |\n",
       "| Mauritius  | 59 | 42 | 20 |  6 | 64 | 46 | 25 |  8 |\n",
       "| Reunion    | 56 | 38 | 18 |  7 | 62 | 46 | 25 | 10 |\n",
       "| Seychelles | 62 | 44 | 24 |  7 | 69 | 50 | 28 | 14 |\n",
       "\n"
      ],
      "text/plain": [
       "  country    m0 m25 m50 m75 w0 w25 w50 w75\n",
       "1 Algeria    63 51  30  13  67 54  34  15 \n",
       "2 Cameroon   34 29  13   5  38 32  17   6 \n",
       "3 Madagascar 38 30  17   7  38 34  20   7 \n",
       "4 Mauritius  59 42  20   6  64 46  25   8 \n",
       "5 Reunion    56 38  18   7  62 46  25  10 \n",
       "6 Seychelles 62 44  24   7  69 50  28  14 "
      ]
     },
     "metadata": {},
     "output_type": "display_data"
    }
   ],
   "source": [
    "library(tidyverse)\n",
    "library(psych)\n",
    "colName <- c(\"country\", \"m0\", \"m25\", \"m50\", \"m75\", \n",
    "\"w0\", \"w25\", \"w50\", \"w75\")\n",
    "dat <- read_table(file = file.choose(), col_names = colName, \n",
    "col_types = cols(\"c\", \"d\", \"d\", \"d\", \"d\", \"d\", \"d\", \"d\", \"d\"))\n",
    "head(dat)"
   ]
  },
  {
   "cell_type": "code",
   "execution_count": 3,
   "metadata": {
    "vscode": {
     "languageId": "r"
    }
   },
   "outputs": [
    {
     "data": {
      "text/html": [
       "<table class=\"dataframe\">\n",
       "<caption>A data.frame: 6 × 4</caption>\n",
       "<thead>\n",
       "\t<tr><th></th><th scope=col>m0</th><th scope=col>m25</th><th scope=col>m50</th><th scope=col>m75</th></tr>\n",
       "\t<tr><th></th><th scope=col>&lt;dbl&gt;</th><th scope=col>&lt;dbl&gt;</th><th scope=col>&lt;dbl&gt;</th><th scope=col>&lt;dbl&gt;</th></tr>\n",
       "</thead>\n",
       "<tbody>\n",
       "\t<tr><th scope=row>Algeria</th><td>63</td><td>51</td><td>30</td><td>13</td></tr>\n",
       "\t<tr><th scope=row>Cameroon</th><td>34</td><td>29</td><td>13</td><td> 5</td></tr>\n",
       "\t<tr><th scope=row>Madagascar</th><td>38</td><td>30</td><td>17</td><td> 7</td></tr>\n",
       "\t<tr><th scope=row>Mauritius</th><td>59</td><td>42</td><td>20</td><td> 6</td></tr>\n",
       "\t<tr><th scope=row>Reunion</th><td>56</td><td>38</td><td>18</td><td> 7</td></tr>\n",
       "\t<tr><th scope=row>Seychelles</th><td>62</td><td>44</td><td>24</td><td> 7</td></tr>\n",
       "</tbody>\n",
       "</table>\n"
      ],
      "text/latex": [
       "A data.frame: 6 × 4\n",
       "\\begin{tabular}{r|llll}\n",
       "  & m0 & m25 & m50 & m75\\\\\n",
       "  & <dbl> & <dbl> & <dbl> & <dbl>\\\\\n",
       "\\hline\n",
       "\tAlgeria & 63 & 51 & 30 & 13\\\\\n",
       "\tCameroon & 34 & 29 & 13 &  5\\\\\n",
       "\tMadagascar & 38 & 30 & 17 &  7\\\\\n",
       "\tMauritius & 59 & 42 & 20 &  6\\\\\n",
       "\tReunion & 56 & 38 & 18 &  7\\\\\n",
       "\tSeychelles & 62 & 44 & 24 &  7\\\\\n",
       "\\end{tabular}\n"
      ],
      "text/markdown": [
       "\n",
       "A data.frame: 6 × 4\n",
       "\n",
       "| <!--/--> | m0 &lt;dbl&gt; | m25 &lt;dbl&gt; | m50 &lt;dbl&gt; | m75 &lt;dbl&gt; |\n",
       "|---|---|---|---|---|\n",
       "| Algeria | 63 | 51 | 30 | 13 |\n",
       "| Cameroon | 34 | 29 | 13 |  5 |\n",
       "| Madagascar | 38 | 30 | 17 |  7 |\n",
       "| Mauritius | 59 | 42 | 20 |  6 |\n",
       "| Reunion | 56 | 38 | 18 |  7 |\n",
       "| Seychelles | 62 | 44 | 24 |  7 |\n",
       "\n"
      ],
      "text/plain": [
       "           m0 m25 m50 m75\n",
       "Algeria    63 51  30  13 \n",
       "Cameroon   34 29  13   5 \n",
       "Madagascar 38 30  17   7 \n",
       "Mauritius  59 42  20   6 \n",
       "Reunion    56 38  18   7 \n",
       "Seychelles 62 44  24   7 "
      ]
     },
     "metadata": {},
     "output_type": "display_data"
    }
   ],
   "source": [
    "n <- nrow(dat)\n",
    "men_dat <- dat %>%\n",
    "dplyr :: select(ends_with(\"y\") | starts_with(\"m\")) %>%\n",
    "column_to_rownames(var = \"country\")\n",
    "head(men_dat)"
   ]
  },
  {
   "cell_type": "code",
   "execution_count": 4,
   "metadata": {
    "vscode": {
     "languageId": "r"
    }
   },
   "outputs": [
    {
     "data": {
      "text/html": [
       "<table class=\"dataframe\">\n",
       "<caption>A data.frame: 6 × 4</caption>\n",
       "<thead>\n",
       "\t<tr><th></th><th scope=col>w0</th><th scope=col>w25</th><th scope=col>w50</th><th scope=col>w75</th></tr>\n",
       "\t<tr><th></th><th scope=col>&lt;dbl&gt;</th><th scope=col>&lt;dbl&gt;</th><th scope=col>&lt;dbl&gt;</th><th scope=col>&lt;dbl&gt;</th></tr>\n",
       "</thead>\n",
       "<tbody>\n",
       "\t<tr><th scope=row>Algeria</th><td>67</td><td>54</td><td>34</td><td>15</td></tr>\n",
       "\t<tr><th scope=row>Cameroon</th><td>38</td><td>32</td><td>17</td><td> 6</td></tr>\n",
       "\t<tr><th scope=row>Madagascar</th><td>38</td><td>34</td><td>20</td><td> 7</td></tr>\n",
       "\t<tr><th scope=row>Mauritius</th><td>64</td><td>46</td><td>25</td><td> 8</td></tr>\n",
       "\t<tr><th scope=row>Reunion</th><td>62</td><td>46</td><td>25</td><td>10</td></tr>\n",
       "\t<tr><th scope=row>Seychelles</th><td>69</td><td>50</td><td>28</td><td>14</td></tr>\n",
       "</tbody>\n",
       "</table>\n"
      ],
      "text/latex": [
       "A data.frame: 6 × 4\n",
       "\\begin{tabular}{r|llll}\n",
       "  & w0 & w25 & w50 & w75\\\\\n",
       "  & <dbl> & <dbl> & <dbl> & <dbl>\\\\\n",
       "\\hline\n",
       "\tAlgeria & 67 & 54 & 34 & 15\\\\\n",
       "\tCameroon & 38 & 32 & 17 &  6\\\\\n",
       "\tMadagascar & 38 & 34 & 20 &  7\\\\\n",
       "\tMauritius & 64 & 46 & 25 &  8\\\\\n",
       "\tReunion & 62 & 46 & 25 & 10\\\\\n",
       "\tSeychelles & 69 & 50 & 28 & 14\\\\\n",
       "\\end{tabular}\n"
      ],
      "text/markdown": [
       "\n",
       "A data.frame: 6 × 4\n",
       "\n",
       "| <!--/--> | w0 &lt;dbl&gt; | w25 &lt;dbl&gt; | w50 &lt;dbl&gt; | w75 &lt;dbl&gt; |\n",
       "|---|---|---|---|---|\n",
       "| Algeria | 67 | 54 | 34 | 15 |\n",
       "| Cameroon | 38 | 32 | 17 |  6 |\n",
       "| Madagascar | 38 | 34 | 20 |  7 |\n",
       "| Mauritius | 64 | 46 | 25 |  8 |\n",
       "| Reunion | 62 | 46 | 25 | 10 |\n",
       "| Seychelles | 69 | 50 | 28 | 14 |\n",
       "\n"
      ],
      "text/plain": [
       "           w0 w25 w50 w75\n",
       "Algeria    67 54  34  15 \n",
       "Cameroon   38 32  17   6 \n",
       "Madagascar 38 34  20   7 \n",
       "Mauritius  64 46  25   8 \n",
       "Reunion    62 46  25  10 \n",
       "Seychelles 69 50  28  14 "
      ]
     },
     "metadata": {},
     "output_type": "display_data"
    }
   ],
   "source": [
    "n <- nrow(dat)\n",
    "women_dat <- dat %>%\n",
    "dplyr :: select(ends_with(\"y\") | starts_with(\"w\")) %>% \n",
    "column_to_rownames(var = \"country\")\n",
    "head(women_dat)"
   ]
  },
  {
   "cell_type": "code",
   "execution_count": 18,
   "metadata": {
    "vscode": {
     "languageId": "r"
    }
   },
   "outputs": [
    {
     "data": {
      "text/plain": [
       "Factor Analysis using method =  ml\n",
       "Call: fa(r = men_dat, nfactors = 3, fm = \"ml\")\n",
       "Standardized loadings (pattern matrix) based upon correlation matrix\n",
       "     ML3   ML1   ML2   h2    u2 com\n",
       "m0  0.95 -0.03 -0.03 0.84 0.159   1\n",
       "m25 0.75  0.07  0.07 0.69 0.311   1\n",
       "m50 0.00  1.00  0.00 0.99 0.005   1\n",
       "m75 0.00  0.00  0.96 0.92 0.077   1\n",
       "\n",
       "                       ML3  ML1  ML2\n",
       "SS loadings           1.48 1.02 0.94\n",
       "Proportion Var        0.37 0.26 0.24\n",
       "Cumulative Var        0.37 0.63 0.86\n",
       "Proportion Explained  0.43 0.30 0.27\n",
       "Cumulative Proportion 0.43 0.73 1.00\n",
       "\n",
       " With factor correlations of \n",
       "     ML3  ML1  ML2\n",
       "ML3 1.00 0.73 0.37\n",
       "ML1 0.73 1.00 0.79\n",
       "ML2 0.37 0.79 1.00\n",
       "\n",
       "Mean item complexity =  1\n",
       "Test of the hypothesis that 3 factors are sufficient.\n",
       "\n",
       "The degrees of freedom for the null model are  6  and the objective function was  2.47 with Chi Square of  68.75\n",
       "The degrees of freedom for the model are -3  and the objective function was  0 \n",
       "\n",
       "The root mean square of the residuals (RMSR) is  0 \n",
       "The df corrected root mean square of the residuals is  NA \n",
       "\n",
       "The harmonic number of observations is  31 with the empirical chi square  0  with prob <  NA \n",
       "The total number of observations was  31  with Likelihood Chi Square =  0  with prob <  NA \n",
       "\n",
       "Tucker Lewis Index of factoring reliability =  1.104\n",
       "Fit based upon off diagonal values = 1\n",
       "Measures of factor score adequacy             \n",
       "                                                   ML3  ML1  ML2\n",
       "Correlation of (regression) scores with factors   0.95 1.00 0.97\n",
       "Multiple R square of scores with factors          0.90 1.00 0.93\n",
       "Minimum correlation of possible factor scores     0.80 0.99 0.87"
      ]
     },
     "metadata": {},
     "output_type": "display_data"
    }
   ],
   "source": [
    "library(GPArotation)\n",
    "men_model_3_ob <- fa(men_dat, nfactors = 3, fm = \"ml\")\n",
    "men_model_3_ob"
   ]
  },
  {
   "cell_type": "code",
   "execution_count": 19,
   "metadata": {
    "vscode": {
     "languageId": "r"
    }
   },
   "outputs": [
    {
     "data": {
      "text/plain": [
       "Factor Analysis using method =  ml\n",
       "Call: fa(r = men_dat, nfactors = 3, rotate = \"varimax\", fm = \"ml\")\n",
       "Standardized loadings (pattern matrix) based upon correlation matrix\n",
       "     ML3  ML1  ML2   h2    u2 com\n",
       "m0  0.90 0.13 0.14 0.84 0.159 1.1\n",
       "m25 0.77 0.25 0.17 0.69 0.311 1.3\n",
       "m50 0.53 0.63 0.56 0.99 0.005 2.9\n",
       "m75 0.17 0.94 0.12 0.92 0.077 1.1\n",
       "\n",
       "                       ML3  ML1  ML2\n",
       "SS loadings           1.71 1.36 0.38\n",
       "Proportion Var        0.43 0.34 0.09\n",
       "Cumulative Var        0.43 0.77 0.86\n",
       "Proportion Explained  0.50 0.39 0.11\n",
       "Cumulative Proportion 0.50 0.89 1.00\n",
       "\n",
       "Mean item complexity =  1.6\n",
       "Test of the hypothesis that 3 factors are sufficient.\n",
       "\n",
       "The degrees of freedom for the null model are  6  and the objective function was  2.47 with Chi Square of  68.75\n",
       "The degrees of freedom for the model are -3  and the objective function was  0 \n",
       "\n",
       "The root mean square of the residuals (RMSR) is  0 \n",
       "The df corrected root mean square of the residuals is  NA \n",
       "\n",
       "The harmonic number of observations is  31 with the empirical chi square  0  with prob <  NA \n",
       "The total number of observations was  31  with Likelihood Chi Square =  0  with prob <  NA \n",
       "\n",
       "Tucker Lewis Index of factoring reliability =  1.104\n",
       "Fit based upon off diagonal values = 1\n",
       "Measures of factor score adequacy             \n",
       "                                                   ML3  ML1  ML2\n",
       "Correlation of (regression) scores with factors   0.92 0.95 0.88\n",
       "Multiple R square of scores with factors          0.85 0.90 0.77\n",
       "Minimum correlation of possible factor scores     0.70 0.80 0.54"
      ]
     },
     "metadata": {},
     "output_type": "display_data"
    }
   ],
   "source": [
    "men_model_3_var <- fa(men_dat, nfactors = 3, fm = \"ml\", \n",
    "rotate = \"varimax\")\n",
    "men_model_3_var"
   ]
  },
  {
   "cell_type": "code",
   "execution_count": 20,
   "metadata": {
    "vscode": {
     "languageId": "r"
    }
   },
   "outputs": [
    {
     "data": {
      "text/plain": [
       "Factor Analysis using method =  minres\n",
       "Call: fa(r = men_dat, nfactors = 2)\n",
       "Standardized loadings (pattern matrix) based upon correlation matrix\n",
       "      MR1   MR2   h2    u2 com\n",
       "m0   0.95 -0.05 0.86 0.144 1.0\n",
       "m25  0.74  0.15 0.68 0.317 1.1\n",
       "m50  0.35  0.72 0.91 0.094 1.4\n",
       "m75 -0.11  0.92 0.76 0.239 1.0\n",
       "\n",
       "                       MR1  MR2\n",
       "SS loadings           1.70 1.51\n",
       "Proportion Var        0.42 0.38\n",
       "Cumulative Var        0.42 0.80\n",
       "Proportion Explained  0.53 0.47\n",
       "Cumulative Proportion 0.53 1.00\n",
       "\n",
       " With factor correlations of \n",
       "    MR1 MR2\n",
       "MR1 1.0 0.5\n",
       "MR2 0.5 1.0\n",
       "\n",
       "Mean item complexity =  1.1\n",
       "Test of the hypothesis that 2 factors are sufficient.\n",
       "\n",
       "The degrees of freedom for the null model are  6  and the objective function was  2.47 with Chi Square of  68.75\n",
       "The degrees of freedom for the model are -1  and the objective function was  0 \n",
       "\n",
       "The root mean square of the residuals (RMSR) is  0 \n",
       "The df corrected root mean square of the residuals is  NA \n",
       "\n",
       "The harmonic number of observations is  31 with the empirical chi square  0  with prob <  NA \n",
       "The total number of observations was  31  with Likelihood Chi Square =  0  with prob <  NA \n",
       "\n",
       "Tucker Lewis Index of factoring reliability =  1.101\n",
       "Fit based upon off diagonal values = 1\n",
       "Measures of factor score adequacy             \n",
       "                                                   MR1  MR2\n",
       "Correlation of (regression) scores with factors   0.95 0.95\n",
       "Multiple R square of scores with factors          0.90 0.90\n",
       "Minimum correlation of possible factor scores     0.81 0.81"
      ]
     },
     "metadata": {},
     "output_type": "display_data"
    }
   ],
   "source": [
    "men_model_2_ob <- fa(men_dat, nfactors = 2)\n",
    "men_model_2_ob"
   ]
  },
  {
   "cell_type": "code",
   "execution_count": 21,
   "metadata": {
    "vscode": {
     "languageId": "r"
    }
   },
   "outputs": [
    {
     "data": {
      "text/plain": [
       "Factor Analysis using method =  ml\n",
       "Call: fa(r = men_dat, nfactors = 2, rotate = \"varimax\", fm = \"ml\")\n",
       "Standardized loadings (pattern matrix) based upon correlation matrix\n",
       "     ML2  ML1   h2   u2 com\n",
       "m0  0.89 0.17 0.83 0.17 1.1\n",
       "m25 0.78 0.30 0.70 0.30 1.3\n",
       "m50 0.57 0.73 0.87 0.13 1.9\n",
       "m75 0.15 0.90 0.84 0.16 1.1\n",
       "\n",
       "                       ML2  ML1\n",
       "SS loadings           1.76 1.48\n",
       "Proportion Var        0.44 0.37\n",
       "Cumulative Var        0.44 0.81\n",
       "Proportion Explained  0.54 0.46\n",
       "Cumulative Proportion 0.54 1.00\n",
       "\n",
       "Mean item complexity =  1.3\n",
       "Test of the hypothesis that 2 factors are sufficient.\n",
       "\n",
       "The degrees of freedom for the null model are  6  and the objective function was  2.47 with Chi Square of  68.75\n",
       "The degrees of freedom for the model are -1  and the objective function was  0 \n",
       "\n",
       "The root mean square of the residuals (RMSR) is  0 \n",
       "The df corrected root mean square of the residuals is  NA \n",
       "\n",
       "The harmonic number of observations is  31 with the empirical chi square  0  with prob <  NA \n",
       "The total number of observations was  31  with Likelihood Chi Square =  0  with prob <  NA \n",
       "\n",
       "Tucker Lewis Index of factoring reliability =  1.101\n",
       "Fit based upon off diagonal values = 1\n",
       "Measures of factor score adequacy             \n",
       "                                                   ML2  ML1\n",
       "Correlation of (regression) scores with factors   0.93 0.93\n",
       "Multiple R square of scores with factors          0.86 0.87\n",
       "Minimum correlation of possible factor scores     0.72 0.73"
      ]
     },
     "metadata": {},
     "output_type": "display_data"
    }
   ],
   "source": [
    "men_model_2_var <- fa(men_dat, nfactors = 2, fm = \"ml\",\n",
    "rotate = \"varimax\")\n",
    "men_model_2_var"
   ]
  },
  {
   "cell_type": "code",
   "execution_count": 22,
   "metadata": {
    "vscode": {
     "languageId": "r"
    }
   },
   "outputs": [
    {
     "data": {
      "text/plain": [
       "Factor Analysis using method =  ml\n",
       "Call: fa(r = men_dat, nfactors = 1, fm = \"ml\")\n",
       "Standardized loadings (pattern matrix) based upon correlation matrix\n",
       "     ML1   h2    u2 com\n",
       "m0  0.64 0.41 0.594   1\n",
       "m25 0.67 0.45 0.552   1\n",
       "m50 1.00 1.00 0.005   1\n",
       "m75 0.75 0.57 0.434   1\n",
       "\n",
       "                ML1\n",
       "SS loadings    2.42\n",
       "Proportion Var 0.60\n",
       "\n",
       "Mean item complexity =  1\n",
       "Test of the hypothesis that 1 factor is sufficient.\n",
       "\n",
       "The degrees of freedom for the null model are  6  and the objective function was  2.47 with Chi Square of  68.75\n",
       "The degrees of freedom for the model are 2  and the objective function was  0.53 \n",
       "\n",
       "The root mean square of the residuals (RMSR) is  0.16 \n",
       "The df corrected root mean square of the residuals is  0.28 \n",
       "\n",
       "The harmonic number of observations is  31 with the empirical chi square  9.42  with prob <  0.009 \n",
       "The total number of observations was  31  with Likelihood Chi Square =  14.45  with prob <  0.00073 \n",
       "\n",
       "Tucker Lewis Index of factoring reliability =  0.389\n",
       "RMSEA index =  0.447  and the 90 % confidence intervals are  0.255 0.689\n",
       "BIC =  7.58\n",
       "Fit based upon off diagonal values = 0.93\n",
       "Measures of factor score adequacy             \n",
       "                                                   ML1\n",
       "Correlation of (regression) scores with factors   1.00\n",
       "Multiple R square of scores with factors          1.00\n",
       "Minimum correlation of possible factor scores     0.99"
      ]
     },
     "metadata": {},
     "output_type": "display_data"
    }
   ],
   "source": [
    "men_model_1 <- fa(men_dat, nfactors = 1, fm = \"ml\")\n",
    "men_model_1"
   ]
  },
  {
   "cell_type": "code",
   "execution_count": 23,
   "metadata": {
    "vscode": {
     "languageId": "r"
    }
   },
   "outputs": [
    {
     "data": {
      "text/plain": [
       "Factor Analysis using method =  ml\n",
       "Call: fa(r = women_dat, nfactors = 3, fm = \"ml\")\n",
       "Standardized loadings (pattern matrix) based upon correlation matrix\n",
       "     ML2   ML3   ML1   h2     u2 com\n",
       "w0  0.00  0.00  0.99 0.99 0.0057 1.0\n",
       "w25 0.01  1.00 -0.01 0.99 0.0054 1.0\n",
       "w50 0.72  0.17  0.21 0.99 0.0111 1.3\n",
       "w75 0.95 -0.04 -0.07 0.80 0.1980 1.0\n",
       "\n",
       "                       ML2  ML3  ML1\n",
       "SS loadings           1.54 1.13 1.11\n",
       "Proportion Var        0.38 0.28 0.28\n",
       "Cumulative Var        0.38 0.67 0.94\n",
       "Proportion Explained  0.41 0.30 0.29\n",
       "Cumulative Proportion 0.41 0.71 1.00\n",
       "\n",
       " With factor correlations of \n",
       "     ML2  ML3  ML1\n",
       "ML2 1.00 0.82 0.49\n",
       "ML3 0.82 1.00 0.89\n",
       "ML1 0.49 0.89 1.00\n",
       "\n",
       "Mean item complexity =  1.1\n",
       "Test of the hypothesis that 3 factors are sufficient.\n",
       "\n",
       "The degrees of freedom for the null model are  6  and the objective function was  6.21 with Chi Square of  172.97\n",
       "The degrees of freedom for the model are -3  and the objective function was  0 \n",
       "\n",
       "The root mean square of the residuals (RMSR) is  0 \n",
       "The df corrected root mean square of the residuals is  NA \n",
       "\n",
       "The harmonic number of observations is  31 with the empirical chi square  0  with prob <  NA \n",
       "The total number of observations was  31  with Likelihood Chi Square =  0  with prob <  NA \n",
       "\n",
       "Tucker Lewis Index of factoring reliability =  1.039\n",
       "Fit based upon off diagonal values = 1\n",
       "Measures of factor score adequacy             \n",
       "                                                   ML2  ML3  ML1\n",
       "Correlation of (regression) scores with factors   0.99 1.00 1.00\n",
       "Multiple R square of scores with factors          0.98 1.00 0.99\n",
       "Minimum correlation of possible factor scores     0.97 0.99 0.99"
      ]
     },
     "metadata": {},
     "output_type": "display_data"
    }
   ],
   "source": [
    "women_model_3_ob <- fa(women_dat, nfactors = 3, fm = \"ml\")\n",
    "women_model_3_ob"
   ]
  },
  {
   "cell_type": "code",
   "execution_count": 24,
   "metadata": {
    "vscode": {
     "languageId": "r"
    }
   },
   "outputs": [
    {
     "data": {
      "text/plain": [
       "Factor Analysis using method =  ml\n",
       "Call: fa(r = women_dat, nfactors = 3, rotate = \"varimax\", fm = \"ml\")\n",
       "Standardized loadings (pattern matrix) based upon correlation matrix\n",
       "     ML2  ML1   ML3   h2     u2 com\n",
       "w0  0.22 0.97 -0.01 0.99 0.0057 1.1\n",
       "w25 0.62 0.77  0.10 0.99 0.0054 1.9\n",
       "w50 0.83 0.54  0.02 0.99 0.0111 1.7\n",
       "w75 0.88 0.18  0.01 0.80 0.1980 1.1\n",
       "\n",
       "                       ML2  ML1  ML3\n",
       "SS loadings           1.90 1.87 0.01\n",
       "Proportion Var        0.47 0.47 0.00\n",
       "Cumulative Var        0.47 0.94 0.94\n",
       "Proportion Explained  0.50 0.50 0.00\n",
       "Cumulative Proportion 0.50 1.00 1.00\n",
       "\n",
       "Mean item complexity =  1.5\n",
       "Test of the hypothesis that 3 factors are sufficient.\n",
       "\n",
       "The degrees of freedom for the null model are  6  and the objective function was  6.21 with Chi Square of  172.97\n",
       "The degrees of freedom for the model are -3  and the objective function was  0 \n",
       "\n",
       "The root mean square of the residuals (RMSR) is  0 \n",
       "The df corrected root mean square of the residuals is  NA \n",
       "\n",
       "The harmonic number of observations is  31 with the empirical chi square  0  with prob <  NA \n",
       "The total number of observations was  31  with Likelihood Chi Square =  0  with prob <  NA \n",
       "\n",
       "Tucker Lewis Index of factoring reliability =  1.039\n",
       "Fit based upon off diagonal values = 1\n",
       "Measures of factor score adequacy             \n",
       "                                                   ML2  ML1   ML3\n",
       "Correlation of (regression) scores with factors   0.99 1.00  0.66\n",
       "Multiple R square of scores with factors          0.98 0.99  0.44\n",
       "Minimum correlation of possible factor scores     0.95 0.98 -0.12"
      ]
     },
     "metadata": {},
     "output_type": "display_data"
    }
   ],
   "source": [
    "women_model_3_var <- fa(women_dat, nfactors = 3, fm = \"ml\", rotate = \"varimax\")\n",
    "women_model_3_var"
   ]
  },
  {
   "cell_type": "code",
   "execution_count": 25,
   "metadata": {
    "vscode": {
     "languageId": "r"
    }
   },
   "outputs": [
    {
     "data": {
      "text/plain": [
       "Factor Analysis using method =  ml\n",
       "Call: fa(r = women_dat, nfactors = 2, fm = \"ml\")\n",
       "Standardized loadings (pattern matrix) based upon correlation matrix\n",
       "      ML2   ML1   h2    u2 com\n",
       "w0  -0.05  1.02 0.98 0.015 1.0\n",
       "w25  0.48  0.64 0.99 0.012 1.9\n",
       "w50  0.80  0.30 0.99 0.011 1.3\n",
       "w75  0.97 -0.14 0.80 0.196 1.0\n",
       "\n",
       "                       ML2  ML1\n",
       "SS loadings           2.01 1.76\n",
       "Proportion Var        0.50 0.44\n",
       "Cumulative Var        0.50 0.94\n",
       "Proportion Explained  0.53 0.47\n",
       "Cumulative Proportion 0.53 1.00\n",
       "\n",
       " With factor correlations of \n",
       "     ML2  ML1\n",
       "ML2 1.00 0.56\n",
       "ML1 0.56 1.00\n",
       "\n",
       "Mean item complexity =  1.3\n",
       "Test of the hypothesis that 2 factors are sufficient.\n",
       "\n",
       "The degrees of freedom for the null model are  6  and the objective function was  6.21 with Chi Square of  172.97\n",
       "The degrees of freedom for the model are -1  and the objective function was  0 \n",
       "\n",
       "The root mean square of the residuals (RMSR) is  0 \n",
       "The df corrected root mean square of the residuals is  NA \n",
       "\n",
       "The harmonic number of observations is  31 with the empirical chi square  0  with prob <  NA \n",
       "The total number of observations was  31  with Likelihood Chi Square =  0  with prob <  NA \n",
       "\n",
       "Tucker Lewis Index of factoring reliability =  1.038\n",
       "Fit based upon off diagonal values = 1\n",
       "Measures of factor score adequacy             \n",
       "                                                   ML2  ML1\n",
       "Correlation of (regression) scores with factors   0.99 0.99\n",
       "Multiple R square of scores with factors          0.99 0.99\n",
       "Minimum correlation of possible factor scores     0.97 0.98"
      ]
     },
     "metadata": {},
     "output_type": "display_data"
    }
   ],
   "source": [
    "women_model_2_ob <- fa(women_dat, nfactors = 2, fm = \"ml\")\n",
    "women_model_2_ob"
   ]
  },
  {
   "cell_type": "code",
   "execution_count": 26,
   "metadata": {
    "vscode": {
     "languageId": "r"
    }
   },
   "outputs": [
    {
     "data": {
      "text/plain": [
       "Factor Analysis using method =  ml\n",
       "Call: fa(r = women_dat, nfactors = 2, rotate = \"varimax\", fm = \"ml\")\n",
       "Standardized loadings (pattern matrix) based upon correlation matrix\n",
       "     ML2  ML1   h2    u2 com\n",
       "w0  0.22 0.97 0.98 0.015 1.1\n",
       "w25 0.62 0.78 0.99 0.012 1.9\n",
       "w50 0.83 0.55 0.99 0.011 1.7\n",
       "w75 0.88 0.18 0.80 0.196 1.1\n",
       "\n",
       "                       ML2  ML1\n",
       "SS loadings           1.89 1.88\n",
       "Proportion Var        0.47 0.47\n",
       "Cumulative Var        0.47 0.94\n",
       "Proportion Explained  0.50 0.50\n",
       "Cumulative Proportion 0.50 1.00\n",
       "\n",
       "Mean item complexity =  1.5\n",
       "Test of the hypothesis that 2 factors are sufficient.\n",
       "\n",
       "The degrees of freedom for the null model are  6  and the objective function was  6.21 with Chi Square of  172.97\n",
       "The degrees of freedom for the model are -1  and the objective function was  0 \n",
       "\n",
       "The root mean square of the residuals (RMSR) is  0 \n",
       "The df corrected root mean square of the residuals is  NA \n",
       "\n",
       "The harmonic number of observations is  31 with the empirical chi square  0  with prob <  NA \n",
       "The total number of observations was  31  with Likelihood Chi Square =  0  with prob <  NA \n",
       "\n",
       "Tucker Lewis Index of factoring reliability =  1.038\n",
       "Fit based upon off diagonal values = 1\n",
       "Measures of factor score adequacy             \n",
       "                                                   ML2  ML1\n",
       "Correlation of (regression) scores with factors   0.99 0.99\n",
       "Multiple R square of scores with factors          0.97 0.98\n",
       "Minimum correlation of possible factor scores     0.95 0.96"
      ]
     },
     "metadata": {},
     "output_type": "display_data"
    }
   ],
   "source": [
    "women_model_2_var <- fa(women_dat, nfactors = 2, fm = \"ml\", rotate = \"varimax\")\n",
    "women_model_2_var"
   ]
  },
  {
   "cell_type": "code",
   "execution_count": 27,
   "metadata": {
    "vscode": {
     "languageId": "r"
    }
   },
   "outputs": [
    {
     "data": {
      "text/plain": [
       "Factor Analysis using method =  ml\n",
       "Call: fa(r = women_dat, nfactors = 1, fm = \"ml\")\n",
       "Standardized loadings (pattern matrix) based upon correlation matrix\n",
       "     ML1   h2     u2 com\n",
       "w0  0.88 0.78 0.2204   1\n",
       "w25 1.00 1.00 0.0048   1\n",
       "w50 0.94 0.89 0.1146   1\n",
       "w75 0.69 0.47 0.5260   1\n",
       "\n",
       "                ML1\n",
       "SS loadings    3.13\n",
       "Proportion Var 0.78\n",
       "\n",
       "Mean item complexity =  1\n",
       "Test of the hypothesis that 1 factor is sufficient.\n",
       "\n",
       "The degrees of freedom for the null model are  6  and the objective function was  6.21 with Chi Square of  172.97\n",
       "The degrees of freedom for the model are 2  and the objective function was  1.92 \n",
       "\n",
       "The root mean square of the residuals (RMSR) is  0.13 \n",
       "The df corrected root mean square of the residuals is  0.23 \n",
       "\n",
       "The harmonic number of observations is  31 with the empirical chi square  6.57  with prob <  0.037 \n",
       "The total number of observations was  31  with Likelihood Chi Square =  52.12  with prob <  4.8e-12 \n",
       "\n",
       "Tucker Lewis Index of factoring reliability =  0.077\n",
       "RMSEA index =  0.899  and the 90 % confidence intervals are  0.709 1.136\n",
       "BIC =  45.25\n",
       "Fit based upon off diagonal values = 0.97\n",
       "Measures of factor score adequacy             \n",
       "                                                   ML1\n",
       "Correlation of (regression) scores with factors   1.00\n",
       "Multiple R square of scores with factors          1.00\n",
       "Minimum correlation of possible factor scores     0.99"
      ]
     },
     "metadata": {},
     "output_type": "display_data"
    }
   ],
   "source": [
    "women_model_1 <- fa(women_dat, nfactors = 1, fm = \"ml\")\n",
    "women_model_1"
   ]
  },
  {
   "cell_type": "code",
   "execution_count": 28,
   "metadata": {
    "vscode": {
     "languageId": "r"
    }
   },
   "outputs": [
    {
     "data": {
      "image/png": "[encoded data removed]",
      "text/plain": [
       "Plot with title \"Factor Analysis\""
      ]
     },
     "metadata": {
      "image/png": {
       "height": 420,
       "width": 420
      }
     },
     "output_type": "display_data"
    },
    {
     "data": {
      "image/png": "[encoded data removed]",
      "text/plain": [
       "Plot with title \"Factor Analysis\""
      ]
     },
     "metadata": {
      "image/png": {
       "height": 420,
       "width": 420
      }
     },
     "output_type": "display_data"
    },
    {
     "data": {
      "image/png": "[encoded data removed]",
      "text/plain": [
       "Plot with title \"Factor Analysis\""
      ]
     },
     "metadata": {
      "image/png": {
       "height": 420,
       "width": 420
      }
     },
     "output_type": "display_data"
    },
    {
     "data": {
      "image/png": "[encoded data removed]",
      "text/plain": [
       "Plot with title \"Factor Analysis\""
      ]
     },
     "metadata": {
      "image/png": {
       "height": 420,
       "width": 420
      }
     },
     "output_type": "display_data"
    }
   ],
   "source": [
    "fa.diagram(women_model_3_ob)\n",
    "fa.diagram(men_model_3_ob)\n",
    "fa.diagram(women_model_3_var)\n",
    "fa.diagram(men_model_3_var)"
   ]
  },
  {
   "cell_type": "code",
   "execution_count": 29,
   "metadata": {
    "vscode": {
     "languageId": "r"
    }
   },
   "outputs": [
    {
     "data": {
      "image/png": "[encoded data removed]",
      "text/plain": [
       "Plot with title \"Factor Analysis\""
      ]
     },
     "metadata": {
      "image/png": {
       "height": 420,
       "width": 420
      }
     },
     "output_type": "display_data"
    },
    {
     "data": {
      "image/png": "[encoded data removed]",
      "text/plain": [
       "Plot with title \"Factor Analysis\""
      ]
     },
     "metadata": {
      "image/png": {
       "height": 420,
       "width": 420
      }
     },
     "output_type": "display_data"
    },
    {
     "data": {
      "image/png": "[encoded data removed]",
      "text/plain": [
       "Plot with title \"Factor Analysis\""
      ]
     },
     "metadata": {
      "image/png": {
       "height": 420,
       "width": 420
      }
     },
     "output_type": "display_data"
    },
    {
     "data": {
      "image/png": "[encoded data removed]",
      "text/plain": [
       "Plot with title \"Factor Analysis\""
      ]
     },
     "metadata": {
      "image/png": {
       "height": 420,
       "width": 420
      }
     },
     "output_type": "display_data"
    }
   ],
   "source": [
    "fa.diagram(women_model_2_ob)\n",
    "fa.diagram(men_model_2_ob)\n",
    "fa.diagram(women_model_2_var)\n",
    "fa.diagram(men_model_2_var)"
   ]
  },
  {
   "cell_type": "code",
   "execution_count": 30,
   "metadata": {
    "vscode": {
     "languageId": "r"
    }
   },
   "outputs": [
    {
     "data": {
      "image/png": "[encoded data removed]",
      "text/plain": [
       "Plot with title \"Factor Analysis\""
      ]
     },
     "metadata": {
      "image/png": {
       "height": 420,
       "width": 420
      }
     },
     "output_type": "display_data"
    },
    {
     "data": {
      "image/png": "[encoded data removed]",
      "text/plain": [
       "Plot with title \"Factor Analysis\""
      ]
     },
     "metadata": {
      "image/png": {
       "height": 420,
       "width": 420
      }
     },
     "output_type": "display_data"
    }
   ],
   "source": [
    "fa.diagram(women_model_1)\n",
    "fa.diagram(men_model_1)"
   ]
  },
  {
   "cell_type": "markdown",
   "metadata": {},
   "source": [
    "<hr><hr>\n",
    "<br><br>"
   ]
  },
  {
   "cell_type": "markdown",
   "metadata": {},
   "source": [
    "Ex. 5.5 The corrleation matrix given below arises from the scores of 220 boys \n",
    "in six school subjects: (1) French, (2) English, (3) History, (4) Arighmetic, \n",
    "(5) Algebra, and (6) Geometry. Find the two-factor soloution from a maximum likelihood factor analysis. By plotting the derived loadings, find an orthogonal rotation that allows easier interpretaion of the results. "
   ]
  },
  {
   "cell_type": "code",
   "execution_count": 119,
   "metadata": {
    "vscode": {
     "languageId": "r"
    }
   },
   "outputs": [],
   "source": [
    "dat5_ <- textConnection(\"\n",
    "1.00\n",
    "0.44 1.00\n",
    "0.41 0.35 1.00\n",
    "0.29 0.35 0.16 1.00\n",
    "0.33 0.32 0.19 0.59 1.00\n",
    "0.25 0.33 0.18 0.47 0.46 1.00\n",
    "\")"
   ]
  },
  {
   "cell_type": "code",
   "execution_count": 120,
   "metadata": {
    "vscode": {
     "languageId": "r"
    }
   },
   "outputs": [],
   "source": [
    "dd <- readLines(dat5_)"
   ]
  },
  {
   "cell_type": "code",
   "execution_count": 121,
   "metadata": {
    "vscode": {
     "languageId": "r"
    }
   },
   "outputs": [],
   "source": [
    "corr_mat <- matrix(NA, 6, 6)"
   ]
  },
  {
   "cell_type": "code",
   "execution_count": 122,
   "metadata": {
    "vscode": {
     "languageId": "r"
    }
   },
   "outputs": [],
   "source": [
    "j <- 1\n",
    "for(i in 2:7){\n",
    "    dd[i] %>% strsplit(\" \") %>% unlist %>% as.numeric-> dd2\n",
    "    corr_mat[j, 1:(i-1)] <- corr_mat[1:(i-1), j] <- dd2\n",
    "    j <- j + 1\n",
    "}\n"
   ]
  },
  {
   "cell_type": "code",
   "execution_count": 129,
   "metadata": {
    "vscode": {
     "languageId": "r"
    }
   },
   "outputs": [],
   "source": [
    "input2 <- textConnection(\"\n",
    "French\n",
    "English\n",
    "History\n",
    "Arithmetic\n",
    "Algebra\n",
    "Geometry\n",
    "\")\n",
    "dat_2 <- readLines(input2)[2:7]"
   ]
  },
  {
   "cell_type": "code",
   "execution_count": 135,
   "metadata": {
    "vscode": {
     "languageId": "r"
    }
   },
   "outputs": [
    {
     "data": {
      "text/html": [
       "<table class=\"dataframe\">\n",
       "<caption>A matrix: 6 × 6 of type dbl</caption>\n",
       "<thead>\n",
       "\t<tr><th></th><th scope=col>French</th><th scope=col>English</th><th scope=col>History</th><th scope=col>Arithmetic</th><th scope=col>Algebra</th><th scope=col>Geometry</th></tr>\n",
       "</thead>\n",
       "<tbody>\n",
       "\t<tr><th scope=row>French</th><td>1.00</td><td>0.44</td><td>0.41</td><td>0.29</td><td>0.33</td><td>0.25</td></tr>\n",
       "\t<tr><th scope=row>English</th><td>0.44</td><td>1.00</td><td>0.35</td><td>0.35</td><td>0.32</td><td>0.33</td></tr>\n",
       "\t<tr><th scope=row>History</th><td>0.41</td><td>0.35</td><td>1.00</td><td>0.16</td><td>0.19</td><td>0.18</td></tr>\n",
       "\t<tr><th scope=row>Arithmetic</th><td>0.29</td><td>0.35</td><td>0.16</td><td>1.00</td><td>0.59</td><td>0.47</td></tr>\n",
       "\t<tr><th scope=row>Algebra</th><td>0.33</td><td>0.32</td><td>0.19</td><td>0.59</td><td>1.00</td><td>0.46</td></tr>\n",
       "\t<tr><th scope=row>Geometry</th><td>0.25</td><td>0.33</td><td>0.18</td><td>0.47</td><td>0.46</td><td>1.00</td></tr>\n",
       "</tbody>\n",
       "</table>\n"
      ],
      "text/latex": [
       "A matrix: 6 × 6 of type dbl\n",
       "\\begin{tabular}{r|llllll}\n",
       "  & French & English & History & Arithmetic & Algebra & Geometry\\\\\n",
       "\\hline\n",
       "\tFrench & 1.00 & 0.44 & 0.41 & 0.29 & 0.33 & 0.25\\\\\n",
       "\tEnglish & 0.44 & 1.00 & 0.35 & 0.35 & 0.32 & 0.33\\\\\n",
       "\tHistory & 0.41 & 0.35 & 1.00 & 0.16 & 0.19 & 0.18\\\\\n",
       "\tArithmetic & 0.29 & 0.35 & 0.16 & 1.00 & 0.59 & 0.47\\\\\n",
       "\tAlgebra & 0.33 & 0.32 & 0.19 & 0.59 & 1.00 & 0.46\\\\\n",
       "\tGeometry & 0.25 & 0.33 & 0.18 & 0.47 & 0.46 & 1.00\\\\\n",
       "\\end{tabular}\n"
      ],
      "text/markdown": [
       "\n",
       "A matrix: 6 × 6 of type dbl\n",
       "\n",
       "| <!--/--> | French | English | History | Arithmetic | Algebra | Geometry |\n",
       "|---|---|---|---|---|---|---|\n",
       "| French | 1.00 | 0.44 | 0.41 | 0.29 | 0.33 | 0.25 |\n",
       "| English | 0.44 | 1.00 | 0.35 | 0.35 | 0.32 | 0.33 |\n",
       "| History | 0.41 | 0.35 | 1.00 | 0.16 | 0.19 | 0.18 |\n",
       "| Arithmetic | 0.29 | 0.35 | 0.16 | 1.00 | 0.59 | 0.47 |\n",
       "| Algebra | 0.33 | 0.32 | 0.19 | 0.59 | 1.00 | 0.46 |\n",
       "| Geometry | 0.25 | 0.33 | 0.18 | 0.47 | 0.46 | 1.00 |\n",
       "\n"
      ],
      "text/plain": [
       "           French English History Arithmetic Algebra Geometry\n",
       "French     1.00   0.44    0.41    0.29       0.33    0.25    \n",
       "English    0.44   1.00    0.35    0.35       0.32    0.33    \n",
       "History    0.41   0.35    1.00    0.16       0.19    0.18    \n",
       "Arithmetic 0.29   0.35    0.16    1.00       0.59    0.47    \n",
       "Algebra    0.33   0.32    0.19    0.59       1.00    0.46    \n",
       "Geometry   0.25   0.33    0.18    0.47       0.46    1.00    "
      ]
     },
     "metadata": {},
     "output_type": "display_data"
    }
   ],
   "source": [
    "dimnames(corr_mat) <- list(dat_2, dat_2)\n",
    "corr_mat"
   ]
  },
  {
   "cell_type": "code",
   "execution_count": 146,
   "metadata": {
    "vscode": {
     "languageId": "r"
    }
   },
   "outputs": [
    {
     "data": {
      "text/plain": [
       "Factor Analysis using method =  minres\n",
       "Call: fa(r = corr_mat, nfactors = 2, n.obs = 220, rotate = \"varimax\")\n",
       "Standardized loadings (pattern matrix) based upon correlation matrix\n",
       "            MR1  MR2   h2   u2 com\n",
       "French     0.23 0.66 0.49 0.51 1.2\n",
       "English    0.32 0.55 0.41 0.59 1.6\n",
       "History    0.08 0.59 0.36 0.64 1.0\n",
       "Arithmetic 0.77 0.17 0.62 0.38 1.1\n",
       "Algebra    0.71 0.22 0.56 0.44 1.2\n",
       "Geometry   0.57 0.22 0.37 0.63 1.3\n",
       "\n",
       "                       MR1  MR2\n",
       "SS loadings           1.59 1.21\n",
       "Proportion Var        0.27 0.20\n",
       "Cumulative Var        0.27 0.47\n",
       "Proportion Explained  0.57 0.43\n",
       "Cumulative Proportion 0.57 1.00\n",
       "\n",
       "Mean item complexity =  1.2\n",
       "Test of the hypothesis that 2 factors are sufficient.\n",
       "\n",
       "The degrees of freedom for the null model are  15  and the objective function was  1.43 with Chi Square of  308.57\n",
       "The degrees of freedom for the model are 4  and the objective function was  0.01 \n",
       "\n",
       "The root mean square of the residuals (RMSR) is  0.01 \n",
       "The df corrected root mean square of the residuals is  0.03 \n",
       "\n",
       "The harmonic number of observations is  220 with the empirical chi square  1.27  with prob <  0.87 \n",
       "The total number of observations was  220  with Likelihood Chi Square =  2.19  with prob <  0.7 \n",
       "\n",
       "Tucker Lewis Index of factoring reliability =  1.023\n",
       "RMSEA index =  0  and the 90 % confidence intervals are  0 0.077\n",
       "BIC =  -19.38\n",
       "Fit based upon off diagonal values = 1\n",
       "Measures of factor score adequacy             \n",
       "                                                   MR1  MR2\n",
       "Correlation of (regression) scores with factors   0.86 0.79\n",
       "Multiple R square of scores with factors          0.73 0.62\n",
       "Minimum correlation of possible factor scores     0.47 0.24"
      ]
     },
     "metadata": {},
     "output_type": "display_data"
    }
   ],
   "source": [
    "model <- fa(r = corr_mat, nfactors = 2, n.obs = 220, rotate = \"varimax\")\n",
    "model"
   ]
  },
  {
   "cell_type": "code",
   "execution_count": 147,
   "metadata": {
    "vscode": {
     "languageId": "r"
    }
   },
   "outputs": [
    {
     "data": {
      "text/html": [
       "<table class=\"dataframe\">\n",
       "<caption>A matrix: 6 × 2 of type dbl</caption>\n",
       "<thead>\n",
       "\t<tr><th></th><th scope=col>MR1</th><th scope=col>MR2</th></tr>\n",
       "</thead>\n",
       "<tbody>\n",
       "\t<tr><th scope=row>French</th><td>0.23063672</td><td>0.6609151</td></tr>\n",
       "\t<tr><th scope=row>English</th><td>0.32116436</td><td>0.5519458</td></tr>\n",
       "\t<tr><th scope=row>History</th><td>0.08239394</td><td>0.5902654</td></tr>\n",
       "\t<tr><th scope=row>Arithmetic</th><td>0.76893465</td><td>0.1720072</td></tr>\n",
       "\t<tr><th scope=row>Algebra</th><td>0.71433734</td><td>0.2183644</td></tr>\n",
       "\t<tr><th scope=row>Geometry</th><td>0.57225661</td><td>0.2171600</td></tr>\n",
       "</tbody>\n",
       "</table>\n"
      ],
      "text/latex": [
       "A matrix: 6 × 2 of type dbl\n",
       "\\begin{tabular}{r|ll}\n",
       "  & MR1 & MR2\\\\\n",
       "\\hline\n",
       "\tFrench & 0.23063672 & 0.6609151\\\\\n",
       "\tEnglish & 0.32116436 & 0.5519458\\\\\n",
       "\tHistory & 0.08239394 & 0.5902654\\\\\n",
       "\tArithmetic & 0.76893465 & 0.1720072\\\\\n",
       "\tAlgebra & 0.71433734 & 0.2183644\\\\\n",
       "\tGeometry & 0.57225661 & 0.2171600\\\\\n",
       "\\end{tabular}\n"
      ],
      "text/markdown": [
       "\n",
       "A matrix: 6 × 2 of type dbl\n",
       "\n",
       "| <!--/--> | MR1 | MR2 |\n",
       "|---|---|---|\n",
       "| French | 0.23063672 | 0.6609151 |\n",
       "| English | 0.32116436 | 0.5519458 |\n",
       "| History | 0.08239394 | 0.5902654 |\n",
       "| Arithmetic | 0.76893465 | 0.1720072 |\n",
       "| Algebra | 0.71433734 | 0.2183644 |\n",
       "| Geometry | 0.57225661 | 0.2171600 |\n",
       "\n"
      ],
      "text/plain": [
       "           MR1        MR2      \n",
       "French     0.23063672 0.6609151\n",
       "English    0.32116436 0.5519458\n",
       "History    0.08239394 0.5902654\n",
       "Arithmetic 0.76893465 0.1720072\n",
       "Algebra    0.71433734 0.2183644\n",
       "Geometry   0.57225661 0.2171600"
      ]
     },
     "metadata": {},
     "output_type": "display_data"
    }
   ],
   "source": [
    "loadingss <- model$loadings[]\n",
    "loadingss"
   ]
  },
  {
   "cell_type": "code",
   "execution_count": 148,
   "metadata": {
    "vscode": {
     "languageId": "r"
    }
   },
   "outputs": [
    {
     "data": {
      "image/png": "[encoded data removed]",
      "text/plain": [
       "plot without title"
      ]
     },
     "metadata": {
      "image/png": {
       "height": 420,
       "width": 420
      }
     },
     "output_type": "display_data"
    }
   ],
   "source": [
    "loadingss %>% \n",
    "as.data.frame %>% \n",
    "rownames_to_column(var = \"lang\") %>%\n",
    "ggplot(aes(x = MR1, y = MR2)) +\n",
    "geom_label(aes(label = lang), fill = \"yellow\") +\n",
    "theme_bw()"
   ]
  },
  {
   "cell_type": "markdown",
   "metadata": {},
   "source": [
    "<hr><hr>\n",
    "<br><br>"
   ]
  },
  {
   "cell_type": "markdown",
   "metadata": {},
   "source": [
    "Ex. 5.6 The matrix below shows the correlations between ratings on nine\n",
    "statements about pain made by 123 people suffering from extreme pain.\n",
    "Each statement was scored on a scale from 1 to 6, ranging from agreement\n",
    "to disagreement. The nine pain statements were as follows:\n",
    "1. Whether or not I am in pain in the future depends on the skills of the\n",
    "doctors.\n",
    "2. Whenever I am in pain, it is usually because of something I have done\n",
    "or not done,\n",
    "3. Whether or not I am in pain depends on what the doctors do for me.\n",
    "4. I cannot get any help for my pain unless I go to seek medical advice.\n",
    "5. When I am in pain I know that it is because I have not been taking\n",
    "proper exercise or eating the right food.\n",
    "6. People’s pain results from their own carelessness.\n",
    "7. I am directly responsible for my pain,\n",
    "8. relief from pain is chiefly controlled by the doctors.\n",
    "9. People who are never in pain are just plain lucky."
   ]
  },
  {
   "cell_type": "code",
   "execution_count": 171,
   "metadata": {
    "vscode": {
     "languageId": "r"
    }
   },
   "outputs": [],
   "source": [
    "input3 <- textConnection(\"\n",
    "1.00\n",
    "-0.04 1.00\n",
    "0.61 -0.07 1.00\n",
    "0.45 -0.12 0.59 1.00\n",
    "0.03 0.49 0.03 -0.08 1.00\n",
    "-0.29 0.43 -0.13 -0.21 0.47 1.00\n",
    "-0.30 0.30 -0.24 -0.19 0.41 0.63 1.00\n",
    "0.45 -0.31 0.59 0.63 -0.14 -0.13 -0.26 1.00\n",
    "0.30 -0.17 0.32 0.37 -0.24 -0.15 -0.29 0.40 1.00\n",
    "\")\n",
    "dat_3 <- readLines(input3)"
   ]
  },
  {
   "cell_type": "code",
   "execution_count": 176,
   "metadata": {
    "vscode": {
     "languageId": "r"
    }
   },
   "outputs": [],
   "source": [
    "n <- 123\n",
    "corr_mat_2 <- matrix(NA, 9, 9)\n",
    "j <- 1\n",
    "for(i in 2:10){\n",
    "    dat_3[i] %>% strsplit(\" \") %>% unlist %>% as.numeric-> temp\n",
    "    corr_mat_2[j, 1:(i-1)] <- corr_mat_2[1:(i-1), j] <- temp\n",
    "    j <- j + 1\n",
    "}"
   ]
  },
  {
   "cell_type": "code",
   "execution_count": 180,
   "metadata": {
    "vscode": {
     "languageId": "r"
    }
   },
   "outputs": [
    {
     "data": {
      "text/html": [
       "<table class=\"dataframe\">\n",
       "<caption>A matrix: 9 × 9 of type dbl</caption>\n",
       "<thead>\n",
       "\t<tr><th></th><th scope=col>statement1</th><th scope=col>statement2</th><th scope=col>statement3</th><th scope=col>statement4</th><th scope=col>statement5</th><th scope=col>statement6</th><th scope=col>statement7</th><th scope=col>statement8</th><th scope=col>statement9</th></tr>\n",
       "</thead>\n",
       "<tbody>\n",
       "\t<tr><th scope=row>statement1</th><td> 1.00</td><td>-0.04</td><td> 0.61</td><td> 0.45</td><td> 0.03</td><td>-0.29</td><td>-0.30</td><td> 0.45</td><td> 0.30</td></tr>\n",
       "\t<tr><th scope=row>statement2</th><td>-0.04</td><td> 1.00</td><td>-0.07</td><td>-0.12</td><td> 0.49</td><td> 0.43</td><td> 0.30</td><td>-0.31</td><td>-0.17</td></tr>\n",
       "\t<tr><th scope=row>statement3</th><td> 0.61</td><td>-0.07</td><td> 1.00</td><td> 0.59</td><td> 0.03</td><td>-0.13</td><td>-0.24</td><td> 0.59</td><td> 0.32</td></tr>\n",
       "\t<tr><th scope=row>statement4</th><td> 0.45</td><td>-0.12</td><td> 0.59</td><td> 1.00</td><td>-0.08</td><td>-0.21</td><td>-0.19</td><td> 0.63</td><td> 0.37</td></tr>\n",
       "\t<tr><th scope=row>statement5</th><td> 0.03</td><td> 0.49</td><td> 0.03</td><td>-0.08</td><td> 1.00</td><td> 0.47</td><td> 0.41</td><td>-0.14</td><td>-0.24</td></tr>\n",
       "\t<tr><th scope=row>statement6</th><td>-0.29</td><td> 0.43</td><td>-0.13</td><td>-0.21</td><td> 0.47</td><td> 1.00</td><td> 0.63</td><td>-0.13</td><td>-0.15</td></tr>\n",
       "\t<tr><th scope=row>statement7</th><td>-0.30</td><td> 0.30</td><td>-0.24</td><td>-0.19</td><td> 0.41</td><td> 0.63</td><td> 1.00</td><td>-0.26</td><td>-0.29</td></tr>\n",
       "\t<tr><th scope=row>statement8</th><td> 0.45</td><td>-0.31</td><td> 0.59</td><td> 0.63</td><td>-0.14</td><td>-0.13</td><td>-0.26</td><td> 1.00</td><td> 0.40</td></tr>\n",
       "\t<tr><th scope=row>statement9</th><td> 0.30</td><td>-0.17</td><td> 0.32</td><td> 0.37</td><td>-0.24</td><td>-0.15</td><td>-0.29</td><td> 0.40</td><td> 1.00</td></tr>\n",
       "</tbody>\n",
       "</table>\n"
      ],
      "text/latex": [
       "A matrix: 9 × 9 of type dbl\n",
       "\\begin{tabular}{r|lllllllll}\n",
       "  & statement1 & statement2 & statement3 & statement4 & statement5 & statement6 & statement7 & statement8 & statement9\\\\\n",
       "\\hline\n",
       "\tstatement1 &  1.00 & -0.04 &  0.61 &  0.45 &  0.03 & -0.29 & -0.30 &  0.45 &  0.30\\\\\n",
       "\tstatement2 & -0.04 &  1.00 & -0.07 & -0.12 &  0.49 &  0.43 &  0.30 & -0.31 & -0.17\\\\\n",
       "\tstatement3 &  0.61 & -0.07 &  1.00 &  0.59 &  0.03 & -0.13 & -0.24 &  0.59 &  0.32\\\\\n",
       "\tstatement4 &  0.45 & -0.12 &  0.59 &  1.00 & -0.08 & -0.21 & -0.19 &  0.63 &  0.37\\\\\n",
       "\tstatement5 &  0.03 &  0.49 &  0.03 & -0.08 &  1.00 &  0.47 &  0.41 & -0.14 & -0.24\\\\\n",
       "\tstatement6 & -0.29 &  0.43 & -0.13 & -0.21 &  0.47 &  1.00 &  0.63 & -0.13 & -0.15\\\\\n",
       "\tstatement7 & -0.30 &  0.30 & -0.24 & -0.19 &  0.41 &  0.63 &  1.00 & -0.26 & -0.29\\\\\n",
       "\tstatement8 &  0.45 & -0.31 &  0.59 &  0.63 & -0.14 & -0.13 & -0.26 &  1.00 &  0.40\\\\\n",
       "\tstatement9 &  0.30 & -0.17 &  0.32 &  0.37 & -0.24 & -0.15 & -0.29 &  0.40 &  1.00\\\\\n",
       "\\end{tabular}\n"
      ],
      "text/markdown": [
       "\n",
       "A matrix: 9 × 9 of type dbl\n",
       "\n",
       "| <!--/--> | statement1 | statement2 | statement3 | statement4 | statement5 | statement6 | statement7 | statement8 | statement9 |\n",
       "|---|---|---|---|---|---|---|---|---|---|\n",
       "| statement1 |  1.00 | -0.04 |  0.61 |  0.45 |  0.03 | -0.29 | -0.30 |  0.45 |  0.30 |\n",
       "| statement2 | -0.04 |  1.00 | -0.07 | -0.12 |  0.49 |  0.43 |  0.30 | -0.31 | -0.17 |\n",
       "| statement3 |  0.61 | -0.07 |  1.00 |  0.59 |  0.03 | -0.13 | -0.24 |  0.59 |  0.32 |\n",
       "| statement4 |  0.45 | -0.12 |  0.59 |  1.00 | -0.08 | -0.21 | -0.19 |  0.63 |  0.37 |\n",
       "| statement5 |  0.03 |  0.49 |  0.03 | -0.08 |  1.00 |  0.47 |  0.41 | -0.14 | -0.24 |\n",
       "| statement6 | -0.29 |  0.43 | -0.13 | -0.21 |  0.47 |  1.00 |  0.63 | -0.13 | -0.15 |\n",
       "| statement7 | -0.30 |  0.30 | -0.24 | -0.19 |  0.41 |  0.63 |  1.00 | -0.26 | -0.29 |\n",
       "| statement8 |  0.45 | -0.31 |  0.59 |  0.63 | -0.14 | -0.13 | -0.26 |  1.00 |  0.40 |\n",
       "| statement9 |  0.30 | -0.17 |  0.32 |  0.37 | -0.24 | -0.15 | -0.29 |  0.40 |  1.00 |\n",
       "\n"
      ],
      "text/plain": [
       "           statement1 statement2 statement3 statement4 statement5 statement6\n",
       "statement1  1.00      -0.04       0.61       0.45       0.03      -0.29     \n",
       "statement2 -0.04       1.00      -0.07      -0.12       0.49       0.43     \n",
       "statement3  0.61      -0.07       1.00       0.59       0.03      -0.13     \n",
       "statement4  0.45      -0.12       0.59       1.00      -0.08      -0.21     \n",
       "statement5  0.03       0.49       0.03      -0.08       1.00       0.47     \n",
       "statement6 -0.29       0.43      -0.13      -0.21       0.47       1.00     \n",
       "statement7 -0.30       0.30      -0.24      -0.19       0.41       0.63     \n",
       "statement8  0.45      -0.31       0.59       0.63      -0.14      -0.13     \n",
       "statement9  0.30      -0.17       0.32       0.37      -0.24      -0.15     \n",
       "           statement7 statement8 statement9\n",
       "statement1 -0.30       0.45       0.30     \n",
       "statement2  0.30      -0.31      -0.17     \n",
       "statement3 -0.24       0.59       0.32     \n",
       "statement4 -0.19       0.63       0.37     \n",
       "statement5  0.41      -0.14      -0.24     \n",
       "statement6  0.63      -0.13      -0.15     \n",
       "statement7  1.00      -0.26      -0.29     \n",
       "statement8 -0.26       1.00       0.40     \n",
       "statement9 -0.29       0.40       1.00     "
      ]
     },
     "metadata": {},
     "output_type": "display_data"
    }
   ],
   "source": [
    "name1 <- paste0(\"statement\", 1:9)\n",
    "dimnames(corr_mat_2) <- list(name1, name1)\n",
    "corr_mat_2"
   ]
  },
  {
   "cell_type": "markdown",
   "metadata": {},
   "source": [
    "(a) Perform a principal components analysis on these data, and exam\u0002ine the associated scree plot to decide on the appropriate number of\n",
    "components."
   ]
  },
  {
   "cell_type": "code",
   "execution_count": 182,
   "metadata": {
    "vscode": {
     "languageId": "r"
    }
   },
   "outputs": [],
   "source": [
    "library(factoextra)"
   ]
  },
  {
   "cell_type": "code",
   "execution_count": 183,
   "metadata": {
    "vscode": {
     "languageId": "r"
    }
   },
   "outputs": [],
   "source": [
    "model2 <- princomp(covmat = corr_mat_2)"
   ]
  },
  {
   "cell_type": "code",
   "execution_count": 190,
   "metadata": {
    "vscode": {
     "languageId": "r"
    }
   },
   "outputs": [
    {
     "data": {
      "image/png": "[encoded data removed]",
      "text/plain": [
       "plot without title"
      ]
     },
     "metadata": {
      "image/png": {
       "height": 420,
       "width": 420
      }
     },
     "output_type": "display_data"
    }
   ],
   "source": [
    "fviz_screeplot(model2, addlabels = T)"
   ]
  },
  {
   "cell_type": "markdown",
   "metadata": {},
   "source": [
    "(b) Apply maximum likelihood factor analysis, and use the test described\n",
    "in the chapter to select the necessary number of common factors."
   ]
  },
  {
   "cell_type": "code",
   "execution_count": 210,
   "metadata": {
    "vscode": {
     "languageId": "r"
    }
   },
   "outputs": [
    {
     "name": "stdout",
     "output_type": "stream",
     "text": [
      "pvalue for 1 factor = 0.000000   \n",
      "pvalue for 2 factor = 0.000002   \n",
      "pvalue for 3 factor = 0.063963   \n",
      "pvalue for 4 factor = 0.051741   \n",
      "pvalue for 5 factor = 0.291072   \n"
     ]
    },
    {
     "data": {
      "text/html": [
       "<style>\n",
       ".list-inline {list-style: none; margin:0; padding: 0}\n",
       ".list-inline>li {display: inline-block}\n",
       ".list-inline>li:not(:last-child)::after {content: \"\\00b7\"; padding: 0 .5ex}\n",
       "</style>\n",
       "<ol class=list-inline><li>''</li><li>''</li><li>''</li><li>''</li><li>''</li></ol>\n"
      ],
      "text/latex": [
       "\\begin{enumerate*}\n",
       "\\item ''\n",
       "\\item ''\n",
       "\\item ''\n",
       "\\item ''\n",
       "\\item ''\n",
       "\\end{enumerate*}\n"
      ],
      "text/markdown": [
       "1. ''\n",
       "2. ''\n",
       "3. ''\n",
       "4. ''\n",
       "5. ''\n",
       "\n",
       "\n"
      ],
      "text/plain": [
       "[1] \"\" \"\" \"\" \"\" \"\""
      ]
     },
     "metadata": {},
     "output_type": "display_data"
    }
   ],
   "source": [
    "m <- 5\n",
    "sapply(1:m, function(x){\n",
    "    model_temp <- fa(r = corr_mat_2, nfactors = x, \n",
    "    n.obs = n)\n",
    "    cat(sprintf(\"pvalue for %d factor = %.6f   \\n\", x, model_temp$PVAL))\n",
    "    \"\"\n",
    "})"
   ]
  },
  {
   "cell_type": "markdown",
   "metadata": {},
   "source": [
    "(c) Rotate the factor solution selected using both an orthogonal and an\n",
    "oblique procedure, and interpret the results."
   ]
  },
  {
   "cell_type": "code",
   "execution_count": 225,
   "metadata": {
    "vscode": {
     "languageId": "r"
    }
   },
   "outputs": [],
   "source": [
    "library(GPArotation)\n",
    "model_1_ob <- fa(r = corr_mat_2, nfactors = 2, n.obs = n, rotate = \"oblimin\")\n",
    "model_2_var <- fa(r = corr_mat_2, n.obs = n, nfactors = 2, rotate = \"varimax\")"
   ]
  },
  {
   "cell_type": "code",
   "execution_count": 226,
   "metadata": {
    "vscode": {
     "languageId": "r"
    }
   },
   "outputs": [
    {
     "data": {
      "text/plain": [
       "Factor Analysis using method =  minres\n",
       "Call: fa(r = corr_mat_2, nfactors = 2, n.obs = n, rotate = \"oblimin\")\n",
       "Standardized loadings (pattern matrix) based upon correlation matrix\n",
       "             MR1   MR2   h2   u2 com\n",
       "statement1  0.66 -0.03 0.45 0.55 1.0\n",
       "statement2 -0.01  0.58 0.34 0.66 1.0\n",
       "statement3  0.85  0.10 0.69 0.31 1.0\n",
       "statement4  0.74 -0.02 0.55 0.45 1.0\n",
       "statement5  0.13  0.74 0.51 0.49 1.1\n",
       "statement6 -0.04  0.74 0.57 0.43 1.0\n",
       "statement7 -0.17  0.63 0.48 0.52 1.1\n",
       "statement8  0.72 -0.10 0.57 0.43 1.0\n",
       "statement9  0.40 -0.20 0.25 0.75 1.5\n",
       "\n",
       "                       MR1  MR2\n",
       "SS loadings           2.48 1.93\n",
       "Proportion Var        0.28 0.21\n",
       "Cumulative Var        0.28 0.49\n",
       "Proportion Explained  0.56 0.44\n",
       "Cumulative Proportion 0.56 1.00\n",
       "\n",
       " With factor correlations of \n",
       "      MR1   MR2\n",
       "MR1  1.00 -0.26\n",
       "MR2 -0.26  1.00\n",
       "\n",
       "Mean item complexity =  1.1\n",
       "Test of the hypothesis that 2 factors are sufficient.\n",
       "\n",
       "The degrees of freedom for the null model are  36  and the objective function was  3.4 with Chi Square of  401.56\n",
       "The degrees of freedom for the model are 19  and the objective function was  0.53 \n",
       "\n",
       "The root mean square of the residuals (RMSR) is  0.06 \n",
       "The df corrected root mean square of the residuals is  0.09 \n",
       "\n",
       "The harmonic number of observations is  123 with the empirical chi square  34.52  with prob <  0.016 \n",
       "The total number of observations was  123  with Likelihood Chi Square =  61.45  with prob <  2.3e-06 \n",
       "\n",
       "Tucker Lewis Index of factoring reliability =  0.777\n",
       "RMSEA index =  0.135  and the 90 % confidence intervals are  0.098 0.174\n",
       "BIC =  -29.99\n",
       "Fit based upon off diagonal values = 0.97\n",
       "Measures of factor score adequacy             \n",
       "                                                   MR1  MR2\n",
       "Correlation of (regression) scores with factors   0.93 0.89\n",
       "Multiple R square of scores with factors          0.86 0.79\n",
       "Minimum correlation of possible factor scores     0.71 0.59"
      ]
     },
     "metadata": {},
     "output_type": "display_data"
    }
   ],
   "source": [
    "model_1_ob"
   ]
  },
  {
   "cell_type": "code",
   "execution_count": 227,
   "metadata": {
    "vscode": {
     "languageId": "r"
    }
   },
   "outputs": [
    {
     "data": {
      "text/plain": [
       "Factor Analysis using method =  minres\n",
       "Call: fa(r = corr_mat_2, nfactors = 2, n.obs = n, rotate = \"varimax\")\n",
       "Standardized loadings (pattern matrix) based upon correlation matrix\n",
       "             MR1   MR2   h2   u2 com\n",
       "statement1  0.66 -0.10 0.45 0.55 1.0\n",
       "statement2 -0.10  0.58 0.34 0.66 1.1\n",
       "statement3  0.83  0.01 0.69 0.31 1.0\n",
       "statement4  0.74 -0.10 0.55 0.45 1.0\n",
       "statement5  0.02  0.71 0.51 0.49 1.0\n",
       "statement6 -0.16  0.74 0.57 0.43 1.1\n",
       "statement7 -0.26  0.64 0.48 0.52 1.3\n",
       "statement8  0.74 -0.17 0.57 0.43 1.1\n",
       "statement9  0.43 -0.24 0.25 0.75 1.6\n",
       "\n",
       "                       MR1  MR2\n",
       "SS loadings           2.50 1.90\n",
       "Proportion Var        0.28 0.21\n",
       "Cumulative Var        0.28 0.49\n",
       "Proportion Explained  0.57 0.43\n",
       "Cumulative Proportion 0.57 1.00\n",
       "\n",
       "Mean item complexity =  1.1\n",
       "Test of the hypothesis that 2 factors are sufficient.\n",
       "\n",
       "The degrees of freedom for the null model are  36  and the objective function was  3.4 with Chi Square of  401.56\n",
       "The degrees of freedom for the model are 19  and the objective function was  0.53 \n",
       "\n",
       "The root mean square of the residuals (RMSR) is  0.06 \n",
       "The df corrected root mean square of the residuals is  0.09 \n",
       "\n",
       "The harmonic number of observations is  123 with the empirical chi square  34.52  with prob <  0.016 \n",
       "The total number of observations was  123  with Likelihood Chi Square =  61.45  with prob <  2.3e-06 \n",
       "\n",
       "Tucker Lewis Index of factoring reliability =  0.777\n",
       "RMSEA index =  0.135  and the 90 % confidence intervals are  0.098 0.174\n",
       "BIC =  -29.99\n",
       "Fit based upon off diagonal values = 0.97\n",
       "Measures of factor score adequacy             \n",
       "                                                   MR1  MR2\n",
       "Correlation of (regression) scores with factors   0.92 0.88\n",
       "Multiple R square of scores with factors          0.85 0.78\n",
       "Minimum correlation of possible factor scores     0.70 0.56"
      ]
     },
     "metadata": {},
     "output_type": "display_data"
    }
   ],
   "source": [
    "model_2_var"
   ]
  },
  {
   "cell_type": "code",
   "execution_count": 228,
   "metadata": {
    "vscode": {
     "languageId": "r"
    }
   },
   "outputs": [],
   "source": [
    "loadingss_ob <- model_1_ob$loadings[]\n",
    "loadingss_var <- model_2_var$loadings[]"
   ]
  },
  {
   "cell_type": "code",
   "execution_count": 235,
   "metadata": {
    "vscode": {
     "languageId": "r"
    }
   },
   "outputs": [
    {
     "data": {
      "image/png": "[encoded data removed]",
      "text/plain": [
       "plot without title"
      ]
     },
     "metadata": {
      "image/png": {
       "height": 420,
       "width": 420
      }
     },
     "output_type": "display_data"
    }
   ],
   "source": [
    "library(ggrepel)\n",
    "loadingss_ob %>%\n",
    "as.data.frame %>%\n",
    "rownames_to_column(var = \"state\") %>%\n",
    "ggplot(aes(x = MR1, y = MR2)) +\n",
    "geom_label_repel(aes(label = state), fill = 'yellow') +\n",
    "labs(title = \"oblimin Model\")+\n",
    "theme_bw()"
   ]
  },
  {
   "cell_type": "code",
   "execution_count": 237,
   "metadata": {
    "vscode": {
     "languageId": "r"
    }
   },
   "outputs": [
    {
     "data": {
      "image/png": "[encoded data removed]",
      "text/plain": [
       "plot without title"
      ]
     },
     "metadata": {
      "image/png": {
       "height": 420,
       "width": 420
      }
     },
     "output_type": "display_data"
    }
   ],
   "source": [
    "loadingss_var %>%\n",
    "as.data.frame %>%\n",
    "rownames_to_column(var = \"state\") %>%\n",
    "ggplot(aes(x = MR1, y = MR2)) +\n",
    "geom_label_repel(aes(label = state), fill = 'yellow') +\n",
    "labs(title = \"varimax Model\")+\n",
    "theme_bw()"
   ]
  },
  {
   "cell_type": "code",
   "execution_count": 233,
   "metadata": {
    "vscode": {
     "languageId": "r"
    }
   },
   "outputs": [
    {
     "data": {
      "image/png": "[encoded data removed]",
      "text/plain": [
       "Plot with title \"Factor Analysis\""
      ]
     },
     "metadata": {
      "image/png": {
       "height": 420,
       "width": 420
      }
     },
     "output_type": "display_data"
    },
    {
     "data": {
      "image/png": "[encoded data removed]",
      "text/plain": [
       "Plot with title \"Factor Analysis\""
      ]
     },
     "metadata": {
      "image/png": {
       "height": 420,
       "width": 420
      }
     },
     "output_type": "display_data"
    }
   ],
   "source": [
    "fa.diagram(model_1_ob)\n",
    "fa.diagram(model_2_var)"
   ]
  }
 ],
 "metadata": {
  "kernelspec": {
   "display_name": "R",
   "language": "R",
   "name": "ir"
  },
  "language_info": {
   "codemirror_mode": "r",
   "file_extension": ".r",
   "mimetype": "text/x-r-source",
   "name": "R",
   "pygments_lexer": "r",
   "version": "4.2.2"
  },
  "orig_nbformat": 4
 },
 "nbformat": 4,
 "nbformat_minor": 2
}
